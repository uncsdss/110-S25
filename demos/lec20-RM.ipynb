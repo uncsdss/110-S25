{
 "cells": [
  {
   "cell_type": "code",
   "execution_count": null,
   "id": "30279bd3-481b-4ca7-a20b-350d8334ad67",
   "metadata": {},
   "outputs": [],
   "source": [
    "import numpy as np\n",
    "import seaborn as sns\n",
    "from matplotlib import pyplot as plt\n",
    "import pandas as pd"
   ]
  },
  {
   "cell_type": "markdown",
   "id": "71dbc6f3-6222-40ba-9895-08f5be51afad",
   "metadata": {},
   "source": [
    "# Underfitting and overfitting\n",
    "\n"
   ]
  },
  {
   "cell_type": "markdown",
   "id": "14ce24d2",
   "metadata": {},
   "source": [
    "## Decision tree classifier"
   ]
  },
  {
   "cell_type": "code",
   "execution_count": null,
   "id": "8545282a-bb82-4e09-b47e-26fa3212593e",
   "metadata": {},
   "outputs": [],
   "source": [
    "titanic = pd.read_csv('titanic.csv')\n",
    "\n",
    "titanic = titanic.drop(columns=['Name']) # drop the column 'Name'\n",
    "is_F = (titanic['Sex']=='female') # array of True and False\n",
    "titanic['Sex'] = is_F.astype(int) # 1 = female, 0 = male\n",
    "train = titanic.sample(frac=0.8) # 80% rows for training\n",
    "test = titanic.drop(index=train.index)\n",
    "\n",
    "y_train = train['Survived']\n",
    "X_train = train.drop(columns=['Survived'])\n",
    "print(X_train.shape, y_train.shape)\n",
    "\n",
    "y_test = test['Survived']\n",
    "X_test = test.drop(columns=['Survived']) \n",
    "print(X_test.shape, y_test.shape)"
   ]
  },
  {
   "cell_type": "code",
   "execution_count": null,
   "id": "23bd0f41-6d58-403d-b504-4d8a2961970a",
   "metadata": {},
   "outputs": [],
   "source": [
    "from sklearn import tree\n",
    "\n",
    "T2 = tree.DecisionTreeClassifier(max_depth=2)\n",
    "T20 = tree.DecisionTreeClassifier(max_depth=20)\n",
    "\n",
    "T2.fit(X_train, y_train)\n",
    "T20.fit(X_train, y_train)"
   ]
  },
  {
   "cell_type": "code",
   "execution_count": null,
   "id": "6a30552a-b474-47d3-90e1-d2a351fed4df",
   "metadata": {},
   "outputs": [],
   "source": [
    "fig, ax = plt.subplots(1, figsize = (10, 10))\n",
    "p = tree.plot_tree(T2, \n",
    "                   filled=True, \n",
    "                   feature_names=X_train.columns)"
   ]
  },
  {
   "cell_type": "code",
   "execution_count": null,
   "id": "5e5b26e7-df3a-4d7d-84cc-13a1bc71b4a6",
   "metadata": {},
   "outputs": [],
   "source": [
    "fig, ax = plt.subplots(1, figsize = (10, 10))\n",
    "p = tree.plot_tree(T20, \n",
    "                   filled=True, \n",
    "                   feature_names=X_train.columns)"
   ]
  },
  {
   "cell_type": "code",
   "execution_count": null,
   "id": "eac859ee-aa11-4beb-bb17-df49e5884840",
   "metadata": {},
   "outputs": [],
   "source": [
    "print('max_depth 2')\n",
    "print('Train score:',T2.score(X_train, y_train))\n",
    "print('Test score:',T2.score(X_test, y_test))\n",
    "print()\n",
    "print('max_depth 20')\n",
    "print('Train score:',T20.score(X_train, y_train))\n",
    "print('Test score:',T20.score(X_test, y_test))"
   ]
  },
  {
   "cell_type": "code",
   "execution_count": null,
   "id": "7cb67e30-708b-4f65-9e33-eb536c833402",
   "metadata": {},
   "outputs": [],
   "source": [
    "depths = range(1, 31)\n",
    "train_scores = []\n",
    "test_scores = []\n",
    "\n",
    "for depth in depths:\n",
    "    T = tree.DecisionTreeClassifier(max_depth=depth, criterion='gini')\n",
    "    T.fit(X_train, y_train)\n",
    "    train_scores.append(T.score(X_train, y_train))\n",
    "    test_scores.append(T.score(X_test, y_test))\n",
    "\n",
    "fig, ax = plt.subplots(1)\n",
    "sns.scatterplot(x=depths, y=train_scores, label='train')\n",
    "sns.scatterplot(x=depths, y=test_scores, label='test')\n",
    "ax.set_xlabel('Depth of tree')\n",
    "ax.set_ylabel('Accuracy')\n"
   ]
  },
  {
   "cell_type": "markdown",
   "id": "acb593a1-01bb-42f2-8c27-9e5cc9e7d463",
   "metadata": {},
   "source": [
    "## Polynomial regression"
   ]
  },
  {
   "cell_type": "code",
   "execution_count": null,
   "id": "10360291-9df6-4303-a5c3-8bdf9b7adaf3",
   "metadata": {},
   "outputs": [],
   "source": [
    "# controls random number generation\n",
    "# always get the same data\n",
    "np.random.seed(1234) \n",
    "\n",
    "# true model is linear with a = 1 and b = 1\n",
    "a = 1\n",
    "b = 1\n",
    "\n",
    "n_points = 100\n",
    "\n",
    "X = np.random.rand(n_points)\n",
    "Y = a*X + b + 0.2*np.random.randn(n_points) # final term is random noise"
   ]
  },
  {
   "cell_type": "code",
   "execution_count": null,
   "id": "08eb9762",
   "metadata": {},
   "outputs": [],
   "source": [
    "fig, ax = plt.subplots(1)\n",
    "\n",
    "ax.plot([0,1], [1, 2], color = \"black\", label = \"true model\")\n",
    "ax.scatter(X, Y, label = \"data\")\n",
    "ax.set(xlabel='X', ylabel='Y')\n",
    "plt.legend()"
   ]
  },
  {
   "cell_type": "code",
   "execution_count": null,
   "id": "d0364827",
   "metadata": {},
   "outputs": [],
   "source": [
    "df = pd.DataFrame(data={'Y': Y, 'X': X})\n",
    "train = df.sample(frac=0.8) # 80% rows for training\n",
    "test = df.drop(index=train.index) # rest of rows for testing\n",
    "print(train.shape, test.shape)"
   ]
  },
  {
   "cell_type": "code",
   "execution_count": null,
   "id": "85d3a5c9",
   "metadata": {},
   "outputs": [],
   "source": [
    "y_train = train['Y']\n",
    "X_train = train.drop(columns=['Y'])\n",
    "print(X_train.shape, y_train.shape)\n",
    "\n",
    "y_test = test['Y']\n",
    "X_test = test.drop(columns=['Y']) \n",
    "print(X_test.shape, y_test.shape)"
   ]
  },
  {
   "cell_type": "code",
   "execution_count": null,
   "id": "9ff6461a-b3e3-4027-b51d-81dd6441056e",
   "metadata": {},
   "outputs": [],
   "source": [
    "from sklearn.preprocessing import PolynomialFeatures\n",
    "from sklearn.linear_model import LinearRegression\n",
    "from sklearn.pipeline import make_pipeline\n",
    "\n",
    "def PolynomialRegression(degree=2, **kwargs):\n",
    "    return make_pipeline(PolynomialFeatures(degree),\n",
    "                         LinearRegression(**kwargs))"
   ]
  },
  {
   "cell_type": "code",
   "execution_count": null,
   "id": "6c887771-9df8-4aa6-9866-6151d6104ed8",
   "metadata": {},
   "outputs": [],
   "source": [
    "model1 = PolynomialRegression(1)\n",
    "model1.fit(X_train, y_train)\n",
    "model2 = PolynomialRegression(20)\n",
    "model2.fit(X_train, y_train)"
   ]
  },
  {
   "cell_type": "code",
   "execution_count": null,
   "id": "3826b175-b120-498c-84b6-7b8a767edf64",
   "metadata": {},
   "outputs": [],
   "source": [
    "prediction_inputs = pd.DataFrame(data={'X': np.linspace(0.01, 1, 1000)})\n",
    "\n",
    "fig, ax = plt.subplots(1)\n",
    "\n",
    "ax.plot(prediction_inputs, model1.predict(prediction_inputs), color = \"red\", label = \"linear\")\n",
    "ax.plot(prediction_inputs, model2.predict(prediction_inputs), color = \"green\", label = \"degree 20\")\n",
    "\n",
    "ax.scatter(X_train, y_train, marker='*', label = \"train data\")\n",
    "ax.scatter(X_test, y_test, label = \"test data\")\n",
    "\n",
    "ax.set(xlabel='X', ylabel='Y')\n",
    "plt.legend()"
   ]
  },
  {
   "cell_type": "code",
   "execution_count": null,
   "id": "7ae3362f-9daa-490f-9351-e98c8bdee4a7",
   "metadata": {},
   "outputs": [],
   "source": [
    "print('model 1 with degree 1 (linear)')\n",
    "print('Train score:',model1.score(X_train, y_train))\n",
    "print('Test score:',model1.score(X_test, y_test))\n",
    "print()\n",
    "print('model 2 with degree 20')\n",
    "print('Train score:',model2.score(X_train, y_train))\n",
    "print('Test score:',model2.score(X_test, y_test))\n"
   ]
  },
  {
   "cell_type": "code",
   "execution_count": null,
   "id": "55708826-c48d-4e25-b254-e5a02ace6446",
   "metadata": {},
   "outputs": [],
   "source": [
    "degrees = range(1, 31)\n",
    "train_scores = []\n",
    "test_scores = []\n",
    "\n",
    "for degree in degrees:\n",
    "    lr = PolynomialRegression(degree).fit(X_train, y_train)\n",
    "    train_scores.append(lr.score(X_train, y_train))\n",
    "    test_scores.append(lr.score(X_test, y_test))\n",
    "\n",
    "fig, ax = plt.subplots(1)\n",
    "sns.scatterplot(x=degrees, y=train_scores, label='train')\n",
    "sns.scatterplot(x=degrees, y=test_scores, label='test')\n",
    "ax.set_xlabel('Degree of polynomial regression')\n",
    "ax.set_ylabel('$R^2$ score')"
   ]
  },
  {
   "cell_type": "code",
   "execution_count": null,
   "id": "dfdbd225",
   "metadata": {},
   "outputs": [],
   "source": []
  },
  {
   "cell_type": "markdown",
   "id": "f52adc4e",
   "metadata": {},
   "source": [
    "## (Overly) simple example from lecture slides\n",
    "\n",
    "The code below does some model fitting for the example described in class (for Rick Marks section).  This not enough data to be confident about any kind of model!  It is intentionally simple so as to illustrate potential issues of fitting models."
   ]
  },
  {
   "cell_type": "code",
   "execution_count": null,
   "id": "1196ad0b",
   "metadata": {},
   "outputs": [],
   "source": [
    "# create a table of the data shown in the slides in class\n",
    "df=pd.DataFrame({\n",
    "    'Day': ['Mon', 'Tue', 'Wed', 'Thu', 'Fri', 'Sat', 'Sun','Mon', 'Tue', 'Wed', 'Thu', 'Fri', 'Sat'],\n",
    "    'Value': [190, 189.4, 188.8, 188.2, 187.5, 187, 187.8, 187.2, 186.7, 186.2, 185.8, 185.4, 185],\n",
    "    'Value Change': [float('nan'), -0.6, -0.6, -0.6, -0.7, -0.5, 0.8, -0.6, -0.5, -0.5, -0.4, -0.4, -0.4]})\n",
    "df=df.reset_index() # add the index as a column (feature)\n",
    "df  "
   ]
  },
  {
   "cell_type": "code",
   "execution_count": null,
   "id": "952cddf9",
   "metadata": {},
   "outputs": [],
   "source": [
    "# looks a lot like the slide\n",
    "sns.scatterplot(df,x='index',y='Value')\n",
    "plt.ylim(175, 200)"
   ]
  },
  {
   "cell_type": "code",
   "execution_count": null,
   "id": "85704285",
   "metadata": {},
   "outputs": [],
   "source": [
    "# look at just the change in the value.  Note the potential outlier.\n",
    "sns.scatterplot(df,x='index',y='Value Change')\n"
   ]
  },
  {
   "cell_type": "code",
   "execution_count": null,
   "id": "bbd55b4e",
   "metadata": {},
   "outputs": [],
   "source": [
    "# visualize the change in value by day\n",
    "sns.boxplot(df,x='Day',y='Value Change')\n"
   ]
  },
  {
   "cell_type": "markdown",
   "id": "6f61a3a7",
   "metadata": {},
   "source": [
    "## Linear regression"
   ]
  },
  {
   "cell_type": "markdown",
   "id": "eb4ac93e",
   "metadata": {},
   "source": [
    "### Predict Value based on index\n",
    "\n",
    "What if we try a simple linear regression model to predict Value, using the index? "
   ]
  },
  {
   "cell_type": "code",
   "execution_count": null,
   "id": "c99ec6d2",
   "metadata": {},
   "outputs": [],
   "source": [
    "X1 = df.drop(columns=['Value Change','Value','Day'])\n",
    "y1 = df['Value']\n",
    "\n",
    "from sklearn.linear_model import LinearRegression\n",
    "LM1 = LinearRegression(fit_intercept=True)\n",
    "\n",
    "LM1.fit(X1, y1)\n",
    "LM1.score(X1, y1)\n"
   ]
  },
  {
   "cell_type": "code",
   "execution_count": null,
   "id": "8b222931",
   "metadata": {},
   "outputs": [],
   "source": [
    "# visualize the result\n",
    "fig, ax = plt.subplots(1)\n",
    "ax.plot(df['index'], LM1.predict(X1), color = \"red\", label = \"linear regression\")\n",
    "ax.scatter(X1, y1, marker='*', label = \"train data\")\n",
    "plt.ylim(175, 200)\n",
    "plt.legend()"
   ]
  },
  {
   "cell_type": "code",
   "execution_count": null,
   "id": "cf757b05",
   "metadata": {},
   "outputs": [],
   "source": [
    "LM1.predict(pd.DataFrame({'index': [13]}))"
   ]
  },
  {
   "cell_type": "markdown",
   "id": "5ffe053a",
   "metadata": {},
   "source": [
    "### Predict Value Change based on index\n",
    "\n",
    "What if instead we used simple linear regression to prediction the change in value?"
   ]
  },
  {
   "cell_type": "code",
   "execution_count": null,
   "id": "5584ac65",
   "metadata": {},
   "outputs": [],
   "source": [
    "df_clean=df.dropna().copy() # this will drop the first row because there is no value change for that sample\n",
    "df_clean "
   ]
  },
  {
   "cell_type": "code",
   "execution_count": null,
   "id": "c55c5809",
   "metadata": {},
   "outputs": [],
   "source": [
    "X2 = df_clean.drop(columns=['Value Change','Value','Day'])\n",
    "y2 = df_clean['Value Change']\n",
    "\n",
    "from sklearn.linear_model import LinearRegression\n",
    "LM2 = LinearRegression(fit_intercept=True)\n",
    "\n",
    "LM2.fit(X2, y2)\n",
    "LM2.score(X2, y2) # as you see below, not a very good fit score (mostly due to value change for index 6)"
   ]
  },
  {
   "cell_type": "code",
   "execution_count": null,
   "id": "4e632b6f",
   "metadata": {},
   "outputs": [],
   "source": [
    "fig, ax = plt.subplots(1)\n",
    "ax.plot(df_clean['index'], LM2.predict(X2), color = \"red\", label = \"linear regression\")\n",
    "plt.scatter(X2, y2, marker='*', label = \"train data\")\n",
    "plt.legend()"
   ]
  },
  {
   "cell_type": "code",
   "execution_count": null,
   "id": "bda72d5b",
   "metadata": {},
   "outputs": [],
   "source": [
    "LM2.predict(pd.DataFrame({'index': [13]}))"
   ]
  },
  {
   "cell_type": "markdown",
   "id": "f15dedc2",
   "metadata": {},
   "source": [
    "## Decision tree\n",
    "\n",
    "Now let's try a decision tree on this data instead."
   ]
  },
  {
   "cell_type": "markdown",
   "id": "23893b0d",
   "metadata": {},
   "source": [
    "### Predict Value Change direction based on index"
   ]
  },
  {
   "cell_type": "code",
   "execution_count": null,
   "id": "db093aa8",
   "metadata": {},
   "outputs": [],
   "source": [
    "df_clean_tree = df_clean.copy()\n",
    "# convert the value change to a categorical variable\n",
    "df_clean_tree['Value Change direction'] = 'no change'\n",
    "\n",
    "#change df_clean_tree['Value Change cat'] to increase or decrease\n",
    "df_clean_tree.loc[df_clean_tree['Value Change']<0.0, 'Value Change direction'] = 'decrease'  \n",
    "df_clean_tree.loc[df_clean_tree['Value Change']>0.0, 'Value Change direction'] = 'increase'\n",
    "\n",
    "df_clean_tree\n"
   ]
  },
  {
   "cell_type": "code",
   "execution_count": null,
   "id": "25042d64",
   "metadata": {},
   "outputs": [],
   "source": [
    "Xt1 = df_clean_tree.drop(columns=['Value Change','Value','Day','Value Change direction'])\n",
    "yt1 = df_clean_tree['Value Change direction']\n",
    "from sklearn import tree\n",
    "T1 = tree.DecisionTreeClassifier(max_depth=2)\n",
    "T1.fit(Xt1, yt1)\n",
    "fig, ax = plt.subplots(1, figsize = (8, 8))\n",
    "p = tree.plot_tree(T1, \n",
    "                   filled=True, \n",
    "                   feature_names=Xt1.columns)\n"
   ]
  },
  {
   "cell_type": "code",
   "execution_count": null,
   "id": "93af78a4",
   "metadata": {},
   "outputs": [],
   "source": [
    "\n",
    "T1.predict(pd.DataFrame({'index': [13]}))"
   ]
  },
  {
   "cell_type": "markdown",
   "id": "caed12a4",
   "metadata": {},
   "source": [
    "### Predict Value Change direction based on Day of the week"
   ]
  },
  {
   "cell_type": "code",
   "execution_count": null,
   "id": "89cff8d2",
   "metadata": {},
   "outputs": [],
   "source": [
    "# convert the Day to a numeric variable so we can use it in the decision tree\n",
    "# this is not \n",
    "df_clean_tree['Day numeric'] = df_clean_tree['Day'].map({'Mon': 0, 'Tue': 1, 'Wed': 2, 'Thu': 3, 'Fri': 4, 'Sat': 5, 'Sun': 6})\n",
    "df_clean_tree\n"
   ]
  },
  {
   "cell_type": "code",
   "execution_count": null,
   "id": "c3fa12ed",
   "metadata": {},
   "outputs": [],
   "source": [
    "Xt2 = df_clean_tree.drop(columns=['Value Change','Value','Day','Value Change direction','index'])\n",
    "yt2 = df_clean_tree['Value Change direction']\n",
    "from sklearn import tree\n",
    "T2 = tree.DecisionTreeClassifier(max_depth=2)\n",
    "T2.fit(Xt2, yt2)\n",
    "fig, ax = plt.subplots(1, figsize = (8, 8))\n",
    "p = tree.plot_tree(T2, \n",
    "                   filled=True, \n",
    "                   feature_names=Xt2.columns)"
   ]
  },
  {
   "cell_type": "code",
   "execution_count": null,
   "id": "8a0f6bad",
   "metadata": {},
   "outputs": [],
   "source": [
    "T2.predict(pd.DataFrame({'Day numeric': [6]}))"
   ]
  }
 ],
 "metadata": {
  "kernelspec": {
   "display_name": "Python 3",
   "language": "python",
   "name": "python3"
  },
  "language_info": {
   "codemirror_mode": {
    "name": "ipython",
    "version": 3
   },
   "file_extension": ".py",
   "mimetype": "text/x-python",
   "name": "python",
   "nbconvert_exporter": "python",
   "pygments_lexer": "ipython3",
   "version": "3.12.9"
  }
 },
 "nbformat": 4,
 "nbformat_minor": 5
}
