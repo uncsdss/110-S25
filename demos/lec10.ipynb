{
 "cells": [
  {
   "cell_type": "code",
   "execution_count": 2,
   "id": "7acc44fa-5c48-4400-b98c-b75a87b68e49",
   "metadata": {},
   "outputs": [],
   "source": [
    "import pandas as pd\n",
    "import seaborn as sns"
   ]
  },
  {
   "cell_type": "code",
   "execution_count": 27,
   "id": "22db2276-a4b1-4bb3-8d0d-6a404cbdf10d",
   "metadata": {},
   "outputs": [],
   "source": [
    "# Mean, Median, and Mode"
   ]
  },
  {
   "cell_type": "code",
   "execution_count": 3,
   "id": "0ea28fee-6906-48bd-9987-772e391ca8f5",
   "metadata": {},
   "outputs": [
    {
     "data": {
      "text/html": [
       "<div>\n",
       "<style scoped>\n",
       "    .dataframe tbody tr th:only-of-type {\n",
       "        vertical-align: middle;\n",
       "    }\n",
       "\n",
       "    .dataframe tbody tr th {\n",
       "        vertical-align: top;\n",
       "    }\n",
       "\n",
       "    .dataframe thead th {\n",
       "        text-align: right;\n",
       "    }\n",
       "</style>\n",
       "<table border=\"1\" class=\"dataframe\">\n",
       "  <thead>\n",
       "    <tr style=\"text-align: right;\">\n",
       "      <th></th>\n",
       "      <th>Title</th>\n",
       "      <th>Studio</th>\n",
       "      <th>Gross</th>\n",
       "      <th>Gross (Adjusted)</th>\n",
       "      <th>Year</th>\n",
       "    </tr>\n",
       "  </thead>\n",
       "  <tbody>\n",
       "    <tr>\n",
       "      <th>0</th>\n",
       "      <td>Gone with the Wind</td>\n",
       "      <td>MGM</td>\n",
       "      <td>198676459</td>\n",
       "      <td>1796176700</td>\n",
       "      <td>1939</td>\n",
       "    </tr>\n",
       "    <tr>\n",
       "      <th>1</th>\n",
       "      <td>Star Wars</td>\n",
       "      <td>Fox</td>\n",
       "      <td>460998007</td>\n",
       "      <td>1583483200</td>\n",
       "      <td>1977</td>\n",
       "    </tr>\n",
       "    <tr>\n",
       "      <th>2</th>\n",
       "      <td>The Sound of Music</td>\n",
       "      <td>Fox</td>\n",
       "      <td>158671368</td>\n",
       "      <td>1266072700</td>\n",
       "      <td>1965</td>\n",
       "    </tr>\n",
       "    <tr>\n",
       "      <th>3</th>\n",
       "      <td>E.T.: The Extra-Terrestrial</td>\n",
       "      <td>Universal</td>\n",
       "      <td>435110554</td>\n",
       "      <td>1261085000</td>\n",
       "      <td>1982</td>\n",
       "    </tr>\n",
       "    <tr>\n",
       "      <th>4</th>\n",
       "      <td>Titanic</td>\n",
       "      <td>Paramount</td>\n",
       "      <td>658672302</td>\n",
       "      <td>1204368000</td>\n",
       "      <td>1997</td>\n",
       "    </tr>\n",
       "    <tr>\n",
       "      <th>...</th>\n",
       "      <td>...</td>\n",
       "      <td>...</td>\n",
       "      <td>...</td>\n",
       "      <td>...</td>\n",
       "      <td>...</td>\n",
       "    </tr>\n",
       "    <tr>\n",
       "      <th>195</th>\n",
       "      <td>9 to 5</td>\n",
       "      <td>Fox</td>\n",
       "      <td>103290500</td>\n",
       "      <td>341357800</td>\n",
       "      <td>1980</td>\n",
       "    </tr>\n",
       "    <tr>\n",
       "      <th>196</th>\n",
       "      <td>Batman v Superman: Dawn of Justice</td>\n",
       "      <td>Warner Brothers</td>\n",
       "      <td>330360194</td>\n",
       "      <td>340137000</td>\n",
       "      <td>2016</td>\n",
       "    </tr>\n",
       "    <tr>\n",
       "      <th>197</th>\n",
       "      <td>The Firm</td>\n",
       "      <td>Paramount</td>\n",
       "      <td>158348367</td>\n",
       "      <td>340028200</td>\n",
       "      <td>1993</td>\n",
       "    </tr>\n",
       "    <tr>\n",
       "      <th>198</th>\n",
       "      <td>Suicide Squad</td>\n",
       "      <td>Warner Brothers</td>\n",
       "      <td>325100054</td>\n",
       "      <td>339411900</td>\n",
       "      <td>2016</td>\n",
       "    </tr>\n",
       "    <tr>\n",
       "      <th>199</th>\n",
       "      <td>Who Framed Roger Rabbit</td>\n",
       "      <td>Buena Vista</td>\n",
       "      <td>156452370</td>\n",
       "      <td>338409100</td>\n",
       "      <td>1988</td>\n",
       "    </tr>\n",
       "  </tbody>\n",
       "</table>\n",
       "<p>200 rows × 5 columns</p>\n",
       "</div>"
      ],
      "text/plain": [
       "                                  Title           Studio      Gross  \\\n",
       "0                    Gone with the Wind              MGM  198676459   \n",
       "1                             Star Wars              Fox  460998007   \n",
       "2                    The Sound of Music              Fox  158671368   \n",
       "3           E.T.: The Extra-Terrestrial        Universal  435110554   \n",
       "4                               Titanic        Paramount  658672302   \n",
       "..                                  ...              ...        ...   \n",
       "195                              9 to 5              Fox  103290500   \n",
       "196  Batman v Superman: Dawn of Justice  Warner Brothers  330360194   \n",
       "197                            The Firm        Paramount  158348367   \n",
       "198                       Suicide Squad  Warner Brothers  325100054   \n",
       "199             Who Framed Roger Rabbit      Buena Vista  156452370   \n",
       "\n",
       "     Gross (Adjusted)  Year  \n",
       "0          1796176700  1939  \n",
       "1          1583483200  1977  \n",
       "2          1266072700  1965  \n",
       "3          1261085000  1982  \n",
       "4          1204368000  1997  \n",
       "..                ...   ...  \n",
       "195         341357800  1980  \n",
       "196         340137000  2016  \n",
       "197         340028200  1993  \n",
       "198         339411900  2016  \n",
       "199         338409100  1988  \n",
       "\n",
       "[200 rows x 5 columns]"
      ]
     },
     "execution_count": 3,
     "metadata": {},
     "output_type": "execute_result"
    }
   ],
   "source": [
    "movies = pd.read_csv('top_movies_2017.csv')\n",
    "movies"
   ]
  },
  {
   "cell_type": "code",
   "execution_count": 7,
   "id": "482e402f-1a1f-4ea0-9343-9c7c39bca00b",
   "metadata": {},
   "outputs": [
    {
     "data": {
      "text/plain": [
       "np.float64(233.517489925)"
      ]
     },
     "execution_count": 7,
     "metadata": {},
     "output_type": "execute_result"
    }
   ],
   "source": [
    "movies['Gross (in million)'] = movies['Gross'] / 1000000\n",
    "movies['Gross (in million)'].mean()"
   ]
  },
  {
   "cell_type": "code",
   "execution_count": 8,
   "id": "49a09a1f-26f8-4d0f-8532-56fc624fb87a",
   "metadata": {},
   "outputs": [
    {
     "data": {
      "text/plain": [
       "np.float64(216.945564)"
      ]
     },
     "execution_count": 8,
     "metadata": {},
     "output_type": "execute_result"
    }
   ],
   "source": [
    "movies['Gross (in million)'].median()"
   ]
  },
  {
   "cell_type": "code",
   "execution_count": 9,
   "id": "47cfc0c8-56df-4f70-b7b9-89e96b6fa327",
   "metadata": {},
   "outputs": [
    {
     "data": {
      "text/plain": [
       "0    36.0\n",
       "Name: Gross (in million), dtype: float64"
      ]
     },
     "execution_count": 9,
     "metadata": {},
     "output_type": "execute_result"
    }
   ],
   "source": [
    "movies['Gross (in million)'].mode()"
   ]
  },
  {
   "cell_type": "code",
   "execution_count": 10,
   "id": "6d9de345-d61a-40a5-94bc-54c2b37bda91",
   "metadata": {},
   "outputs": [
    {
     "data": {
      "text/plain": [
       "Gross (in million)\n",
       "36.000000     2\n",
       "198.676459    1\n",
       "279.261160    1\n",
       "153.083102    1\n",
       "218.967620    1\n",
       "             ..\n",
       "126.737428    1\n",
       "504.014165    1\n",
       "486.295561    1\n",
       "43.656822     1\n",
       "156.452370    1\n",
       "Name: count, Length: 199, dtype: int64"
      ]
     },
     "execution_count": 10,
     "metadata": {},
     "output_type": "execute_result"
    }
   ],
   "source": [
    "movies['Gross (in million)'].value_counts()"
   ]
  },
  {
   "cell_type": "code",
   "execution_count": 11,
   "id": "052168de-4e8b-400e-8e73-d5801a17ecff",
   "metadata": {},
   "outputs": [
    {
     "data": {
      "text/plain": [
       "np.float64(37.29)"
      ]
     },
     "execution_count": 11,
     "metadata": {},
     "output_type": "execute_result"
    }
   ],
   "source": [
    "movies['Age'] = 2025 - movies['Year']\n",
    "movies['Age'].mean()"
   ]
  },
  {
   "cell_type": "code",
   "execution_count": 12,
   "id": "105d5481-ff1b-4fa8-a2d0-3565e84329ef",
   "metadata": {},
   "outputs": [
    {
     "data": {
      "text/plain": [
       "np.float64(33.5)"
      ]
     },
     "execution_count": 12,
     "metadata": {},
     "output_type": "execute_result"
    }
   ],
   "source": [
    "movies['Age'].median()"
   ]
  },
  {
   "cell_type": "code",
   "execution_count": 13,
   "id": "361b96e4-e2f6-427b-9b75-ba0f17afedad",
   "metadata": {},
   "outputs": [
    {
     "data": {
      "text/plain": [
       "0    9\n",
       "Name: Age, dtype: int64"
      ]
     },
     "execution_count": 13,
     "metadata": {},
     "output_type": "execute_result"
    }
   ],
   "source": [
    "movies['Age'].mode()"
   ]
  },
  {
   "cell_type": "code",
   "execution_count": 14,
   "id": "c47b3111-7f9c-4899-8fef-29eed9d0cb5f",
   "metadata": {},
   "outputs": [
    {
     "data": {
      "text/plain": [
       "Age\n",
       "9     9\n",
       "10    6\n",
       "23    6\n",
       "21    6\n",
       "18    5\n",
       "     ..\n",
       "85    1\n",
       "56    1\n",
       "42    1\n",
       "88    1\n",
       "19    1\n",
       "Name: count, Length: 72, dtype: int64"
      ]
     },
     "execution_count": 14,
     "metadata": {},
     "output_type": "execute_result"
    }
   ],
   "source": [
    "movies['Age'].value_counts()"
   ]
  },
  {
   "cell_type": "code",
   "execution_count": 15,
   "id": "99bac6ce-aa14-48f2-a5c7-aea5c640faba",
   "metadata": {},
   "outputs": [
    {
     "data": {
      "text/plain": [
       "Age\n",
       "8      433.264319\n",
       "9      390.971321\n",
       "10     515.575536\n",
       "11     340.146286\n",
       "12     400.620329\n",
       "          ...    \n",
       "84      46.384991\n",
       "85      84.254167\n",
       "86     198.676459\n",
       "88     184.925486\n",
       "104      9.183673\n",
       "Name: Gross (in million), Length: 72, dtype: float64"
      ]
     },
     "execution_count": 15,
     "metadata": {},
     "output_type": "execute_result"
    }
   ],
   "source": [
    "movies.groupby('Age')['Gross (in million)'].mean()"
   ]
  },
  {
   "cell_type": "code",
   "execution_count": 16,
   "id": "12d4f1bf-53cc-4f64-a19b-e60bb0119adc",
   "metadata": {},
   "outputs": [
    {
     "data": {
      "text/plain": [
       "Gross (in million)\n",
       "9.183673      104.0\n",
       "16.361885      84.0\n",
       "20.408163      79.0\n",
       "21.333333      80.0\n",
       "21.750000      71.0\n",
       "              ...  \n",
       "623.357910     13.0\n",
       "652.270625     10.0\n",
       "658.672302     28.0\n",
       "760.507625     16.0\n",
       "936.662225     10.0\n",
       "Name: Age, Length: 199, dtype: float64"
      ]
     },
     "execution_count": 16,
     "metadata": {},
     "output_type": "execute_result"
    }
   ],
   "source": [
    "movies.groupby('Gross (in million)')['Age'].mean()"
   ]
  },
  {
   "cell_type": "code",
   "execution_count": 32,
   "id": "98297954-fa1a-4a4b-94d1-a0bf8b5d5638",
   "metadata": {},
   "outputs": [],
   "source": [
    "# Range, Standard Deviation, Interquartile Range"
   ]
  },
  {
   "cell_type": "code",
   "execution_count": 17,
   "id": "d12598ae-638b-4875-b591-ef96b8a4e325",
   "metadata": {},
   "outputs": [
    {
     "data": {
      "text/plain": [
       "np.int64(96)"
      ]
     },
     "execution_count": 17,
     "metadata": {},
     "output_type": "execute_result"
    }
   ],
   "source": [
    "movies['Age'].max()-movies['Age'].min()"
   ]
  },
  {
   "cell_type": "code",
   "execution_count": 18,
   "id": "bf3574dc-55a4-4c1c-b278-2b39a0a89e9c",
   "metadata": {},
   "outputs": [
    {
     "data": {
      "text/plain": [
       "np.float64(927.478552)"
      ]
     },
     "execution_count": 18,
     "metadata": {},
     "output_type": "execute_result"
    }
   ],
   "source": [
    "movies['Gross (in million)'].max()-movies['Gross (in million)'].min()"
   ]
  },
  {
   "cell_type": "code",
   "execution_count": 19,
   "id": "60a35734-ead9-4331-8c93-7c07fb9305e8",
   "metadata": {},
   "outputs": [
    {
     "data": {
      "text/plain": [
       "np.float64(21.310008972594552)"
      ]
     },
     "execution_count": 19,
     "metadata": {},
     "output_type": "execute_result"
    }
   ],
   "source": [
    "movies['Age'].std()"
   ]
  },
  {
   "cell_type": "code",
   "execution_count": 20,
   "id": "d7e8740a-7060-4713-ae1e-2861a843f59e",
   "metadata": {},
   "outputs": [
    {
     "data": {
      "text/plain": [
       "np.float64(150.5475978740937)"
      ]
     },
     "execution_count": 20,
     "metadata": {},
     "output_type": "execute_result"
    }
   ],
   "source": [
    "movies['Gross (in million)'].std()"
   ]
  },
  {
   "cell_type": "code",
   "execution_count": 21,
   "id": "e6a14812-1f29-4109-b621-eb5a4e699518",
   "metadata": {},
   "outputs": [
    {
     "data": {
      "text/plain": [
       "np.float64(31.25)"
      ]
     },
     "execution_count": 21,
     "metadata": {},
     "output_type": "execute_result"
    }
   ],
   "source": [
    "Q1 = movies['Age'].quantile(0.25)\n",
    "Q3 = movies['Age'].quantile(0.75)\n",
    "Q3-Q1"
   ]
  },
  {
   "cell_type": "code",
   "execution_count": 22,
   "id": "1aea413e-5d31-42f7-ab6b-2fb82ecc69ef",
   "metadata": {},
   "outputs": [
    {
     "data": {
      "text/plain": [
       "np.float64(217.67946824999999)"
      ]
     },
     "execution_count": 22,
     "metadata": {},
     "output_type": "execute_result"
    }
   ],
   "source": [
    "Q1 = movies['Gross (in million)'].quantile(0.25)\n",
    "Q3 = movies['Gross (in million)'].quantile(0.75)\n",
    "Q3-Q1"
   ]
  },
  {
   "cell_type": "code",
   "execution_count": 23,
   "id": "5c16edee-070b-47cf-b860-0fb557b9e509",
   "metadata": {},
   "outputs": [
    {
     "data": {
      "text/plain": [
       "Age\n",
       "8       50.505927\n",
       "9       68.164701\n",
       "10     217.246535\n",
       "11       7.239732\n",
       "12      20.669137\n",
       "          ...    \n",
       "84      30.023106\n",
       "85       0.000000\n",
       "86       0.000000\n",
       "88       0.000000\n",
       "104      0.000000\n",
       "Name: Gross (in million), Length: 72, dtype: float64"
      ]
     },
     "execution_count": 23,
     "metadata": {},
     "output_type": "execute_result"
    }
   ],
   "source": [
    "movies.groupby('Age')['Gross (in million)'].std(ddof=0)"
   ]
  },
  {
   "cell_type": "code",
   "execution_count": null,
   "id": "ca0a7eb4-5d90-4528-8592-83661ca3fb4c",
   "metadata": {},
   "outputs": [],
   "source": [
    "# Boxplot"
   ]
  },
  {
   "cell_type": "code",
   "execution_count": 24,
   "id": "2832ff7c-bbd5-42ac-8572-0b9e8be93cf8",
   "metadata": {},
   "outputs": [
    {
     "data": {
      "text/plain": [
       "<Axes: xlabel='Age'>"
      ]
     },
     "execution_count": 24,
     "metadata": {},
     "output_type": "execute_result"
    },
    {
     "data": {
      "image/png": "[encoded data removed]",
      "text/plain": [
       "<Figure size 640x480 with 1 Axes>"
      ]
     },
     "metadata": {},
     "output_type": "display_data"
    }
   ],
   "source": [
    "sns.boxplot(data=movies, x='Age') "
   ]
  },
  {
   "cell_type": "code",
   "execution_count": 25,
   "id": "27f5391d-9621-4459-9b07-a36fd0931a58",
   "metadata": {},
   "outputs": [
    {
     "data": {
      "text/plain": [
       "<Axes: ylabel='Age'>"
      ]
     },
     "execution_count": 25,
     "metadata": {},
     "output_type": "execute_result"
    },
    {
     "data": {
      "image/png": "[encoded data removed]",
      "text/plain": [
       "<Figure size 640x480 with 1 Axes>"
      ]
     },
     "metadata": {},
     "output_type": "display_data"
    }
   ],
   "source": [
    "sns.boxplot(data=movies, y='Age') "
   ]
  },
  {
   "cell_type": "code",
   "execution_count": 26,
   "id": "5bc89e48-fec3-4e4e-86e5-b4c678c94011",
   "metadata": {},
   "outputs": [
    {
     "data": {
      "text/plain": [
       "<Axes: >"
      ]
     },
     "execution_count": 26,
     "metadata": {},
     "output_type": "execute_result"
    },
    {
     "data": {
      "image/png": "[encoded data removed]",
      "text/plain": [
       "<Figure size 640x480 with 1 Axes>"
      ]
     },
     "metadata": {},
     "output_type": "display_data"
    }
   ],
   "source": [
    "sns.boxplot(movies[['Age', 'Gross (in million)']])"
   ]
  },
  {
   "cell_type": "code",
   "execution_count": 27,
   "id": "2a22baf9-1abd-45eb-b11a-d962a17cbc1a",
   "metadata": {},
   "outputs": [
    {
     "data": {
      "text/plain": [
       "<Axes: xlabel='Age', ylabel='Studio'>"
      ]
     },
     "execution_count": 27,
     "metadata": {},
     "output_type": "execute_result"
    },
    {
     "data": {
      "image/png": "[encoded data removed]",
      "text/plain": [
       "<Figure size 640x480 with 1 Axes>"
      ]
     },
     "metadata": {},
     "output_type": "display_data"
    }
   ],
   "source": [
    "sns.boxplot(data=movies, x='Age', y='Studio') "
   ]
  },
  {
   "cell_type": "code",
   "execution_count": 23,
   "id": "025caf22-3a59-452c-9c30-40bacfdb7dc8",
   "metadata": {},
   "outputs": [
    {
     "data": {
      "text/plain": [
       "<Axes: xlabel='Gross (in million)', ylabel='Studio'>"
      ]
     },
     "execution_count": 23,
     "metadata": {},
     "output_type": "execute_result"
    },
    {
     "data": {
      "image/png": "[encoded data removed]",
      "text/plain": [
       "<Figure size 640x480 with 1 Axes>"
      ]
     },
     "metadata": {},
     "output_type": "display_data"
    }
   ],
   "source": [
    "sns.boxplot(data=movies, x='Gross (in million)', y='Studio') "
   ]
  },
  {
   "cell_type": "code",
   "execution_count": 19,
   "id": "54b29395-3aae-4f8c-9c03-ec954caa0844",
   "metadata": {},
   "outputs": [
    {
     "data": {
      "text/plain": [
       "<Axes: ylabel='Age'>"
      ]
     },
     "execution_count": 19,
     "metadata": {},
     "output_type": "execute_result"
    },
    {
     "data": {
      "image/png": "[encoded data removed]",
      "text/plain": [
       "<Figure size 640x480 with 1 Axes>"
      ]
     },
     "metadata": {},
     "output_type": "display_data"
    }
   ],
   "source": [
    "sns.boxplot(movies.groupby('Gross (in million)').Age.mean())"
   ]
  }
 ],
 "metadata": {
  "kernelspec": {
   "display_name": "Python 3 (ipykernel)",
   "language": "python",
   "name": "python3"
  },
  "language_info": {
   "codemirror_mode": {
    "name": "ipython",
    "version": 3
   },
   "file_extension": ".py",
   "mimetype": "text/x-python",
   "name": "python",
   "nbconvert_exporter": "python",
   "pygments_lexer": "ipython3",
   "version": "3.10.10"
  }
 },
 "nbformat": 4,
 "nbformat_minor": 5
}
