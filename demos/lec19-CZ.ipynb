{
 "cells": [
  {
   "cell_type": "code",
   "execution_count": 1,
   "id": "4c6e4ab8-e162-4f9c-9b4e-1d7f64d8dbd7",
   "metadata": {},
   "outputs": [],
   "source": [
    "import numpy as np\n",
    "import seaborn as sns\n",
    "from matplotlib import pyplot as plt\n",
    "import pandas as pd"
   ]
  },
  {
   "cell_type": "markdown",
   "id": "6bd42919-5e7d-445b-8edd-3d2631b6ce0f",
   "metadata": {},
   "source": [
    "# Predicting the weight of ROUSes using Linear Regression\n",
    "Using other data we have in the table, we want to predict the weight of ROUSes."
   ]
  },
  {
   "cell_type": "code",
   "execution_count": 2,
   "id": "4d774c8e-a622-49a5-818b-9e542af7513e",
   "metadata": {},
   "outputs": [
    {
     "name": "stdout",
     "output_type": "stream",
     "text": [
      "(29, 4)\n"
     ]
    },
    {
     "data": {
      "text/html": [
       "<div>\n",
       "<style scoped>\n",
       "    .dataframe tbody tr th:only-of-type {\n",
       "        vertical-align: middle;\n",
       "    }\n",
       "\n",
       "    .dataframe tbody tr th {\n",
       "        vertical-align: top;\n",
       "    }\n",
       "\n",
       "    .dataframe thead th {\n",
       "        text-align: right;\n",
       "    }\n",
       "</style>\n",
       "<table border=\"1\" class=\"dataframe\">\n",
       "  <thead>\n",
       "    <tr style=\"text-align: right;\">\n",
       "      <th></th>\n",
       "      <th>Age</th>\n",
       "      <th>Length</th>\n",
       "      <th>Weight</th>\n",
       "      <th>Temperament</th>\n",
       "    </tr>\n",
       "  </thead>\n",
       "  <tbody>\n",
       "    <tr>\n",
       "      <th>0</th>\n",
       "      <td>9.5</td>\n",
       "      <td>4.1</td>\n",
       "      <td>93.2</td>\n",
       "      <td>Sleepy</td>\n",
       "    </tr>\n",
       "    <tr>\n",
       "      <th>1</th>\n",
       "      <td>12.0</td>\n",
       "      <td>4.1</td>\n",
       "      <td>97.7</td>\n",
       "      <td>Moody</td>\n",
       "    </tr>\n",
       "    <tr>\n",
       "      <th>2</th>\n",
       "      <td>14.5</td>\n",
       "      <td>4.6</td>\n",
       "      <td>120.3</td>\n",
       "      <td>No-nonsense</td>\n",
       "    </tr>\n",
       "    <tr>\n",
       "      <th>3</th>\n",
       "      <td>7.0</td>\n",
       "      <td>3.3</td>\n",
       "      <td>60.4</td>\n",
       "      <td>Moody</td>\n",
       "    </tr>\n",
       "    <tr>\n",
       "      <th>4</th>\n",
       "      <td>10.0</td>\n",
       "      <td>3.5</td>\n",
       "      <td>75.3</td>\n",
       "      <td>No-nonsense</td>\n",
       "    </tr>\n",
       "  </tbody>\n",
       "</table>\n",
       "</div>"
      ],
      "text/plain": [
       "    Age  Length  Weight  Temperament\n",
       "0   9.5     4.1    93.2       Sleepy\n",
       "1  12.0     4.1    97.7        Moody\n",
       "2  14.5     4.6   120.3  No-nonsense\n",
       "3   7.0     3.3    60.4        Moody\n",
       "4  10.0     3.5    75.3  No-nonsense"
      ]
     },
     "execution_count": 2,
     "metadata": {},
     "output_type": "execute_result"
    }
   ],
   "source": [
    "rouses = pd.read_csv('ROUSes.csv')\n",
    "print(rouses.shape)\n",
    "rouses.head()"
   ]
  },
  {
   "cell_type": "markdown",
   "id": "1f32f164-0e29-44fe-937b-a2c5876bd85a",
   "metadata": {},
   "source": [
    "`Age` seems to have a decently linear correlation with `Weight`.  `Length` looks more like a square relationship.  So we'll try using `Age` to predict `Weight`.  Let's drop the other columns."
   ]
  },
  {
   "cell_type": "code",
   "execution_count": 3,
   "id": "d671b3f1-fb7b-4767-9caf-0535373ddfe7",
   "metadata": {},
   "outputs": [
    {
     "data": {
      "text/html": [
       "<div>\n",
       "<style scoped>\n",
       "    .dataframe tbody tr th:only-of-type {\n",
       "        vertical-align: middle;\n",
       "    }\n",
       "\n",
       "    .dataframe tbody tr th {\n",
       "        vertical-align: top;\n",
       "    }\n",
       "\n",
       "    .dataframe thead th {\n",
       "        text-align: right;\n",
       "    }\n",
       "</style>\n",
       "<table border=\"1\" class=\"dataframe\">\n",
       "  <thead>\n",
       "    <tr style=\"text-align: right;\">\n",
       "      <th></th>\n",
       "      <th>Age</th>\n",
       "      <th>Weight</th>\n",
       "    </tr>\n",
       "  </thead>\n",
       "  <tbody>\n",
       "    <tr>\n",
       "      <th>0</th>\n",
       "      <td>9.5</td>\n",
       "      <td>93.2</td>\n",
       "    </tr>\n",
       "    <tr>\n",
       "      <th>1</th>\n",
       "      <td>12.0</td>\n",
       "      <td>97.7</td>\n",
       "    </tr>\n",
       "    <tr>\n",
       "      <th>2</th>\n",
       "      <td>14.5</td>\n",
       "      <td>120.3</td>\n",
       "    </tr>\n",
       "    <tr>\n",
       "      <th>3</th>\n",
       "      <td>7.0</td>\n",
       "      <td>60.4</td>\n",
       "    </tr>\n",
       "    <tr>\n",
       "      <th>4</th>\n",
       "      <td>10.0</td>\n",
       "      <td>75.3</td>\n",
       "    </tr>\n",
       "  </tbody>\n",
       "</table>\n",
       "</div>"
      ],
      "text/plain": [
       "    Age  Weight\n",
       "0   9.5    93.2\n",
       "1  12.0    97.7\n",
       "2  14.5   120.3\n",
       "3   7.0    60.4\n",
       "4  10.0    75.3"
      ]
     },
     "execution_count": 3,
     "metadata": {},
     "output_type": "execute_result"
    }
   ],
   "source": [
    "rouses = rouses.drop(columns=['Temperament','Length']) # drop the column 'Name'\n",
    "rouses.head()"
   ]
  },
  {
   "cell_type": "markdown",
   "id": "bda7e569-94f8-4775-90d8-5caaddcf2be0",
   "metadata": {},
   "source": [
    "**Separate X and y**"
   ]
  },
  {
   "cell_type": "code",
   "execution_count": 4,
   "id": "1a456fb7-effe-4543-a767-90de4d3e8a75",
   "metadata": {},
   "outputs": [
    {
     "name": "stdout",
     "output_type": "stream",
     "text": [
      "(29, 1) (29,)\n"
     ]
    }
   ],
   "source": [
    "y = rouses['Weight']\n",
    "X = rouses.drop(columns=['Weight'])\n",
    "print(X.shape, y.shape)"
   ]
  },
  {
   "cell_type": "markdown",
   "id": "138b52ac-504c-4103-ae0c-09015c63c617",
   "metadata": {},
   "source": [
    "## Training or fitting a model \n",
    "\n",
    "To use a machine learning model from `scikit-learn`, you should import the relevant model."
   ]
  },
  {
   "cell_type": "code",
   "execution_count": 5,
   "id": "ea5034be-38ee-46c4-b162-48333a9680bc",
   "metadata": {},
   "outputs": [
    {
     "name": "stdout",
     "output_type": "stream",
     "text": [
      "R^2: 0.9779712473095585\n",
      "coefficients: [6.51178526]\n",
      "intercept: 14.06838658038437\n"
     ]
    },
    {
     "data": {
      "text/html": [
       "<div>\n",
       "<style scoped>\n",
       "    .dataframe tbody tr th:only-of-type {\n",
       "        vertical-align: middle;\n",
       "    }\n",
       "\n",
       "    .dataframe tbody tr th {\n",
       "        vertical-align: top;\n",
       "    }\n",
       "\n",
       "    .dataframe thead th {\n",
       "        text-align: right;\n",
       "    }\n",
       "</style>\n",
       "<table border=\"1\" class=\"dataframe\">\n",
       "  <thead>\n",
       "    <tr style=\"text-align: right;\">\n",
       "      <th></th>\n",
       "      <th>Coefficient vals</th>\n",
       "    </tr>\n",
       "  </thead>\n",
       "  <tbody>\n",
       "    <tr>\n",
       "      <th>Age</th>\n",
       "      <td>6.511785</td>\n",
       "    </tr>\n",
       "  </tbody>\n",
       "</table>\n",
       "</div>"
      ],
      "text/plain": [
       "     Coefficient vals\n",
       "Age          6.511785"
      ]
     },
     "execution_count": 5,
     "metadata": {},
     "output_type": "execute_result"
    }
   ],
   "source": [
    "from sklearn.linear_model import LinearRegression\n",
    "\n",
    "lr = LinearRegression(fit_intercept=True)\n",
    "lr.fit(X, y)\n",
    "print('R^2:',lr.score(X, y))\n",
    "\n",
    "print(\"coefficients:\", lr.coef_)\n",
    "print(\"intercept:\", lr.intercept_)\n",
    "\n",
    "coefs = pd.DataFrame(lr.coef_, \n",
    "                     index=lr.feature_names_in_, \n",
    "                    columns=['Coefficient vals'])\n",
    "coefs"
   ]
  },
  {
   "cell_type": "markdown",
   "id": "dffc294e-4e0e-47ad-9b65-a3495dc4e098",
   "metadata": {},
   "source": [
    "For linear regression a \"score\" (the R2 value) near 1 is what we are hoping for, and 0 is the worst result.  So our model is doing a very good job at predicting the data!  The coefficient tells us how much `Weight` change to expect with every unit change of `Age`.\n",
    "\n",
    "To visualize our line, we can plug some values in and have their outputs predicted:"
   ]
  },
  {
   "cell_type": "code",
   "execution_count": 6,
   "id": "3831f324-17cb-4a63-9fa1-d412f8dfc579",
   "metadata": {},
   "outputs": [
    {
     "data": {
      "text/plain": [
       "array([ 20.58017184, 372.21657601])"
      ]
     },
     "execution_count": 6,
     "metadata": {},
     "output_type": "execute_result"
    }
   ],
   "source": [
    "predict_inputs = pd.DataFrame({'Age':[1,55]})\n",
    "predictions = lr.predict(predict_inputs)\n",
    "predictions"
   ]
  },
  {
   "cell_type": "code",
   "execution_count": 7,
   "id": "74907be7-7115-449f-8bc8-6bacef72cf0f",
   "metadata": {},
   "outputs": [
    {
     "data": {
      "text/plain": [
       "<matplotlib.legend.Legend at 0x7f69f17d0130>"
      ]
     },
     "execution_count": 7,
     "metadata": {},
     "output_type": "execute_result"
    },
    {
     "data": {
      "image/png": "[encoded data removed]",
      "text/plain": [
       "<Figure size 640x480 with 1 Axes>"
      ]
     },
     "metadata": {},
     "output_type": "display_data"
    }
   ],
   "source": [
    "fig, ax = plt.subplots(1)\n",
    "\n",
    "ax.plot([1,55], [predictions[0], predictions[1]], color = \"red\", label = \"linear regression model\")\n",
    "ax.scatter(rouses['Age'], rouses['Weight'], label = \"data\")\n",
    "ax.set(xlabel='Age', ylabel='Weight')\n",
    "plt.legend()"
   ]
  },
  {
   "cell_type": "markdown",
   "id": "b83f1ba4-ed8e-4414-9e3e-94ab58cdaeea",
   "metadata": {},
   "source": [
    "Indeed, it looks like this line is a very good fit to our data!"
   ]
  },
  {
   "cell_type": "markdown",
   "id": "653c449b-5e1a-4188-afed-23002d927dd0",
   "metadata": {},
   "source": [
    "## Multiple linear regression\n",
    "\n",
    "Use both `Age` and `Length` to predict `Weight`."
   ]
  },
  {
   "cell_type": "code",
   "execution_count": 8,
   "id": "ecc478da-29b3-4417-8846-0d8747623894",
   "metadata": {},
   "outputs": [
    {
     "name": "stdout",
     "output_type": "stream",
     "text": [
      "(29, 4)\n"
     ]
    },
    {
     "data": {
      "text/html": [
       "<div>\n",
       "<style scoped>\n",
       "    .dataframe tbody tr th:only-of-type {\n",
       "        vertical-align: middle;\n",
       "    }\n",
       "\n",
       "    .dataframe tbody tr th {\n",
       "        vertical-align: top;\n",
       "    }\n",
       "\n",
       "    .dataframe thead th {\n",
       "        text-align: right;\n",
       "    }\n",
       "</style>\n",
       "<table border=\"1\" class=\"dataframe\">\n",
       "  <thead>\n",
       "    <tr style=\"text-align: right;\">\n",
       "      <th></th>\n",
       "      <th>Age</th>\n",
       "      <th>Length</th>\n",
       "      <th>Weight</th>\n",
       "    </tr>\n",
       "  </thead>\n",
       "  <tbody>\n",
       "    <tr>\n",
       "      <th>count</th>\n",
       "      <td>29.000000</td>\n",
       "      <td>29.000000</td>\n",
       "      <td>29.000000</td>\n",
       "    </tr>\n",
       "    <tr>\n",
       "      <th>mean</th>\n",
       "      <td>13.362069</td>\n",
       "      <td>3.841379</td>\n",
       "      <td>101.079310</td>\n",
       "    </tr>\n",
       "    <tr>\n",
       "      <th>std</th>\n",
       "      <td>12.042259</td>\n",
       "      <td>1.551386</td>\n",
       "      <td>79.294854</td>\n",
       "    </tr>\n",
       "    <tr>\n",
       "      <th>min</th>\n",
       "      <td>1.000000</td>\n",
       "      <td>1.100000</td>\n",
       "      <td>9.600000</td>\n",
       "    </tr>\n",
       "    <tr>\n",
       "      <th>25%</th>\n",
       "      <td>5.000000</td>\n",
       "      <td>3.100000</td>\n",
       "      <td>53.500000</td>\n",
       "    </tr>\n",
       "    <tr>\n",
       "      <th>50%</th>\n",
       "      <td>10.000000</td>\n",
       "      <td>3.900000</td>\n",
       "      <td>91.100000</td>\n",
       "    </tr>\n",
       "    <tr>\n",
       "      <th>75%</th>\n",
       "      <td>15.500000</td>\n",
       "      <td>4.600000</td>\n",
       "      <td>120.300000</td>\n",
       "    </tr>\n",
       "    <tr>\n",
       "      <th>max</th>\n",
       "      <td>55.000000</td>\n",
       "      <td>8.000000</td>\n",
       "      <td>378.900000</td>\n",
       "    </tr>\n",
       "  </tbody>\n",
       "</table>\n",
       "</div>"
      ],
      "text/plain": [
       "             Age     Length      Weight\n",
       "count  29.000000  29.000000   29.000000\n",
       "mean   13.362069   3.841379  101.079310\n",
       "std    12.042259   1.551386   79.294854\n",
       "min     1.000000   1.100000    9.600000\n",
       "25%     5.000000   3.100000   53.500000\n",
       "50%    10.000000   3.900000   91.100000\n",
       "75%    15.500000   4.600000  120.300000\n",
       "max    55.000000   8.000000  378.900000"
      ]
     },
     "execution_count": 8,
     "metadata": {},
     "output_type": "execute_result"
    }
   ],
   "source": [
    "from sklearn.linear_model import LinearRegression\n",
    "rouses_full = pd.read_csv('ROUSes.csv')\n",
    "print(rouses_full.shape)\n",
    "rouses_full.describe()"
   ]
  },
  {
   "cell_type": "markdown",
   "id": "78dd2053-2c08-4e02-b29b-cf17640e6b54",
   "metadata": {},
   "source": [
    "Note from the table above that `Age` and `Length` have different ranges/scales.\n",
    "We'll see how that affects the final model and interpretation of coefficients."
   ]
  },
  {
   "cell_type": "code",
   "execution_count": 9,
   "id": "0ff19905-bce6-4fc6-8ac1-2e77e62bfe4e",
   "metadata": {},
   "outputs": [],
   "source": [
    "def rouses_lr(rouses, seed=0):\n",
    "    y = rouses['Weight']\n",
    "    X = rouses.drop(columns=['Weight'])\n",
    "    \n",
    "    lr = LinearRegression(fit_intercept=True)\n",
    "    lr.fit(X, y)\n",
    "    \n",
    "    coefs = pd.DataFrame(lr.coef_, \n",
    "                         index=lr.feature_names_in_, \n",
    "                        columns=['Coefficient vals'])\n",
    "    \n",
    "    coefs.loc['R^2'] = lr.score(X, y)\n",
    "\n",
    "    return coefs\n"
   ]
  },
  {
   "cell_type": "code",
   "execution_count": 10,
   "id": "81e8b585-ceb5-452d-b9c4-34409b624eba",
   "metadata": {},
   "outputs": [
    {
     "data": {
      "text/html": [
       "<div>\n",
       "<style scoped>\n",
       "    .dataframe tbody tr th:only-of-type {\n",
       "        vertical-align: middle;\n",
       "    }\n",
       "\n",
       "    .dataframe tbody tr th {\n",
       "        vertical-align: top;\n",
       "    }\n",
       "\n",
       "    .dataframe thead th {\n",
       "        text-align: right;\n",
       "    }\n",
       "</style>\n",
       "<table border=\"1\" class=\"dataframe\">\n",
       "  <thead>\n",
       "    <tr style=\"text-align: right;\">\n",
       "      <th></th>\n",
       "      <th>Unnormalized</th>\n",
       "      <th>Standardized</th>\n",
       "      <th>Min-max scaled</th>\n",
       "    </tr>\n",
       "  </thead>\n",
       "  <tbody>\n",
       "    <tr>\n",
       "      <th>Age</th>\n",
       "      <td>4.783416</td>\n",
       "      <td>0.726442</td>\n",
       "      <td>0.699444</td>\n",
       "    </tr>\n",
       "    <tr>\n",
       "      <th>Length</th>\n",
       "      <td>14.359994</td>\n",
       "      <td>0.280950</td>\n",
       "      <td>0.268302</td>\n",
       "    </tr>\n",
       "    <tr>\n",
       "      <th>R^2</th>\n",
       "      <td>0.988007</td>\n",
       "      <td>0.988007</td>\n",
       "      <td>0.988007</td>\n",
       "    </tr>\n",
       "  </tbody>\n",
       "</table>\n",
       "</div>"
      ],
      "text/plain": [
       "        Unnormalized  Standardized  Min-max scaled\n",
       "Age         4.783416      0.726442        0.699444\n",
       "Length     14.359994      0.280950        0.268302\n",
       "R^2         0.988007      0.988007        0.988007"
      ]
     },
     "execution_count": 10,
     "metadata": {},
     "output_type": "execute_result"
    }
   ],
   "source": [
    "rouses = rouses_full.filter(['Age', 'Weight', 'Length'])\n",
    "seed = 100\n",
    "\n",
    "#######\n",
    "# This is called \"standardization\"\n",
    "# make all features mean 0 and std 1\n",
    "rouses_standardized = rouses - rouses.mean() # mean 0\n",
    "rouses_standardized = rouses_standardized/rouses_standardized.std() # std = 1\n",
    "#######\n",
    "\n",
    "#######\n",
    "# This is called \"min-max scaling\"\n",
    "# make all values fall between 0 and 1\n",
    "ranges = (rouses.max() - rouses.min()) # calculate the range\n",
    "rouses_minmax = (rouses - rouses.min())/ranges \n",
    "#######\n",
    "\n",
    "results = pd.DataFrame()\n",
    "for df, name in zip([rouses, rouses_standardized, rouses_minmax], \n",
    "                    [\"Unnormalized\", \"Standardized\", \"Min-max scaled\"]):\n",
    "    res = rouses_lr(df, seed)\n",
    "    res = res.rename(columns ={'Coefficient vals': name})\n",
    "    results = pd.concat((results, res), axis=1)\n",
    "results"
   ]
  },
  {
   "cell_type": "code",
   "execution_count": 11,
   "id": "66cdd0a0-3975-47f8-8fcb-aea5364c3893",
   "metadata": {},
   "outputs": [
    {
     "data": {
      "text/html": [
       "<div>\n",
       "<style scoped>\n",
       "    .dataframe tbody tr th:only-of-type {\n",
       "        vertical-align: middle;\n",
       "    }\n",
       "\n",
       "    .dataframe tbody tr th {\n",
       "        vertical-align: top;\n",
       "    }\n",
       "\n",
       "    .dataframe thead th {\n",
       "        text-align: right;\n",
       "    }\n",
       "</style>\n",
       "<table border=\"1\" class=\"dataframe\">\n",
       "  <thead>\n",
       "    <tr style=\"text-align: right;\">\n",
       "      <th></th>\n",
       "      <th>Age</th>\n",
       "      <th>Weight</th>\n",
       "      <th>Length</th>\n",
       "    </tr>\n",
       "  </thead>\n",
       "  <tbody>\n",
       "    <tr>\n",
       "      <th>count</th>\n",
       "      <td>29.000000</td>\n",
       "      <td>29.000000</td>\n",
       "      <td>29.000000</td>\n",
       "    </tr>\n",
       "    <tr>\n",
       "      <th>mean</th>\n",
       "      <td>0.228927</td>\n",
       "      <td>0.247710</td>\n",
       "      <td>0.397301</td>\n",
       "    </tr>\n",
       "    <tr>\n",
       "      <th>std</th>\n",
       "      <td>0.223005</td>\n",
       "      <td>0.214717</td>\n",
       "      <td>0.224839</td>\n",
       "    </tr>\n",
       "    <tr>\n",
       "      <th>min</th>\n",
       "      <td>0.000000</td>\n",
       "      <td>0.000000</td>\n",
       "      <td>0.000000</td>\n",
       "    </tr>\n",
       "    <tr>\n",
       "      <th>25%</th>\n",
       "      <td>0.074074</td>\n",
       "      <td>0.118874</td>\n",
       "      <td>0.289855</td>\n",
       "    </tr>\n",
       "    <tr>\n",
       "      <th>50%</th>\n",
       "      <td>0.166667</td>\n",
       "      <td>0.220688</td>\n",
       "      <td>0.405797</td>\n",
       "    </tr>\n",
       "    <tr>\n",
       "      <th>75%</th>\n",
       "      <td>0.268519</td>\n",
       "      <td>0.299756</td>\n",
       "      <td>0.507246</td>\n",
       "    </tr>\n",
       "    <tr>\n",
       "      <th>max</th>\n",
       "      <td>1.000000</td>\n",
       "      <td>1.000000</td>\n",
       "      <td>1.000000</td>\n",
       "    </tr>\n",
       "  </tbody>\n",
       "</table>\n",
       "</div>"
      ],
      "text/plain": [
       "             Age     Weight     Length\n",
       "count  29.000000  29.000000  29.000000\n",
       "mean    0.228927   0.247710   0.397301\n",
       "std     0.223005   0.214717   0.224839\n",
       "min     0.000000   0.000000   0.000000\n",
       "25%     0.074074   0.118874   0.289855\n",
       "50%     0.166667   0.220688   0.405797\n",
       "75%     0.268519   0.299756   0.507246\n",
       "max     1.000000   1.000000   1.000000"
      ]
     },
     "execution_count": 11,
     "metadata": {},
     "output_type": "execute_result"
    }
   ],
   "source": [
    "rouses_minmax.describe()"
   ]
  },
  {
   "cell_type": "code",
   "execution_count": 12,
   "id": "54fe901a-8c6a-44fb-86c2-f93e6e7a4b60",
   "metadata": {
    "scrolled": true
   },
   "outputs": [
    {
     "data": {
      "text/html": [
       "<div>\n",
       "<style scoped>\n",
       "    .dataframe tbody tr th:only-of-type {\n",
       "        vertical-align: middle;\n",
       "    }\n",
       "\n",
       "    .dataframe tbody tr th {\n",
       "        vertical-align: top;\n",
       "    }\n",
       "\n",
       "    .dataframe thead th {\n",
       "        text-align: right;\n",
       "    }\n",
       "</style>\n",
       "<table border=\"1\" class=\"dataframe\">\n",
       "  <thead>\n",
       "    <tr style=\"text-align: right;\">\n",
       "      <th></th>\n",
       "      <th>Age</th>\n",
       "      <th>Weight</th>\n",
       "      <th>Length</th>\n",
       "    </tr>\n",
       "  </thead>\n",
       "  <tbody>\n",
       "    <tr>\n",
       "      <th>count</th>\n",
       "      <td>2.900000e+01</td>\n",
       "      <td>2.900000e+01</td>\n",
       "      <td>2.900000e+01</td>\n",
       "    </tr>\n",
       "    <tr>\n",
       "      <th>mean</th>\n",
       "      <td>-2.201304e-17</td>\n",
       "      <td>-7.273875e-17</td>\n",
       "      <td>3.014830e-17</td>\n",
       "    </tr>\n",
       "    <tr>\n",
       "      <th>std</th>\n",
       "      <td>1.000000e+00</td>\n",
       "      <td>1.000000e+00</td>\n",
       "      <td>1.000000e+00</td>\n",
       "    </tr>\n",
       "    <tr>\n",
       "      <th>min</th>\n",
       "      <td>-1.026557e+00</td>\n",
       "      <td>-1.153660e+00</td>\n",
       "      <td>-1.767052e+00</td>\n",
       "    </tr>\n",
       "    <tr>\n",
       "      <th>25%</th>\n",
       "      <td>-6.943937e-01</td>\n",
       "      <td>-6.000302e-01</td>\n",
       "      <td>-4.778820e-01</td>\n",
       "    </tr>\n",
       "    <tr>\n",
       "      <th>50%</th>\n",
       "      <td>-2.791892e-01</td>\n",
       "      <td>-1.258507e-01</td>\n",
       "      <td>3.778602e-02</td>\n",
       "    </tr>\n",
       "    <tr>\n",
       "      <th>75%</th>\n",
       "      <td>1.775357e-01</td>\n",
       "      <td>2.423952e-01</td>\n",
       "      <td>4.889955e-01</td>\n",
       "    </tr>\n",
       "    <tr>\n",
       "      <th>max</th>\n",
       "      <td>3.457651e+00</td>\n",
       "      <td>3.503641e+00</td>\n",
       "      <td>2.680584e+00</td>\n",
       "    </tr>\n",
       "  </tbody>\n",
       "</table>\n",
       "</div>"
      ],
      "text/plain": [
       "                Age        Weight        Length\n",
       "count  2.900000e+01  2.900000e+01  2.900000e+01\n",
       "mean  -2.201304e-17 -7.273875e-17  3.014830e-17\n",
       "std    1.000000e+00  1.000000e+00  1.000000e+00\n",
       "min   -1.026557e+00 -1.153660e+00 -1.767052e+00\n",
       "25%   -6.943937e-01 -6.000302e-01 -4.778820e-01\n",
       "50%   -2.791892e-01 -1.258507e-01  3.778602e-02\n",
       "75%    1.775357e-01  2.423952e-01  4.889955e-01\n",
       "max    3.457651e+00  3.503641e+00  2.680584e+00"
      ]
     },
     "execution_count": 12,
     "metadata": {},
     "output_type": "execute_result"
    }
   ],
   "source": [
    "rouses_standardized.describe()"
   ]
  },
  {
   "cell_type": "code",
   "execution_count": null,
   "id": "57e036ad-96ca-4d26-93e3-ac9d289d3803",
   "metadata": {},
   "outputs": [],
   "source": []
  },
  {
   "cell_type": "markdown",
   "id": "858b64e7",
   "metadata": {},
   "source": [
    "# Revisit Titanic data: predict survival of Titanic using decision trees"
   ]
  },
  {
   "cell_type": "code",
   "execution_count": 13,
   "id": "347169e0",
   "metadata": {},
   "outputs": [
    {
     "name": "stdout",
     "output_type": "stream",
     "text": [
      "(887, 7)\n"
     ]
    },
    {
     "data": {
      "text/html": [
       "<div>\n",
       "<style scoped>\n",
       "    .dataframe tbody tr th:only-of-type {\n",
       "        vertical-align: middle;\n",
       "    }\n",
       "\n",
       "    .dataframe tbody tr th {\n",
       "        vertical-align: top;\n",
       "    }\n",
       "\n",
       "    .dataframe thead th {\n",
       "        text-align: right;\n",
       "    }\n",
       "</style>\n",
       "<table border=\"1\" class=\"dataframe\">\n",
       "  <thead>\n",
       "    <tr style=\"text-align: right;\">\n",
       "      <th></th>\n",
       "      <th>Survived</th>\n",
       "      <th>Pclass</th>\n",
       "      <th>Sex</th>\n",
       "      <th>Age</th>\n",
       "      <th>Siblings/Spouses Aboard</th>\n",
       "      <th>Parents/Children Aboard</th>\n",
       "      <th>Fare</th>\n",
       "    </tr>\n",
       "  </thead>\n",
       "  <tbody>\n",
       "    <tr>\n",
       "      <th>0</th>\n",
       "      <td>0</td>\n",
       "      <td>3</td>\n",
       "      <td>0</td>\n",
       "      <td>22.0</td>\n",
       "      <td>1</td>\n",
       "      <td>0</td>\n",
       "      <td>7.2500</td>\n",
       "    </tr>\n",
       "    <tr>\n",
       "      <th>1</th>\n",
       "      <td>1</td>\n",
       "      <td>1</td>\n",
       "      <td>1</td>\n",
       "      <td>38.0</td>\n",
       "      <td>1</td>\n",
       "      <td>0</td>\n",
       "      <td>71.2833</td>\n",
       "    </tr>\n",
       "    <tr>\n",
       "      <th>2</th>\n",
       "      <td>1</td>\n",
       "      <td>3</td>\n",
       "      <td>1</td>\n",
       "      <td>26.0</td>\n",
       "      <td>0</td>\n",
       "      <td>0</td>\n",
       "      <td>7.9250</td>\n",
       "    </tr>\n",
       "    <tr>\n",
       "      <th>3</th>\n",
       "      <td>1</td>\n",
       "      <td>1</td>\n",
       "      <td>1</td>\n",
       "      <td>35.0</td>\n",
       "      <td>1</td>\n",
       "      <td>0</td>\n",
       "      <td>53.1000</td>\n",
       "    </tr>\n",
       "    <tr>\n",
       "      <th>4</th>\n",
       "      <td>0</td>\n",
       "      <td>3</td>\n",
       "      <td>0</td>\n",
       "      <td>35.0</td>\n",
       "      <td>0</td>\n",
       "      <td>0</td>\n",
       "      <td>8.0500</td>\n",
       "    </tr>\n",
       "  </tbody>\n",
       "</table>\n",
       "</div>"
      ],
      "text/plain": [
       "   Survived  Pclass  Sex   Age  Siblings/Spouses Aboard  \\\n",
       "0         0       3    0  22.0                        1   \n",
       "1         1       1    1  38.0                        1   \n",
       "2         1       3    1  26.0                        0   \n",
       "3         1       1    1  35.0                        1   \n",
       "4         0       3    0  35.0                        0   \n",
       "\n",
       "   Parents/Children Aboard     Fare  \n",
       "0                        0   7.2500  \n",
       "1                        0  71.2833  \n",
       "2                        0   7.9250  \n",
       "3                        0  53.1000  \n",
       "4                        0   8.0500  "
      ]
     },
     "execution_count": 13,
     "metadata": {},
     "output_type": "execute_result"
    }
   ],
   "source": [
    "titanic = pd.read_csv('titanic.csv')\n",
    "titanic = titanic.drop(['Name'], axis=1)\n",
    "is_F = (titanic['Sex'] == 'female') # array of True and False\n",
    "titanic['Sex'] = is_F.astype(int) # 1 = female, 0 = male\n",
    "print(titanic.shape)\n",
    "titanic.head()"
   ]
  },
  {
   "cell_type": "markdown",
   "id": "c2ec8bd2",
   "metadata": {},
   "source": [
    "## Train test split\n",
    "The next thing to do is to randomly split the sample into train and test groups and use training set for training and test set for evaluating the trained/fitted model.  "
   ]
  },
  {
   "cell_type": "code",
   "execution_count": 14,
   "id": "65075634-8bb6-4ef7-94c9-61a220b40dfa",
   "metadata": {},
   "outputs": [
    {
     "name": "stdout",
     "output_type": "stream",
     "text": [
      "(710, 7) (177, 7)\n"
     ]
    }
   ],
   "source": [
    "train = titanic.sample(frac= 0.8) # 80% rows for training\n",
    "test = titanic.drop(index=train.index) # rest of rows for testing\n",
    "print(train.shape, test.shape)"
   ]
  },
  {
   "cell_type": "markdown",
   "id": "395882e6-cf47-4818-bd49-bfa0290bb091",
   "metadata": {},
   "source": [
    "Then we separate out the target data Survived from the predictor data (everything else)."
   ]
  },
  {
   "cell_type": "code",
   "execution_count": 15,
   "id": "1975ec36",
   "metadata": {},
   "outputs": [
    {
     "name": "stdout",
     "output_type": "stream",
     "text": [
      "(710, 6) (710,)\n",
      "(177, 6) (177,)\n"
     ]
    }
   ],
   "source": [
    "y_train = train['Survived']\n",
    "X_train = train.drop(columns=['Survived'])\n",
    "print(X_train.shape, y_train.shape)\n",
    "\n",
    "y_test = test['Survived']\n",
    "X_test = test.drop(columns=['Survived']) \n",
    "print(X_test.shape, y_test.shape)"
   ]
  },
  {
   "cell_type": "markdown",
   "id": "c614f8f1",
   "metadata": {},
   "source": [
    "## Fit a decision tree and evaluate it\n",
    "To use a machine learning model from `scikit-learn`, you should import the relevant model. "
   ]
  },
  {
   "cell_type": "code",
   "execution_count": 16,
   "id": "220e70dd",
   "metadata": {},
   "outputs": [
    {
     "name": "stdout",
     "output_type": "stream",
     "text": [
      "Training accuracy: 0.7943661971830986\n",
      "Test accuracy: 0.751412429378531\n"
     ]
    }
   ],
   "source": [
    "from sklearn import tree \n",
    "T = tree.DecisionTreeClassifier(max_depth=2) \n",
    "T.fit(X_train, y_train)\n",
    "print(\"Training accuracy:\", T.score(X_train, y_train))\n",
    "print(\"Test accuracy:\", T.score(X_test, y_test))"
   ]
  },
  {
   "cell_type": "markdown",
   "id": "faa2e4be",
   "metadata": {},
   "source": [
    "## Visualize the tree\n",
    "We can also visualize the trained decision tree. The `tree` module of `scikit-learn` provides a convenient method."
   ]
  },
  {
   "cell_type": "code",
   "execution_count": 17,
   "id": "6ec8297d",
   "metadata": {},
   "outputs": [
    {
     "data": {
      "image/png": "[encoded data removed]",
      "text/plain": [
       "<Figure size 1000x600 with 1 Axes>"
      ]
     },
     "metadata": {},
     "output_type": "display_data"
    }
   ],
   "source": [
    "fig, ax = plt.subplots(1, figsize = (10, 6))\n",
    "p = tree.plot_tree(T, \n",
    "                   filled=True, \n",
    "                   feature_names=X_train.columns)"
   ]
  },
  {
   "cell_type": "markdown",
   "id": "fa868cb2-a104-4cd7-a2af-f91deb257809",
   "metadata": {},
   "source": [
    "Samples in each block indicate the number of training examples (or data points) that reached this node. Value is a list showing how many of those samples belong to each class. The class for the node is the one with the majority of samples."
   ]
  }
 ],
 "metadata": {
  "kernelspec": {
   "display_name": "Python 3 (ipykernel)",
   "language": "python",
   "name": "python3"
  },
  "language_info": {
   "codemirror_mode": {
    "name": "ipython",
    "version": 3
   },
   "file_extension": ".py",
   "mimetype": "text/x-python",
   "name": "python",
   "nbconvert_exporter": "python",
   "pygments_lexer": "ipython3",
   "version": "3.10.10"
  }
 },
 "nbformat": 4,
 "nbformat_minor": 5
}
