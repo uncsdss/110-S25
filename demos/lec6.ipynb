{
 "cells": [
  {
   "cell_type": "markdown",
   "id": "507130ed-9794-48fc-8afb-b94fb8006825",
   "metadata": {},
   "source": [
    "# Import pandas and read csv file into a Pandas table (DataFrame)"
   ]
  },
  {
   "cell_type": "code",
   "execution_count": null,
   "id": "8a4c126e-c8b4-4984-b542-43e8aee98cbf",
   "metadata": {},
   "outputs": [],
   "source": [
    "import pandas as pd"
   ]
  },
  {
   "cell_type": "code",
   "execution_count": null,
   "id": "8f498fb2-f833-4cf3-a103-72ba08c86fe3",
   "metadata": {},
   "outputs": [],
   "source": [
    "penguins = pd.read_csv('palmer_penguins.csv')\n",
    "penguins.head()"
   ]
  },
  {
   "cell_type": "code",
   "execution_count": null,
   "id": "15c47026-2a1c-4221-9083-a85f440df915",
   "metadata": {},
   "outputs": [],
   "source": [
    "penguins.shape"
   ]
  },
  {
   "cell_type": "code",
   "execution_count": null,
   "id": "8cbf38dd-e71d-48df-9973-d48f30abb751",
   "metadata": {},
   "outputs": [],
   "source": [
    "penguins.Island.unique()"
   ]
  },
  {
   "cell_type": "markdown",
   "id": "92628a08-9375-4f4a-88d6-0c2c70c855c6",
   "metadata": {},
   "source": [
    "# Individual indexing"
   ]
  },
  {
   "cell_type": "code",
   "execution_count": null,
   "id": "360c8b4d-964b-4940-af5c-a00154d1b144",
   "metadata": {},
   "outputs": [],
   "source": [
    "penguins.loc[2]"
   ]
  },
  {
   "cell_type": "code",
   "execution_count": null,
   "id": "0ba146e0-db84-4dca-81c4-fb189836c3f2",
   "metadata": {},
   "outputs": [],
   "source": [
    "penguins.iloc[2]"
   ]
  },
  {
   "cell_type": "code",
   "execution_count": null,
   "id": "4272cb8b-3799-4cd3-b78f-95278cccaba8",
   "metadata": {},
   "outputs": [],
   "source": [
    "penguins.drop(index=[2, 3])"
   ]
  },
  {
   "cell_type": "markdown",
   "id": "618955d8-4054-4bc8-84d5-3ff05d73aace",
   "metadata": {},
   "source": [
    "# Slicing\n",
    "\n",
    "(Demo on lists and strings are in lec4)"
   ]
  },
  {
   "cell_type": "code",
   "execution_count": null,
   "id": "7137eb37-95b5-401a-958c-2ae171408214",
   "metadata": {},
   "outputs": [],
   "source": [
    "penguins.loc[2:10:3]"
   ]
  },
  {
   "cell_type": "code",
   "execution_count": null,
   "id": "b10faa23-b0d3-49a4-b611-75bd0d06b62f",
   "metadata": {},
   "outputs": [],
   "source": [
    "penguins.loc[2:6]"
   ]
  },
  {
   "cell_type": "code",
   "execution_count": null,
   "id": "9cd8181f-b50c-4f70-b50b-ed9c88d9c5c7",
   "metadata": {},
   "outputs": [],
   "source": [
    "penguins.loc[100:]"
   ]
  },
  {
   "cell_type": "code",
   "execution_count": null,
   "id": "208a02bc-02a0-4ee4-bdc1-34c336e4a9b0",
   "metadata": {},
   "outputs": [],
   "source": [
    "penguins.loc[::5]"
   ]
  },
  {
   "cell_type": "code",
   "execution_count": null,
   "id": "67f9ea8e-370f-4d58-9ad3-c9791e45e23a",
   "metadata": {},
   "outputs": [],
   "source": [
    "penguins.iloc[1:4]"
   ]
  },
  {
   "cell_type": "markdown",
   "id": "f4afe046-bfb2-45c5-aaea-b2c416a8b92c",
   "metadata": {},
   "source": [
    "# Boolean indexing"
   ]
  },
  {
   "cell_type": "code",
   "execution_count": null,
   "id": "e62c3117-e60f-4310-a59b-a02bb95a978f",
   "metadata": {},
   "outputs": [],
   "source": [
    "# If we didn't have boolean indexing...\n",
    "\n",
    "df = pd.DataFrame(columns = penguins.columns)\n",
    "\n",
    "for row_num in penguins.index:\n",
    "    row = penguins.loc[row_num]\n",
    "    if row['Culmen Length (mm)'] < 40:\n",
    "        df.loc[len(df)] = row\n",
    "df"
   ]
  },
  {
   "cell_type": "code",
   "execution_count": null,
   "id": "40bba4ef-0606-45ba-a9e1-9f3c87961851",
   "metadata": {},
   "outputs": [],
   "source": [
    "culm = (penguins['Culmen Length (mm)'] < 40)\n",
    "culm"
   ]
  },
  {
   "cell_type": "code",
   "execution_count": null,
   "id": "bf7735fa-0c0b-4246-8624-916260dee18c",
   "metadata": {},
   "outputs": [],
   "source": [
    "penguins[culm]"
   ]
  },
  {
   "cell_type": "code",
   "execution_count": null,
   "id": "c3724de4-2b57-49e5-ba8a-0196ef8222ee",
   "metadata": {},
   "outputs": [],
   "source": [
    "sum(culm)"
   ]
  },
  {
   "cell_type": "code",
   "execution_count": null,
   "id": "4db18b73-f800-49ee-b157-617d70a71a6d",
   "metadata": {},
   "outputs": [],
   "source": [
    "torg = (penguins['Island'] == 'Torgersen')\n",
    "torg"
   ]
  },
  {
   "cell_type": "code",
   "execution_count": null,
   "id": "a2d9b255-9691-4308-9389-fbe55981ac84",
   "metadata": {},
   "outputs": [],
   "source": [
    "sum(torg)"
   ]
  },
  {
   "cell_type": "code",
   "execution_count": null,
   "id": "ead2a55c-8861-4594-9955-f70f0ac7f3a1",
   "metadata": {},
   "outputs": [],
   "source": [
    "penguins[torg].head()"
   ]
  },
  {
   "cell_type": "code",
   "execution_count": null,
   "id": "f5df5b8f-8bf3-48ae-b40e-819a7d255229",
   "metadata": {},
   "outputs": [],
   "source": [
    "sum(culm & torg)"
   ]
  },
  {
   "cell_type": "code",
   "execution_count": null,
   "id": "97ded742-9f43-4b29-b063-2199c75bab82",
   "metadata": {},
   "outputs": [],
   "source": [
    "culm_and_torg = penguins[culm & torg]"
   ]
  },
  {
   "cell_type": "code",
   "execution_count": null,
   "id": "e25c0169-24ea-4efe-9efa-e570b181dd45",
   "metadata": {},
   "outputs": [],
   "source": [
    "culm_and_torg.head()"
   ]
  },
  {
   "cell_type": "code",
   "execution_count": null,
   "id": "ec03d32c-7797-4e79-bbb2-72a2056ed2a1",
   "metadata": {},
   "outputs": [],
   "source": [
    "culm_and_torg.iloc[2] # 3rd from the top"
   ]
  },
  {
   "cell_type": "code",
   "execution_count": null,
   "id": "662848f4-23bd-478f-a506-1b4b03237cfe",
   "metadata": {},
   "outputs": [],
   "source": [
    "culm_and_torg.loc[2] # row label (index) is 2 ..."
   ]
  },
  {
   "cell_type": "code",
   "execution_count": null,
   "id": "0da2ebc7-7c1b-4604-b960-17d690746f10",
   "metadata": {},
   "outputs": [],
   "source": [
    "sum(culm | torg)"
   ]
  },
  {
   "cell_type": "code",
   "execution_count": null,
   "id": "819c1cc0-8898-419a-bc38-f1329a59f561",
   "metadata": {},
   "outputs": [],
   "source": [
    "penguins[culm | torg]"
   ]
  },
  {
   "cell_type": "code",
   "execution_count": null,
   "id": "186e7020-b058-4022-b04a-8f8769a9fac5",
   "metadata": {},
   "outputs": [],
   "source": [
    "chonk = (penguins['Body Mass (g)'] > 5000)\n",
    "sum(chonk)"
   ]
  },
  {
   "cell_type": "code",
   "execution_count": null,
   "id": "0ca62ffc-d7f8-4972-a197-d8ec0b3cd0a0",
   "metadata": {},
   "outputs": [],
   "source": [
    "sum(culm & torg | chonk)"
   ]
  },
  {
   "cell_type": "code",
   "execution_count": null,
   "id": "e223f8a1-5038-4de3-b5fb-ebe0687b83a9",
   "metadata": {},
   "outputs": [],
   "source": [
    "sum((culm & torg) | chonk)"
   ]
  },
  {
   "cell_type": "code",
   "execution_count": null,
   "id": "3c33a5f4-b479-4138-816f-7cec146f23e6",
   "metadata": {},
   "outputs": [],
   "source": [
    "sum(culm & (torg | chonk))"
   ]
  },
  {
   "cell_type": "code",
   "execution_count": null,
   "id": "8fec349c-777f-4009-a968-e77264e499fc",
   "metadata": {},
   "outputs": [],
   "source": [
    "sum(culm & torg & chonk)"
   ]
  },
  {
   "cell_type": "markdown",
   "id": "408ffecc-6e44-4fd1-9aaa-4c20b8a0a686",
   "metadata": {},
   "source": [
    "# Groupby"
   ]
  },
  {
   "cell_type": "code",
   "execution_count": null,
   "id": "66fa428f-a206-40db-8bdf-14cdc3d1dc28",
   "metadata": {},
   "outputs": [],
   "source": [
    "nba = pd.read_csv('nba_salaries.csv')\n",
    "nba"
   ]
  },
  {
   "cell_type": "code",
   "execution_count": null,
   "id": "dba93cc4-09fe-4cd2-8ecc-91de4bd6dd2d",
   "metadata": {},
   "outputs": [],
   "source": [
    "# if we didn't use groupby...\n",
    "\n",
    "for pos in nba.position.unique():\n",
    "    pos_bool = (nba.position==pos)\n",
    "    print(pos, nba[pos_bool].salary.mean())"
   ]
  },
  {
   "cell_type": "code",
   "execution_count": null,
   "id": "efb414b4-59bf-4027-93f1-0f985f2df9ea",
   "metadata": {},
   "outputs": [],
   "source": [
    "# easy living with groupby for easy/common operations like mean\n",
    "nba.groupby('position').salary.mean()"
   ]
  },
  {
   "cell_type": "code",
   "execution_count": null,
   "id": "b5ffce56-ea35-42e2-8623-2027722a9048",
   "metadata": {},
   "outputs": [],
   "source": [
    "# you can add even more stuff\n",
    "nba.groupby('position').salary.mean().round()"
   ]
  },
  {
   "cell_type": "code",
   "execution_count": null,
   "id": "289c5563-bf93-4a05-96ea-a3c1d4a3c3ef",
   "metadata": {},
   "outputs": [],
   "source": [
    "# for loop + group by\n",
    "for pos, sub_nba in nba.groupby('position'):\n",
    "    print(pos, sub_nba.salary.mean())"
   ]
  },
  {
   "cell_type": "markdown",
   "id": "523169a9-f926-48e4-9d3b-aebfcdbbc2da",
   "metadata": {},
   "source": [
    "# NAs"
   ]
  },
  {
   "cell_type": "code",
   "execution_count": null,
   "id": "3b64bcad-66a1-49ed-853b-6ba7a90922e3",
   "metadata": {},
   "outputs": [],
   "source": [
    "penguins.isna()"
   ]
  },
  {
   "cell_type": "code",
   "execution_count": null,
   "id": "37d97850-580c-4ee4-a179-80ebaeb69dc6",
   "metadata": {},
   "outputs": [],
   "source": [
    "penguins.notna()"
   ]
  },
  {
   "cell_type": "code",
   "execution_count": null,
   "id": "0e267e42-7838-4728-8b7b-d22b5cc833e9",
   "metadata": {},
   "outputs": [],
   "source": [
    "penguins.dropna().shape"
   ]
  },
  {
   "cell_type": "code",
   "execution_count": null,
   "id": "b7868031-0762-4668-9855-9f9ea555b2f4",
   "metadata": {},
   "outputs": [],
   "source": [
    "penguins.dropna(subset=['Culmen Length (mm)', 'Island']).shape"
   ]
  },
  {
   "cell_type": "markdown",
   "id": "aa3a80a4-53f8-457c-97de-3316e6b8145d",
   "metadata": {},
   "source": [
    "# Sort"
   ]
  },
  {
   "cell_type": "code",
   "execution_count": null,
   "id": "39aff07e-4ec4-4061-b345-a182442723cd",
   "metadata": {},
   "outputs": [],
   "source": [
    "nba.sort_values(by='salary')"
   ]
  },
  {
   "cell_type": "code",
   "execution_count": null,
   "id": "1471bebe-94ea-4949-8bb6-0b398a43e007",
   "metadata": {},
   "outputs": [],
   "source": [
    "nba.sort_values(by='salary', ascending=False)"
   ]
  },
  {
   "cell_type": "code",
   "execution_count": null,
   "id": "c859fa07-3d38-46d6-85b6-e3a1fd968188",
   "metadata": {},
   "outputs": [],
   "source": [
    "nba.sort_values(by=['salary', 'season'])"
   ]
  },
  {
   "cell_type": "code",
   "execution_count": null,
   "id": "f32d4478-bc51-4a28-afbe-d605d4c010b1",
   "metadata": {},
   "outputs": [],
   "source": [
    "nba.sort_values(by=['season', 'salary'])"
   ]
  },
  {
   "cell_type": "markdown",
   "id": "0b96219e-7312-4428-985b-337dc4543927",
   "metadata": {},
   "source": [
    "# Discussion questions\n",
    "\n",
    "## Penguins\n",
    "\n",
    "a) What is the average `Body Mass (g)` of `Female` penguins in `Dream` island?\n",
    "\n",
    "b) What is the percentage of `Female` penguins in `Adelie` species? \n",
    "\n",
    "c) What is the percentage of chonky penguins per species? Chonky is defined as `Body Mass` over 5kg.\n"
   ]
  },
  {
   "cell_type": "code",
   "execution_count": null,
   "id": "3d39e6ca-f568-4193-ab59-2354ffc1f22d",
   "metadata": {},
   "outputs": [],
   "source": []
  },
  {
   "cell_type": "code",
   "execution_count": null,
   "id": "114aaa6e-2f9d-4427-afab-347b817a8e89",
   "metadata": {},
   "outputs": [],
   "source": []
  },
  {
   "cell_type": "code",
   "execution_count": null,
   "id": "34b2193d-762b-4862-8420-23d7bca1625a",
   "metadata": {},
   "outputs": [],
   "source": []
  },
  {
   "cell_type": "markdown",
   "id": "585a3390-6403-4392-b556-f5759bbf9f99",
   "metadata": {},
   "source": [
    "## NBA\n",
    "\n",
    "a) Add a new column of the salary in units of 1M. Round to 2 digits after decimal point.\n",
    "\n",
    "b) Find the names of all point guards (PG) who made more than $15M\n",
    "\n",
    "c) After evaluating these expressions in order, what's the result?\n",
    "\n",
    "```python\n",
    "nba = pd.read_csv('nba_salaries.csv')\n",
    "nba.drop(columns='position')\n",
    "nba.shape\n",
    "```\n"
   ]
  },
  {
   "cell_type": "code",
   "execution_count": null,
   "id": "9f595802-2f67-4726-96b8-ee90d253b963",
   "metadata": {},
   "outputs": [],
   "source": []
  },
  {
   "cell_type": "code",
   "execution_count": null,
   "id": "a4751e06-1cfe-4a9b-9fe0-2c31c78eee76",
   "metadata": {},
   "outputs": [],
   "source": []
  },
  {
   "cell_type": "code",
   "execution_count": null,
   "id": "e19ff2c5-c2cf-4062-a544-823ca4c44e58",
   "metadata": {},
   "outputs": [],
   "source": []
  }
 ],
 "metadata": {
  "kernelspec": {
   "display_name": "Python 3 (ipykernel)",
   "language": "python",
   "name": "python3"
  },
  "language_info": {
   "codemirror_mode": {
    "name": "ipython",
    "version": 3
   },
   "file_extension": ".py",
   "mimetype": "text/x-python",
   "name": "python",
   "nbconvert_exporter": "python",
   "pygments_lexer": "ipython3",
   "version": "3.11.8"
  }
 },
 "nbformat": 4,
 "nbformat_minor": 5
}
