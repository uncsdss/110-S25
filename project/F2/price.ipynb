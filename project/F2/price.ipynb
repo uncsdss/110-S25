{
 "cells": [
  {
   "cell_type": "code",
   "execution_count": null,
   "id": "9a803ccf-62da-43a3-8eda-663745b560e1",
   "metadata": {},
   "outputs": [],
   "source": [
    "import pandas as pd"
   ]
  },
  {
   "cell_type": "code",
   "execution_count": null,
   "id": "9b76fcce-ef7b-4052-a09e-f7340bdfe852",
   "metadata": {},
   "outputs": [],
   "source": [
    "test_results = pd.read_csv('test_results.csv')\n",
    "test_results"
   ]
  },
  {
   "cell_type": "code",
   "execution_count": null,
   "id": "28492f1f-478d-4d8d-a7b3-9732fab46d36",
   "metadata": {},
   "outputs": [],
   "source": [
    "users = pd.read_csv('user_table.csv')\n",
    "users"
   ]
  },
  {
   "cell_type": "code",
   "execution_count": null,
   "id": "fa129d31-50bd-419d-9da0-de13429fdef9",
   "metadata": {},
   "outputs": [],
   "source": [
    "# add user information from users table to the test_results table\n",
    "test_merged = pd.merge(test_results, users, how='left', on='user_id')\n",
    "test_merged"
   ]
  },
  {
   "cell_type": "code",
   "execution_count": null,
   "id": "d1ae8c37-117e-4684-9794-7a9a5247733f",
   "metadata": {},
   "outputs": [],
   "source": []
  }
 ],
 "metadata": {
  "kernelspec": {
   "display_name": "Python 3 (ipykernel)",
   "language": "python",
   "name": "python3"
  },
  "language_info": {
   "codemirror_mode": {
    "name": "ipython",
    "version": 3
   },
   "file_extension": ".py",
   "mimetype": "text/x-python",
   "name": "python",
   "nbconvert_exporter": "python",
   "pygments_lexer": "ipython3",
   "version": "3.10.14"
  }
 },
 "nbformat": 4,
 "nbformat_minor": 5
}
