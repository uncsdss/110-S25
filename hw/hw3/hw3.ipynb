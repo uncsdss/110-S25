{
 "cells": [
  {
   "cell_type": "markdown",
   "id": "4449f091",
   "metadata": {
    "id": "4449f091"
   },
   "source": [
    "## Name and Onyen\n",
    "\n",
    "Names and Onyens of fellow students you discussed Homework3 problems and ideas:\n",
    "\n",
    "- Students:\n",
    "\n",
    "We encourage discussing ideas and brainstorming with your peers, but the final text, code, and comments in this homework assignment MUST be 100% written by you as mentioned in syllabus."
   ]
  },
  {
   "cell_type": "markdown",
   "id": "953a7ae3",
   "metadata": {
    "id": "953a7ae3"
   },
   "source": [
    "# Homework 3: Data communication  (50 points)\n",
    "\n",
    "Please complete this notebook by filling in the cells provided. \n",
    "\n",
    "!! Please submit a **PDF** of your notebook. You can make a PDF from JupyterHub by 1. File->Print or 2. Command+P (on Mac), then choose 'Save to PDF'. This saves the file on your laptop. All problems will be manually graded, so no need to submit ipynb or zip file. **But you need to make sure all your code is visible and not cut off in the pdf. If we can't see your answer code for a coding problem, points may be deducted.**\n",
    "\n",
    "!! Points will also be **deducted** if you do not include your name and Onyen in the Markdown cell above!!"
   ]
  },
  {
   "cell_type": "markdown",
   "id": "96bfbfa1-0f7c-46f3-9bda-1edfb4d6f7a6",
   "metadata": {
    "id": "96bfbfa1-0f7c-46f3-9bda-1edfb4d6f7a6"
   },
   "source": [
    "## Problem 1. Storytelling (12 points)\n",
    "\n",
    "Something we've tried to emphasize in the data communication unit is that the same data can be used to tell different stories, sometimes intentionally and sometimes unintentionally. Let's investigate that further.\n",
    "\n",
    "**Problem 1.1 (2 points).** Readings.\n",
    "\n",
    "First, read at least **ONE** of the two blog posts that summarize good and bad data visualization techniques.\n",
    "\n",
    "A) Blog post: https://medium.com/agoda-engineering/10-common-data-visualization-mistakes-and-how-to-avoid-them-e3896fe8e104\n",
    "\n",
    "B) Blog post: https://www.oldstreetsolutions.com/good-and-bad-data-visualization\n",
    "\n",
    "Which one did you pick, and what are two new things you learned from it? Use 3 to 4 sentences, and be as specific as you can. For example, \"I learned that data visualization is important\" will not get any credit.\n",
    "\n",
    "If you have any trouble accessing these websites, please find the pdf files uploaded to the canvas website."
   ]
  },
  {
   "cell_type": "markdown",
   "id": "999b2ea5-629b-4184-a9de-4e0fa608cc58",
   "metadata": {
    "id": "999b2ea5-629b-4184-a9de-4e0fa608cc58"
   },
   "source": [
    "[Write your answer here!]"
   ]
  },
  {
   "cell_type": "markdown",
   "id": "290e9847-2781-4676-8e8c-216f68da25b3",
   "metadata": {
    "id": "290e9847-2781-4676-8e8c-216f68da25b3"
   },
   "source": [
    "**Problem 1.2 (7 points)**. Finding and assessing data visualization.\n",
    "\n",
    "1. (1 point) Find an example of a good data visualization from the internet. Just adding a link here that gets you to the graphic is fine. Although we didn't cover it in class, interactive visualizations are also welcome.\n",
    "\n",
    "**Where to find data visualization**:\n",
    "The UNC Libraries provides electronic access to several information resources with features on data science-related communications including:\n",
    "\n",
    "- The [Department of Data in the Washington Post](https://www.washingtonpost.com/business/2022/06/29/dept-of-data/)\n",
    "access funded by the Student Library Advisory Board, see https://guides.lib.unc.edu/washington-post.\n",
    "\n",
    "- The [Graphics spotlight in The New York Times](https://www.nytimes.com/spotlight/graphics)\n",
    "access funded by the Student Library Advisory Board, see https://guides.lib.unc.edu/nyt-academic-pass.\n",
    "\n",
    "\n",
    "- The Wall Street Journal\n",
    "full-text + pdf in UNC Libraries online access through Proquest: http://libproxy.lib.unc.edu/login?url=https://www.proquest.com/publication/2045994   \n",
    "\n",
    "- The Economist\n",
    "Full-text + pdf through UNC Libraries: http://libproxy.lib.unc.edu/login?url=https://www.proquest.com/publication/41716"
   ]
  },
  {
   "cell_type": "markdown",
   "id": "c54d2098-becd-4e8b-b72d-b7198e12bf47",
   "metadata": {
    "id": "c54d2098-becd-4e8b-b72d-b7198e12bf47"
   },
   "source": [
    "[Write your answer here!]"
   ]
  },
  {
   "cell_type": "markdown",
   "id": "1dde5471-be16-4023-9147-4946c423e90c",
   "metadata": {
    "id": "1dde5471-be16-4023-9147-4946c423e90c"
   },
   "source": [
    "2. (1 point) Write down what the data behind the graphics is (e.g. US census, survey among some population) and what the source is. Your visualization (if it's any good) should mention where the data came from."
   ]
  },
  {
   "cell_type": "markdown",
   "id": "8c389459-45fa-4763-86bc-2e7ba7d5a0f0",
   "metadata": {
    "id": "8c389459-45fa-4763-86bc-2e7ba7d5a0f0"
   },
   "source": [
    "[Write your answer here!]"
   ]
  },
  {
   "cell_type": "markdown",
   "id": "c5b848b0-1820-4e4d-a0ec-2978cb62e9b3",
   "metadata": {
    "id": "c5b848b0-1820-4e4d-a0ec-2978cb62e9b3"
   },
   "source": [
    "3. (2 point) Summarize in 1 to 2 sentences what you think this plot is trying to tell you. What do you think the creator of this visualization wanted you to know about the data, if you could take away just one thing?"
   ]
  },
  {
   "cell_type": "markdown",
   "id": "31a73827-69f1-4736-9f7f-f7f01bf341a5",
   "metadata": {
    "id": "31a73827-69f1-4736-9f7f-f7f01bf341a5"
   },
   "source": [
    "[Write your answer here!]"
   ]
  },
  {
   "cell_type": "markdown",
   "id": "749ad1a6-cf18-406b-9a40-be060da084d7",
   "metadata": {
    "id": "749ad1a6-cf18-406b-9a40-be060da084d7"
   },
   "source": [
    "4. (3 points) Write two things you like about this plot or why you thought this is an example of good data visualization (2 to 3 sentences). Write one thing you would like to change to improve the plot (1 to 2 sentences). This improvement could be for you specifically or in general."
   ]
  },
  {
   "cell_type": "markdown",
   "id": "fa5e1271-72f5-41ff-8345-11bcb1ab1ce7",
   "metadata": {
    "id": "fa5e1271-72f5-41ff-8345-11bcb1ab1ce7"
   },
   "source": [
    "[Write your answer here!]"
   ]
  },
  {
   "cell_type": "markdown",
   "id": "739a399c-db5d-4ded-bfd2-503e76fb08fb",
   "metadata": {
    "id": "739a399c-db5d-4ded-bfd2-503e76fb08fb"
   },
   "source": [
    "**Problem 1.3 (3 points)**. Messing around.\n",
    "\n",
    "Pretend you are a nefarious villain named EvilCat who wants to mess with the world.\n",
    "\n",
    "You really don't like what the original plot was trying to tell you, i.e. what you wrote down in Problem 1.2.3. Therefore, you decide to create an intentionally *bad* and *misleading* data visualization from the *same set of data* (i.e. what you wrote down in Problem 1.2.2.) that tells a *completely different*, or even the *opposite* and *contradicting* message.\n",
    "\n",
    "For example, let's say the original plot you picked shows that the unemployment rate in the US is decreasing, and therefore the US economy is doing well according to this measure. EvilCat (that's you) wants to create a new plot that shows that the unemployment rate is increasing, or at the very least staying the same, using the same dataset.\n",
    "\n",
    "Now, please explain how you whould achieve that in 3~5 sentences. Be as specific as you can by referring to specific parts of the plot. If you're stuck, referring back to the readings from Problem 1.1 might be helpful. You are not required to actually make this plot with seaborn."
   ]
  },
  {
   "cell_type": "markdown",
   "id": "083f45b0-9d2a-469f-bd0a-95594565d08f",
   "metadata": {
    "id": "083f45b0-9d2a-469f-bd0a-95594565d08f"
   },
   "source": [
    "[Write your answer here!]"
   ]
  },
  {
   "cell_type": "markdown",
   "id": "874a92f6-4159-4139-be3c-d1eacefc240a",
   "metadata": {
    "id": "874a92f6-4159-4139-be3c-d1eacefc240a"
   },
   "source": [
    "## Problem 2: Burritos Revisited (22 points)"
   ]
  },
  {
   "cell_type": "code",
   "execution_count": null,
   "id": "04567857-d088-4235-9e89-14421e73e15f",
   "metadata": {
    "id": "04567857-d088-4235-9e89-14421e73e15f"
   },
   "outputs": [],
   "source": [
    "# Run this cell!!\n",
    "\n",
    "import pandas as pd\n",
    "import seaborn as sns\n",
    "import matplotlib.pyplot as plt"
   ]
  },
  {
   "cell_type": "markdown",
   "id": "a6afae6f-19b7-447b-ac7c-1ac82d48a93f",
   "metadata": {},
   "source": [
    "\n",
    "**Problem 2.1 (1 point)**. Reading tables.\n",
    "\n",
    "Let's revisit the `burritos` data from hw2.\n",
    "\n",
    "In the next cell, write two lines of code:\n",
    "\n",
    "1) read the file `ratings.csv` and save the resulting table as a variable called `ratings`,\n",
    "2) read the file `burritos_types.csv` and save the resulting table as a variable called `burritos_types`."
   ]
  },
  {
   "cell_type": "code",
   "execution_count": null,
   "id": "9177c8ea-4578-4c24-817e-d06e417b1880",
   "metadata": {
    "id": "9177c8ea-4578-4c24-817e-d06e417b1880"
   },
   "outputs": [],
   "source": [
    "# Write your code here!\n"
   ]
  },
  {
   "cell_type": "code",
   "execution_count": null,
   "id": "79a15503-714b-4b42-8d85-f3a6f7ca0764",
   "metadata": {
    "colab": {
     "base_uri": "https://localhost:8080/",
     "height": 206
    },
    "id": "79a15503-714b-4b42-8d85-f3a6f7ca0764",
    "outputId": "f6d910d4-8a15-48be-a6c6-3ffe1339cc92"
   },
   "outputs": [],
   "source": [
    "ratings.head() # Run this to check"
   ]
  },
  {
   "cell_type": "code",
   "execution_count": null,
   "id": "14910b96-fb27-43cf-8b85-ad31af4a477c",
   "metadata": {
    "colab": {
     "base_uri": "https://localhost:8080/",
     "height": 206
    },
    "id": "14910b96-fb27-43cf-8b85-ad31af4a477c",
    "outputId": "d8c9c415-abf1-426a-869f-bb71ccdf2bd7"
   },
   "outputs": [],
   "source": [
    "burritos_types.head() # Run this to check"
   ]
  },
  {
   "cell_type": "markdown",
   "id": "954fafb3-782f-4c20-95b7-a6279b9cbaae",
   "metadata": {
    "id": "954fafb3-782f-4c20-95b7-a6279b9cbaae"
   },
   "source": [
    "**Problem 2.2 (6 points)**. Burrito costs.\n",
    "\n",
    "Take a look at the following plot:\n",
    "\n",
    "![burritos_avg](./burritos_avg.png)\n",
    "\n",
    "Recreate this plot by following these steps.\n",
    "\n",
    "1) (1 point) Calculate the average burrito cost **per restuarant** and save that resulting table as a variable called `mean_cost_per_restaurant`. **Hint**: First decide whether you need `ratings` or `burritos_types`. **Hint**: This is one line of code!\n",
    "\n",
    "2) (1 point) Determine whether this plot is a line plot, scatter plot, bar chart, or a histogram. Then try to create a plot that looks like this using the appropriate seaborn function. No worries if you don't get the `cost` legend on the corner or if you get a different color. **Hint**: This is one line!\n",
    "\n",
    "3) (1 point) Now add the extra things - x axis label, y axis label, and title. I used fontsize 14 for the axes labels and 16 for the title. **Hint**: Each of this is one line, total of three lines! If you're unsure, take a look at lab 5. If you're doing something weird with the ticklabels, you've done the previous question incorrectly. Refer back to lecture slides.\n",
    "\n",
    "4) (1 point) Determine what the units of the x and y axes should be, and make sure to replace the `(units??)` text placeholders in the labels with the appropriate text."
   ]
  },
  {
   "cell_type": "code",
   "execution_count": null,
   "id": "c89e9a0e-0658-43cf-b677-dc8fce9d1102",
   "metadata": {
    "colab": {
     "base_uri": "https://localhost:8080/",
     "height": 479
    },
    "id": "c89e9a0e-0658-43cf-b677-dc8fce9d1102",
    "outputId": "6628e7c7-318e-4665-82a4-a1a799a9dbec"
   },
   "outputs": [],
   "source": [
    "# Write your code here!\n"
   ]
  },
  {
   "cell_type": "markdown",
   "id": "cb54a3ff-f754-4b6b-9085-b046a95d74a7",
   "metadata": {
    "id": "cb54a3ff-f754-4b6b-9085-b046a95d74a7"
   },
   "source": [
    "5) (2 points) Without doing any calculations or coding, what would you say a typical burrito at a typical restaurant would cost in this town? In other words, if you walk into a random restaurant and buy a random burrito, how much do you expect to pay? Write a short sentence to justify your answer, using one (or more) of the words mean, median, mode, quartile, or percentile. Choose whichever you think is appropriate. There are multiple valid answers that can get full credit."
   ]
  },
  {
   "cell_type": "markdown",
   "id": "2a0ad7f5-b678-42f1-a09c-852178f3ce60",
   "metadata": {},
   "source": [
    "[Write your answer here!]"
   ]
  },
  {
   "cell_type": "markdown",
   "id": "5fab7726-d9a8-4c0c-af1e-d2eced9a5d1f",
   "metadata": {
    "id": "5fab7726-d9a8-4c0c-af1e-d2eced9a5d1f"
   },
   "source": [
    "**Problem 2.3 (7 points)**. Restaurant ratings.\n",
    "\n",
    "Now we have a different type of plot for restaurant ratings.\n",
    "\n",
    "![ratings.png](./ratings.png)\n",
    "\n",
    "1. (2 points) Try to recreate this plot including the axis labels and title. I used the same fontsizes as the earlier questions. No worries if you get different colors or small cosmetic differences. **Hint**: First decide what type of plot this is, and which seaborn function you need to work with. Then decide which table you need to work with. My solution code is just 5 lines. If you're writing something more complex than this or spending more than 5 to 10 minutes on this, you might be misunderstanding the prompt."
   ]
  },
  {
   "cell_type": "code",
   "execution_count": null,
   "id": "eb759787-38ab-4308-8b8f-8ce5c4496c35",
   "metadata": {
    "colab": {
     "base_uri": "https://localhost:8080/",
     "height": 479
    },
    "id": "eb759787-38ab-4308-8b8f-8ce5c4496c35",
    "outputId": "412d4b1f-aa1c-4351-a811-45d2ba06ac2e"
   },
   "outputs": [],
   "source": [
    "# Write your code here!\n"
   ]
  },
  {
   "cell_type": "markdown",
   "id": "76a5d9c3-0b3c-49a5-a6bb-d67b32bd5396",
   "metadata": {
    "id": "76a5d9c3-0b3c-49a5-a6bb-d67b32bd5396"
   },
   "source": [
    "2. (2 points) Without doing any calculations or coding, do you notice any patterns in the data, i.e. any relationships between ratings from different platforms? Which platform do you \"trust\" more (many valid answers) and does this plot change your opinion on whose ratings to trust more (it's okay if it doesn't)? Make sure to justify your answers. There are many valid answers that can get full credit."
   ]
  },
  {
   "cell_type": "markdown",
   "id": "0887681f-8b9b-43a2-9f59-ca5b9e2b79fb",
   "metadata": {
    "id": "0887681f-8b9b-43a2-9f59-ca5b9e2b79fb"
   },
   "source": [
    "[Write your answer here!]"
   ]
  },
  {
   "cell_type": "markdown",
   "id": "ac7bdb7c-d617-47b6-8203-4511d4275a21",
   "metadata": {
    "id": "ac7bdb7c-d617-47b6-8203-4511d4275a21"
   },
   "source": [
    "3. (2 point) Do you notice anything odd about the Yelp plot? Is it *missing* anything, compared to the other two? Tell us what's missing in this Yelp plot, and why that would be the case. **Hint**: Try running the `describe` function on this table and see if you notice anything interesting that could lead to this observation.\n"
   ]
  },
  {
   "cell_type": "code",
   "execution_count": null,
   "id": "626fddba-1848-4011-aa52-38556dbf6870",
   "metadata": {
    "colab": {
     "base_uri": "https://localhost:8080/",
     "height": 300
    },
    "id": "626fddba-1848-4011-aa52-38556dbf6870",
    "outputId": "3191cf44-7b2b-4386-c875-56017e28c268"
   },
   "outputs": [],
   "source": [
    "# Write your code here! (if you need it)\n"
   ]
  },
  {
   "cell_type": "markdown",
   "id": "4da14094-3317-4b04-a98f-1b9db3b4b77c",
   "metadata": {
    "id": "4da14094-3317-4b04-a98f-1b9db3b4b77c"
   },
   "source": [
    "[Write your answer here!]"
   ]
  },
  {
   "cell_type": "markdown",
   "id": "b84fe125-dd08-4d87-80ee-82d8cf11ae65",
   "metadata": {
    "id": "b84fe125-dd08-4d87-80ee-82d8cf11ae65"
   },
   "source": [
    "4. (1 point) Calculate the 3 statistical dispersion measures (discussed in class) for Google. Make sure to show your work with code and/or writing."
   ]
  },
  {
   "cell_type": "code",
   "execution_count": null,
   "id": "5d5d8b23-9b14-4d2e-84ce-228df8f883f8",
   "metadata": {
    "colab": {
     "base_uri": "https://localhost:8080/"
    },
    "id": "5d5d8b23-9b14-4d2e-84ce-228df8f883f8",
    "outputId": "18545644-844e-45c5-b752-2e23152c2a99"
   },
   "outputs": [],
   "source": [
    "# Write your code here! (if you need it)\n"
   ]
  },
  {
   "cell_type": "markdown",
   "id": "1349498a-dca1-468f-ae65-932ee1edfdd1",
   "metadata": {
    "id": "1349498a-dca1-468f-ae65-932ee1edfdd1"
   },
   "source": [
    "[Write your answer here!]"
   ]
  },
  {
   "cell_type": "markdown",
   "id": "52516738-c56a-4e2a-8b28-d96af4a304f6",
   "metadata": {
    "id": "52516738-c56a-4e2a-8b28-d96af4a304f6"
   },
   "source": [
    "**Problem 2.4 (6 points)**. Burrito costs (v2).\n",
    "\n",
    "You liked your previous plot so much that you decided to make it again for burritos.\n",
    "\n",
    "![burritos_cost.png](burritos_cost.png)\n",
    "1. (1 point) Make this plot, including the axis labels and title. It's okay if there are small cosmetic differences. Fontsizes are the same as earlier. Again, my solution code is only 5 lines, so if yours is much longer or complicated than that, you might be doing something wrong."
   ]
  },
  {
   "cell_type": "code",
   "execution_count": null,
   "id": "6a34bb72-d7c4-441f-a137-9e26b963b8ed",
   "metadata": {
    "colab": {
     "base_uri": "https://localhost:8080/",
     "height": 465
    },
    "id": "6a34bb72-d7c4-441f-a137-9e26b963b8ed",
    "outputId": "55bad8ac-9cc5-4a3d-d905-17cd8bf963a9"
   },
   "outputs": [],
   "source": [
    "# Write your code here. Add as many new cells (code or markdown) as you need.\n"
   ]
  },
  {
   "cell_type": "markdown",
   "id": "ebd816c5-e790-4dcc-9000-6241f6a3baef",
   "metadata": {
    "id": "ebd816c5-e790-4dcc-9000-6241f6a3baef"
   },
   "source": [
    "2. (2 point) Without doing any calculations or coding, what would you say a typical burrito would cost in this town? Is your answer different from Problem 2.2? **Is the distribution plotted here the same as the distribution plotted in Problem 2.2**? Make sure to justify your answers.\n"
   ]
  },
  {
   "cell_type": "markdown",
   "id": "91c7eb64-4470-4c7e-a53c-9e09fe3449f0",
   "metadata": {
    "id": "91c7eb64-4470-4c7e-a53c-9e09fe3449f0"
   },
   "source": [
    "[Write your answer here!]"
   ]
  },
  {
   "cell_type": "markdown",
   "id": "c49bffc2-9afc-4972-9bfe-90323ccbdad4",
   "metadata": {
    "id": "c49bffc2-9afc-4972-9bfe-90323ccbdad4"
   },
   "source": [
    "3. (1 point) Because of the outlier way up high, the plot is being squished. Can you find out which menu item from which restaurant is causing this problem? **Hint**: My solution uses 1~2 lines of code.\n"
   ]
  },
  {
   "cell_type": "code",
   "execution_count": null,
   "id": "74e55a37-d140-4894-b116-ff6b4955404a",
   "metadata": {
    "colab": {
     "base_uri": "https://localhost:8080/",
     "height": 81
    },
    "id": "74e55a37-d140-4894-b116-ff6b4955404a",
    "outputId": "2d34573c-08ef-400c-b331-d2694bd2bae9"
   },
   "outputs": [],
   "source": [
    "# Write your code here!\n"
   ]
  },
  {
   "cell_type": "markdown",
   "id": "0e35b654-f2ab-4ed2-b789-fc18b93a16aa",
   "metadata": {
    "id": "0e35b654-f2ab-4ed2-b789-fc18b93a16aa"
   },
   "source": [
    "4. (2 point) What is the average burrito cost **without** this outlier? How much less (rounded to the nearest cent) is this value compared to the average burrito cost **with** the outlier?"
   ]
  },
  {
   "cell_type": "code",
   "execution_count": null,
   "id": "67ed24f1-d9fc-4c0b-b6c7-bb469c7c1275",
   "metadata": {
    "colab": {
     "base_uri": "https://localhost:8080/"
    },
    "id": "67ed24f1-d9fc-4c0b-b6c7-bb469c7c1275",
    "outputId": "39179901-f4af-49ba-bf2f-2a3b228c9924"
   },
   "outputs": [],
   "source": [
    "# Write your code here!\n"
   ]
  },
  {
   "cell_type": "markdown",
   "id": "9a622f59-ff56-48ba-b46e-13096e693623",
   "metadata": {
    "id": "9a622f59-ff56-48ba-b46e-13096e693623"
   },
   "source": [
    "**Problem 2.5 (2 points)**. Translating insights into action.\n",
    "\n",
    "Surprise! You're actually a consultant hired by someone trying to break into the burrito industry in California. You are analyzing this dataset to gain some insight so that you can give good strategy advice to your client. What advice would you give to your client in terms of 1) how much they should charge for each burrito and 2) which reviewing platform (Yelp or Google) they should advertise more heavily on? Why? Make sure to justify your answer by referring to plots and calculations you've made in previous problems. There are many valid answers that would get full credit as long as they are well-justified."
   ]
  },
  {
   "cell_type": "markdown",
   "id": "b36487ab-0866-46f2-ab44-4190833319d9",
   "metadata": {
    "id": "b36487ab-0866-46f2-ab44-4190833319d9"
   },
   "source": [
    "[Write your answer here!]"
   ]
  },
  {
   "cell_type": "markdown",
   "id": "d574f372-c9d7-40c0-80da-4eb08b4cf896",
   "metadata": {
    "id": "d574f372-c9d7-40c0-80da-4eb08b4cf896"
   },
   "source": [
    "## Problem 3: Basketball (12 points)\n",
    "\n",
    "So I may or may not be contractually obligated to write at least one homework problem about basketball while at UNC.\n",
    "\n",
    "Using data from this website (https://www.sports-reference.com/cbb/schools/north-carolina/men/), let's take a look at the UNC Men's Basketball history."
   ]
  },
  {
   "cell_type": "code",
   "execution_count": null,
   "id": "2fe86698-3c85-4df9-80b9-7b92f9502edc",
   "metadata": {},
   "outputs": [],
   "source": [
    "# Run this cell!!\n",
    "\n",
    "import pandas as pd\n",
    "import seaborn as sns\n",
    "import matplotlib.pyplot as plt"
   ]
  },
  {
   "cell_type": "markdown",
   "id": "5763ce5e-013e-4ab4-9296-742f6210ad93",
   "metadata": {},
   "source": [
    "**Problem 3.1 (3 points)**. Reading and preparing tables.\n",
    "1. (1 point) Read the file `unc_all.csv` and save the resulting table as a variable called `unc`. Next, read the file `unc_coaches.csv` and save the resulting table as a variable named `unc_coaches`.\n",
    "3. (2 points) Take a look at the `Season` column in `unc`. Our goal is to create a new column called `Year` that is derived from the `Season` column such that it takes the \"beginning\" year of the season. For example, I want \"2023-24\" in Season -> 2023 in Year, \"2022-23\" in Season -> 2022 in Year, and so on. Note that I am being intentional with the use of quotation marks here; I want all values in my new Year column to be of data type `int`.\n",
    "\n",
    "**Hint**: You've seen examples in lecture where we took the first names and last names of the NBA players. This used the `.str.split(...).str.get(...)` notation. Find out what to replace each `...` with, and what should come before the `.str`.\n",
    "\n",
    "**Hint**: You can change the datatype of a column by using the `.astype(...)` notation. Same hint as above."
   ]
  },
  {
   "cell_type": "code",
   "execution_count": null,
   "id": "65ddca72-4ceb-4820-8492-2a22b37339be",
   "metadata": {
    "colab": {
     "base_uri": "https://localhost:8080/",
     "height": 310
    },
    "id": "65ddca72-4ceb-4820-8492-2a22b37339be",
    "outputId": "df80e943-2a14-42da-c9e8-e8e9e86ae6fc"
   },
   "outputs": [],
   "source": [
    "# Write your code here! Add as many new cells as you need.\n"
   ]
  },
  {
   "cell_type": "code",
   "execution_count": null,
   "id": "e71d6f7b-f18d-4ba2-b373-fa026e7c97a2",
   "metadata": {
    "id": "54668c40-d91a-45d5-9276-2921aaf51d5b"
   },
   "outputs": [],
   "source": [
    "unc.head() # run this to check"
   ]
  },
  {
   "cell_type": "code",
   "execution_count": null,
   "id": "86d7325a-624f-4fec-8081-9b0614ab8dbe",
   "metadata": {},
   "outputs": [],
   "source": [
    "unc_coaches.head() # run this to check"
   ]
  },
  {
   "cell_type": "code",
   "execution_count": null,
   "id": "f5a83238-2dd4-487a-8b3c-3a575b30f28c",
   "metadata": {},
   "outputs": [],
   "source": [
    "unc.info # run this to check"
   ]
  },
  {
   "cell_type": "markdown",
   "id": "f1f2e32d-7751-41e3-bd79-61822beb40a7",
   "metadata": {
    "id": "f1f2e32d-7751-41e3-bd79-61822beb40a7"
   },
   "source": [
    "**Problem 3.2 (4 points)**. Histograms.\n",
    "\n",
    "I made the following histogram of wins (with the `stat='density'` parameter):\n",
    "![wins_density.png](wins_density.png)\n",
    "\n",
    "The bins correspond to the coaches, which you can check from the `unc_coaches` table.\n",
    "\n",
    "1. (1 point) What should the unit be on the y axis?\n",
    "\n",
    "   "
   ]
  },
  {
   "cell_type": "markdown",
   "id": "79ef8977-1bf1-46f0-8abc-49bcfdfa3603",
   "metadata": {
    "id": "79ef8977-1bf1-46f0-8abc-49bcfdfa3603"
   },
   "source": [
    "[Write your answer here!]"
   ]
  },
  {
   "cell_type": "markdown",
   "id": "4faf795b-1811-4435-9117-52a7667021d3",
   "metadata": {
    "id": "4faf795b-1811-4435-9117-52a7667021d3"
   },
   "source": [
    "2. (1 point) Based on this histogram, which coach won the **most games**? Write a short sentence to justify your answer."
   ]
  },
  {
   "cell_type": "markdown",
   "id": "a1cbbd4d-59f6-45b7-a2a2-72648ed98734",
   "metadata": {
    "id": "a1cbbd4d-59f6-45b7-a2a2-72648ed98734"
   },
   "source": [
    "[Write your answer here!]"
   ]
  },
  {
   "cell_type": "markdown",
   "id": "ae8fc216-aa02-4f9a-82ff-df0de1ab0732",
   "metadata": {
    "id": "ae8fc216-aa02-4f9a-82ff-df0de1ab0732"
   },
   "source": [
    "3. (1 point) Based on this histogram, which coach won the **most games per year**? Write a short sentence to justify your answer."
   ]
  },
  {
   "cell_type": "markdown",
   "id": "ffd79bd4-bb65-40ea-98f6-6a4fe3d9c50a",
   "metadata": {
    "id": "ffd79bd4-bb65-40ea-98f6-6a4fe3d9c50a"
   },
   "source": [
    "[Write your answer here!]"
   ]
  },
  {
   "cell_type": "markdown",
   "id": "64a964b2-a526-413b-921f-bb37c952b5cd",
   "metadata": {
    "id": "64a964b2-a526-413b-921f-bb37c952b5cd"
   },
   "source": [
    "4. (1 point) Based on this histogram (and this histogram only), who would you vote as the most successful coach in the history of UNC Men's Basketball? Write a short sentence to justify your answer. "
   ]
  },
  {
   "cell_type": "markdown",
   "id": "e04e0ed8-1605-480b-8c54-ae3fd8c6a1ed",
   "metadata": {
    "id": "e04e0ed8-1605-480b-8c54-ae3fd8c6a1ed"
   },
   "source": [
    "[Write your answer here!]"
   ]
  },
  {
   "cell_type": "markdown",
   "id": "b092cf24-e6d8-41c5-8b53-c0715bbae1b6",
   "metadata": {
    "id": "b092cf24-e6d8-41c5-8b53-c0715bbae1b6"
   },
   "source": [
    "**Problem 3.3 (5 points)**. Barplots.\n",
    "\n",
    "Let's make some barplots!\n",
    "\n",
    "1. (1 point) Make a barplot of the number of **wins** for each coach. Please use the horizontal orientation so that we can read the coach names easily. **Hint**: First decide which table has that information."
   ]
  },
  {
   "cell_type": "code",
   "execution_count": null,
   "id": "19bf8c8f-5738-4153-b0ed-bdb3462cba4e",
   "metadata": {
    "colab": {
     "base_uri": "https://localhost:8080/",
     "height": 479
    },
    "id": "19bf8c8f-5738-4153-b0ed-bdb3462cba4e",
    "outputId": "35add0b4-ac65-4077-8851-5b3966df7747"
   },
   "outputs": [],
   "source": [
    "# Write your code here!"
   ]
  },
  {
   "cell_type": "markdown",
   "id": "f0e6e73e-536b-40f0-aa59-8d5026836124",
   "metadata": {
    "id": "f0e6e73e-536b-40f0-aa59-8d5026836124"
   },
   "source": [
    "2. (1 point) Create a new column for the table called `W/Yr` that keeps track of how many **wins per year** each coach has accomplished. Then make a new barplot with this column.\n"
   ]
  },
  {
   "cell_type": "code",
   "execution_count": null,
   "id": "6543a657-03af-495a-850e-148eb0b5cfbe",
   "metadata": {
    "colab": {
     "base_uri": "https://localhost:8080/",
     "height": 479
    },
    "id": "6543a657-03af-495a-850e-148eb0b5cfbe",
    "outputId": "101a17d4-bc10-499c-c795-0beec909c010"
   },
   "outputs": [],
   "source": [
    "# Write your code here!"
   ]
  },
  {
   "cell_type": "markdown",
   "id": "9a17962d-0697-47e8-a874-6c84482f4fa9",
   "metadata": {
    "id": "9a17962d-0697-47e8-a874-6c84482f4fa9"
   },
   "source": [
    "3. (1 point) Compare the two barplots. What are the main differences you notice?\n"
   ]
  },
  {
   "cell_type": "markdown",
   "id": "98383b37-e91d-4fa0-a173-2feb6bb48033",
   "metadata": {
    "id": "98383b37-e91d-4fa0-a173-2feb6bb48033"
   },
   "source": [
    "[Write your answer here!]"
   ]
  },
  {
   "cell_type": "markdown",
   "id": "5d89871f-3561-4f5e-b8d2-c379057878fa",
   "metadata": {
    "id": "5d89871f-3561-4f5e-b8d2-c379057878fa"
   },
   "source": [
    "4. (2 points) Now compare the set of two barplots to the histogram from earlier. Which information is covered in both sets of charts, and which information is covered in only one of them?"
   ]
  },
  {
   "cell_type": "markdown",
   "id": "357f0e53-f782-4b31-8459-94f5aeb65ddc",
   "metadata": {
    "id": "357f0e53-f782-4b31-8459-94f5aeb65ddc"
   },
   "source": [
    "[Write your answer here!]"
   ]
  },
  {
   "cell_type": "markdown",
   "id": "320f09e0-d2fe-48e4-b3d0-ec4d4795c278",
   "metadata": {
    "id": "320f09e0-d2fe-48e4-b3d0-ec4d4795c278"
   },
   "source": [
    "## Problem 4. Tires (4 points)\n",
    "\n",
    "This is from a previous exam question from DATA 110. It was originally a \"select all that is true\" question that also asked about topics we haven't covered yet. We modified it to make it more appropriate for this homework.\n",
    "\n",
    "\n",
    "![tires](tires.jpg)\n",
    "\n",
    "For each of the statements, select **one** word that is the **most** correct and justify your answer."
   ]
  },
  {
   "cell_type": "markdown",
   "id": "3a83a72a-4f2b-4f40-9a46-7a9980f23790",
   "metadata": {
    "id": "3a83a72a-4f2b-4f40-9a46-7a9980f23790"
   },
   "source": [
    "1. (2 points) For the same width, efficient tires are generally (more, less, equally) expensive than regular tires."
   ]
  },
  {
   "cell_type": "markdown",
   "id": "93c001aa-747d-4a99-9200-17f287567adf",
   "metadata": {
    "id": "93c001aa-747d-4a99-9200-17f287567adf"
   },
   "source": [
    "[Write your answer here!]"
   ]
  },
  {
   "cell_type": "markdown",
   "id": "f0001545-4dd8-48ae-9f9c-106bfb01f017",
   "metadata": {
    "id": "f0001545-4dd8-48ae-9f9c-106bfb01f017"
   },
   "source": [
    "2. (2 points) The price range for regular tires is the (same as, smaller than, larger than) the price range for efficient tires."
   ]
  },
  {
   "cell_type": "markdown",
   "id": "5d3d74e1-0f53-461e-8b6a-f4fb4da92c6f",
   "metadata": {
    "id": "5d3d74e1-0f53-461e-8b6a-f4fb4da92c6f"
   },
   "source": [
    "[Write your answer here!]"
   ]
  },
  {
   "cell_type": "markdown",
   "id": "71a8125e-11aa-4782-80b1-0ed4500b9bfd",
   "metadata": {},
   "source": [
    "# Problem 5. Extra credit (2 points)"
   ]
  },
  {
   "cell_type": "markdown",
   "id": "7818705b-596d-4260-81cc-4373e2365368",
   "metadata": {
    "id": "HuVQUmcCO8Rz"
   },
   "source": [
    "**Problem 5.1. (1 point)** Reading (v2).\n",
    "\n",
    "Read or watch **ONE** of the two options:\n",
    "\n",
    "A) Any relevant video you find interesting in: https://www.youtube.com/@storytellingwithdata\n",
    "\n",
    "B) 'Developing Visualisation Literacy' series in: https://seeingdata.org/developing-visualisation-literacy/\n",
    "\n",
    "Which one did you pick, and what is one new thing you learned from it? Use 1 to 2 sentences, and be as specific as you can."
   ]
  },
  {
   "cell_type": "markdown",
   "id": "cd99a3d0-03fb-430b-9e45-03b60be82405",
   "metadata": {},
   "source": [
    "[Write your answer here!]"
   ]
  },
  {
   "cell_type": "markdown",
   "id": "73166463-d402-4e74-a2f2-2598c8723952",
   "metadata": {},
   "source": [
    "**Problem 5.2 (1 point).** More practice with visualization.\n",
    "\n",
    "Make a **lineplot** or **scatterplot** using any of the tables we've used in this homework, which are `burritos_types`, `ratings`, `unc`, `unc_coaches`. Then using 1~2  sentences, write what information a reader would (or should) take away from this plot. To get full credit, make sure the figure is legible and has a descriptive title and axes labels."
   ]
  },
  {
   "cell_type": "code",
   "execution_count": null,
   "id": "fd4f8f29-bf2e-4f77-8f3d-44d1ed6698e5",
   "metadata": {},
   "outputs": [],
   "source": [
    "# Write your code here!\n"
   ]
  }
 ],
 "metadata": {
  "colab": {
   "provenance": []
  },
  "kernelspec": {
   "display_name": "Python 3 (ipykernel)",
   "language": "python",
   "name": "python3"
  },
  "language_info": {
   "codemirror_mode": {
    "name": "ipython",
    "version": 3
   },
   "file_extension": ".py",
   "mimetype": "text/x-python",
   "name": "python",
   "nbconvert_exporter": "python",
   "pygments_lexer": "ipython3",
   "version": "3.10.10"
  }
 },
 "nbformat": 4,
 "nbformat_minor": 5
}
