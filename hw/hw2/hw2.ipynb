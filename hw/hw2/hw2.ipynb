{
 "cells": [
  {
   "cell_type": "code",
   "execution_count": null,
   "id": "4a22c5aa",
   "metadata": {
    "deletable": false,
    "editable": false
   },
   "outputs": [],
   "source": [
    "# Initialize Otter\n",
    "import otter\n",
    "grader = otter.Notebook(\"hw2.ipynb\")"
   ]
  },
  {
   "cell_type": "markdown",
   "id": "4449f091",
   "metadata": {},
   "source": [
    "## <u>Name:</u> [Your name] and (your onyen)\n",
    "\n",
    "Names and Onyens of fellow students you discussed Homework2 problems and ideas:\n",
    "\n",
    "- Students: \n",
    "\n",
    "We encourage discussing ideas and brainstorming with your peers, but the final text, code, and comments in this homework assignment MUST be 100% written by you as mentioned in syllabus.\n",
    "\n"
   ]
  },
  {
   "cell_type": "markdown",
   "id": "5053a655",
   "metadata": {},
   "source": []
  },
  {
   "cell_type": "markdown",
   "id": "953a7ae3",
   "metadata": {},
   "source": [
    "# Homework 2: Python lists, control flow, and Pandas (50 points)\n",
    "\n",
    "Please complete this notebook by filling in the cells provided. Be sure to run the cell above that loads the autograder, and be sure to save your notebook before generating your submission by running the last cell.\n",
    "\n",
    "!! Please submit a PDF of your notebook and upload it to Gradescope along with the generated zip file in the same submission.  If no PDF submitted, **points will be deducted**.  You can make a PDF from JupyterHub by 1. File->Print or 2. Command+P (on Mac), then choose 'Save to PDF'. This saves the file on your laptop.  You can then drag and drop the zip & pdf file together to the upload box on Gradescope.\n",
    "\n",
    "!! Points will also be **deducted** if you do not include your name and Onyen in the Markdown cell above!\n",
    "\n",
    "Note that for homework, the autograder is useful feedback that you should pay attention to, and the autograder gives additional feedback when you submit to Gradescope, so we encourage you to submit as often as you like!  Note that only the last submission will be used for grading.  Als note that passing the autograder for a problem **DOES NOT GUARANTEE** you will get full credit on the problem.\n"
   ]
  },
  {
   "cell_type": "code",
   "execution_count": null,
   "id": "732e3cb4",
   "metadata": {},
   "outputs": [],
   "source": [
    "import pandas as pd"
   ]
  },
  {
   "cell_type": "markdown",
   "id": "2223f78b",
   "metadata": {},
   "source": [
    "## Problem 1. Python Lightning Round (10 points)\n",
    "For each of the sentences below, write the corresponding Python code.  For example, for the sentence \"Assign the string `Rick is left-handed` to the variable named `inconceivable`\", the corresponding code would be:\n",
    "\n",
    "`inconceivable = 'Rick is left-handed'`\n",
    "\n",
    "Don't change any of the code that is provided.  Note that answers may require more than a single line of code."
   ]
  },
  {
   "cell_type": "markdown",
   "id": "11019290",
   "metadata": {},
   "source": [
    "**Problem 1.1 (1 point).** Assign 8.2 to two variables named `x` and `y` then assign the sum of `x` and `y` to a variable named `z`."
   ]
  },
  {
   "cell_type": "code",
   "execution_count": null,
   "id": "1c9ac9b9",
   "metadata": {
    "otter": {
     "tests": [
      "q1.1"
     ]
    },
    "tags": []
   },
   "outputs": [],
   "source": [
    "..."
   ]
  },
  {
   "cell_type": "markdown",
   "id": "53702c01",
   "metadata": {},
   "source": [
    "**Problem 1.2 (1 point).** Assign a list of 4 consecutive even integers starting with 12 to a variable named `some_evens`."
   ]
  },
  {
   "cell_type": "code",
   "execution_count": null,
   "id": "70764f7a",
   "metadata": {
    "otter": {
     "tests": [
      "q1.2"
     ]
    },
    "tags": []
   },
   "outputs": [],
   "source": [
    "# Write your code here by replacing the ...\n",
    "..."
   ]
  },
  {
   "cell_type": "markdown",
   "id": "c49da820",
   "metadata": {},
   "source": [
    "**Problem 1.3 (1 point).** To a variable named `my_items`, assign a list that contains -7, the string 'notebook', and 4.8 (in this order)."
   ]
  },
  {
   "cell_type": "code",
   "execution_count": null,
   "id": "928f9e43",
   "metadata": {
    "otter": {
     "tests": [
      "q1.3"
     ]
    },
    "tags": []
   },
   "outputs": [],
   "source": [
    "..."
   ]
  },
  {
   "cell_type": "markdown",
   "id": "a813926f",
   "metadata": {},
   "source": [
    "**Problem 1.4 (1 point).** Assign a range of integers to a variable named `buzz` that starts at 7 and steps by 7 up to and including 35."
   ]
  },
  {
   "cell_type": "code",
   "execution_count": null,
   "id": "1a77dbac",
   "metadata": {
    "tags": []
   },
   "outputs": [],
   "source": [
    "..."
   ]
  },
  {
   "cell_type": "code",
   "execution_count": null,
   "id": "34c00ff5",
   "metadata": {
    "deletable": false,
    "editable": false
   },
   "outputs": [],
   "source": [
    "grader.check(\"q1.4\")"
   ]
  },
  {
   "cell_type": "markdown",
   "id": "757ae4ac",
   "metadata": {},
   "source": [
    "**Problem 1.5 (1 points).** Assign the last item from a list named `many_things` to a variable named `last_one`.  Don't change any of the given code, only replace the three dots."
   ]
  },
  {
   "cell_type": "code",
   "execution_count": null,
   "id": "d3edcdff",
   "metadata": {
    "otter": {
     "tests": [
      "q1.5"
     ]
    },
    "tags": []
   },
   "outputs": [],
   "source": [
    "import random\n",
    "many_things = random.sample(range(0, 11), 10)\n",
    "last_one = ..."
   ]
  },
  {
   "cell_type": "markdown",
   "id": "54817344",
   "metadata": {},
   "source": [
    "**Problem 1.6 (1 points).** Assign to a variable named `third_one` the third item from a list named `more_things`"
   ]
  },
  {
   "cell_type": "code",
   "execution_count": null,
   "id": "4be456a6",
   "metadata": {
    "otter": {
     "tests": [
      "q1.6"
     ]
    },
    "tags": []
   },
   "outputs": [],
   "source": [
    "import random\n",
    "more_things = random.sample(range(100, 121), 10)\n",
    "third_one = ..."
   ]
  },
  {
   "cell_type": "markdown",
   "id": "3f66632e",
   "metadata": {},
   "source": [
    "**Problem 1.7 (2 points).** Write code to loop through all the elements in a list of strings named `lots_of_words` and increment a variable named `big_word_count` by a value of 1 for each string that is more than 4 letters long.  Remember, don't change any of the given code."
   ]
  },
  {
   "cell_type": "code",
   "execution_count": null,
   "id": "a78868ec",
   "metadata": {
    "otter": {
     "tests": [
      "q1.7"
     ]
    },
    "tags": []
   },
   "outputs": [],
   "source": [
    "lots_of_words = \"This is an awful large number of words, don't-ya-know\".split()\n",
    "big_word_count = 0\n",
    "..."
   ]
  },
  {
   "cell_type": "markdown",
   "id": "6c284c39",
   "metadata": {},
   "source": [
    "**Problem 1.8 (2 points).** Write code to to loop through all the strings in a list of strings named `many_words` and print the string, the index of the string in the list, and the string converted to upper case.  Remember, don't change any of the given code.  This question will be graded manually."
   ]
  },
  {
   "cell_type": "code",
   "execution_count": null,
   "id": "ec462a29",
   "metadata": {
    "tags": []
   },
   "outputs": [],
   "source": [
    "many_words = \"So many words, such little oxygen in the room.\".split()\n",
    "..."
   ]
  },
  {
   "cell_type": "markdown",
   "id": "5ddbf904",
   "metadata": {},
   "source": [
    "## Problem 2. Control flow (10 points) \n",
    "In this problem you will be building on what you learned during Lab 3, so fully completing that is recommended.  You'll be writing code to loop through a list and perform different actions depending on the type of the element in the list, which is a common programming pattern.  This question will be manually graded.\n",
    "\n",
    "\n"
   ]
  },
  {
   "cell_type": "markdown",
   "id": "3dd07b40",
   "metadata": {},
   "source": [
    "**Problem 2.1 (2 points).** First, write code to loop through a list named `employee_data` and print the type of every item in the list."
   ]
  },
  {
   "cell_type": "code",
   "execution_count": null,
   "id": "19ed5a5a",
   "metadata": {
    "tags": []
   },
   "outputs": [],
   "source": [
    "employee_data = ['Rick', 6, True, 8.6, 'Piper', 24.3, range(5), 42]\n",
    "# write your code here by replacing the \"...\" with your solution\n",
    "..."
   ]
  },
  {
   "cell_type": "markdown",
   "id": "02352ca7",
   "metadata": {},
   "source": [
    "**Problem 2.2 (1 point).** Next, rewrite your loop again below, but instead of printing the type of every one of the items in the list, test if the type of the item is a string, and if so, print the item."
   ]
  },
  {
   "cell_type": "code",
   "execution_count": null,
   "id": "95533e7d",
   "metadata": {
    "tags": []
   },
   "outputs": [],
   "source": [
    "employee_data = ['Rick', 6, True, 8.6, 'Piper', 24.3, range(5), 42]\n",
    "# write your code here by replacing the \"...\" with your solution\n",
    "..."
   ]
  },
  {
   "cell_type": "markdown",
   "id": "76125a8f",
   "metadata": {},
   "source": [
    "**Problem 2.3 (1 points).** Next, copy your code from Problem 2.2 and add to it another test.  In the case that the type of the item was not `str`, test if the type is `int`, and if it is, add the item to `int_total` and print \"Running total\" followed by `int_total` on the same line.  You shouldn't need to change any of the code you've already written, just add more code.  Hint: the output when you run your completed code should look like this:\n",
    "```\n",
    "Rick\n",
    "Running total 6\n",
    "Piper\n",
    "Running total 48\n",
    "```"
   ]
  },
  {
   "cell_type": "code",
   "execution_count": null,
   "id": "318b3bf8",
   "metadata": {
    "tags": []
   },
   "outputs": [],
   "source": [
    "employee_data = ['Rick', 6, True, 8.6, 'Piper', 24.3, range(5), 42]\n",
    "int_total = 0\n",
    "# write your code here by replacing the \"...\" with your solution\n",
    "..."
   ]
  },
  {
   "cell_type": "markdown",
   "id": "c18b580e",
   "metadata": {},
   "source": [
    "**Problem 2.4 (1 point).** Copy your code from Problem 2.3, and add another test to it.  In the case the item is not a string or int, test if the item is a float and if so, increment `float_count` and add the item to `float_total` and print \"Running average\" followed by `float_total` divided by `float_count` on the same line."
   ]
  },
  {
   "cell_type": "code",
   "execution_count": null,
   "id": "933cd064",
   "metadata": {
    "tags": []
   },
   "outputs": [],
   "source": [
    "employee_data = ['Rick', 6, True, 8.6, 'Piper', 24.3, range(5), 42]\n",
    "int_total = 0\n",
    "float_total = 0\n",
    "float_count = 0\n",
    "# write your code here by replacing the \"...\" with your solution\n",
    "..."
   ]
  },
  {
   "cell_type": "markdown",
   "id": "710b5280",
   "metadata": {},
   "source": [
    "**Problem 2.5 (1 point).** Copy your from Problem 2.4, and this time add code that prints \"Unprocessed item\" for any type that you didn't already test for.  Hint: you don't need to add any new test for this."
   ]
  },
  {
   "cell_type": "code",
   "execution_count": null,
   "id": "f3485f72",
   "metadata": {
    "tags": []
   },
   "outputs": [],
   "source": [
    "employee_data = ['Rick', 6, True, 8.6, 'Piper', 24.3, range(5), 42]\n",
    "int_total = 0\n",
    "float_total = 0\n",
    "float_count = 0\n",
    "# write your code here by replacing the \"...\" with your solution\n",
    "..."
   ]
  },
  {
   "cell_type": "markdown",
   "id": "a6fc77f9",
   "metadata": {},
   "source": [
    "**Problem 2.6 (2 points).** Oops!  We actually are going to handle one more type.  Copy your code from Problem 2.5, and again you will just be adding to it.  Add a test to see if the item is type `range`, and if it is print \"Counting...\" then print every item in the range on a separate line.  Hint: the output should look like this:\n",
    "````\n",
    "Rick\n",
    "Running total 6\n",
    "Unprocessed item\n",
    "Running average 8.6\n",
    "Piper\n",
    "Running average 16.45\n",
    "Counting...\n",
    "0\n",
    "1\n",
    "2\n",
    "3\n",
    "4\n",
    "Running total 48\n",
    "````"
   ]
  },
  {
   "cell_type": "code",
   "execution_count": null,
   "id": "3b3bedc6",
   "metadata": {
    "tags": []
   },
   "outputs": [],
   "source": [
    "employee_data = ['Rick', 6, True, 8.6, 'Piper', 24.3, range(5), 42]\n",
    "int_total = 0\n",
    "float_total = 0\n",
    "float_count = 0\n",
    "# write your code here by replacing the \"...\" with your solution\n",
    "..."
   ]
  },
  {
   "cell_type": "markdown",
   "id": "d63dfa78",
   "metadata": {},
   "source": [
    "**Problem 2.7 (2 points).** Okay!  One last bit of code to write.  Lists can contain objects of various types...including other lists!  For this problem, you'll be using all your code from Problem 2.6, but you'll be \"nesting it\" inside another `for` loop.  The \"outside\" loop will process a list named `company_data` that contains the data for multiple employees, with each employee's data in a list (just like you've been using).  The \"inside\" loop is your code from Problem 2.6.  One more thing (really?!?): use `enumerate` with the outer `for` loop and print \"Employee #\" followed by the index of the outer loop before executing the inner loop."
   ]
  },
  {
   "cell_type": "code",
   "execution_count": null,
   "id": "b9a3aaa4",
   "metadata": {
    "tags": []
   },
   "outputs": [],
   "source": [
    "company_data = [['Rick', 6, True, 8.6, 'Piper', 24.3, range(5), 42],\n",
    "                ['Harlin', False, 'Puppycat', 9.3, range(6,0,-2)],\n",
    "                ['Chudi', 1,2,3, 'No pets']]\n",
    "# write the code for the outer loop here by replacing the \"...\" with your solution\n",
    "...\n",
    "    int_total = 0\n",
    "    float_total = 0\n",
    "    float_count = 0\n",
    "# write the code for the inner loop here (your code from Problem 2.7)\n",
    "...\n"
   ]
  },
  {
   "cell_type": "markdown",
   "id": "1bf871a4",
   "metadata": {},
   "source": [
    "Hint: the final output should look like this:\n",
    "````\n",
    "Employee # 0\n",
    "Rick\n",
    "Running total 6\n",
    "Unprocessed item\n",
    "Running average 8.6\n",
    "Piper\n",
    "Running average 16.45\n",
    "Counting...\n",
    "0\n",
    "1\n",
    "2\n",
    "3\n",
    "4\n",
    "Running total 48\n",
    "Employee # 1\n",
    "Harlin\n",
    "Unprocessed item\n",
    "Puppycat\n",
    "Running average 9.3\n",
    "Counting...\n",
    "6\n",
    "4\n",
    "2\n",
    "Employee # 2\n",
    "Chudi\n",
    "Running total 1\n",
    "Running total 3\n",
    "Running total 6\n",
    "No pets\n",
    "````"
   ]
  },
  {
   "cell_type": "markdown",
   "id": "61dd6825",
   "metadata": {},
   "source": [
    "## Problem 3. Creating Tables (10 points)\n",
    "Instead of a list of lists, it is often easier to use a table to represent groups of data.  In most cases, you will be using data that you are reading in from a file; in fact, sometimes you might be using data that is so big it can't fit in memory, and HAS to be accessed from a file!  But it can still be useful to know how to build a table from scratch, and understanding how to do it also provides insight into the behavior of tables.  Run the code below to see an example of how to create a table. "
   ]
  },
  {
   "cell_type": "code",
   "execution_count": null,
   "id": "ea4ba858",
   "metadata": {},
   "outputs": [],
   "source": [
    "import pandas as pd\n",
    "row_list0 = [1, 2, 3]\n",
    "row_list1 = [4, 5, 6]\n",
    "row_list2 = [7, 8, 9]\n",
    "df = pd.DataFrame( data=[row_list0, row_list1, row_list2], columns=['name', 'rank', 'serial number'])\n",
    "df"
   ]
  },
  {
   "cell_type": "markdown",
   "id": "1066c90a",
   "metadata": {},
   "source": [
    "**Problem 3.1 (2 points).** Suppose you're using Python to help solve a high school Algebra problem.  You have 8 trains, 6 planes, and 3 boats.  Create a table (pandas DataFrame) named `vehicles` that contains this information. It should have two attributes or pieces of information about each vehincle: `'Vehicle name'` and `'Count'`.  Note: Use lower-case and singular words for the name of each fruit, like \"train\".  "
   ]
  },
  {
   "cell_type": "code",
   "execution_count": null,
   "id": "f8902a44",
   "metadata": {
    "tags": []
   },
   "outputs": [],
   "source": [
    "...\n",
    "autograder31=vehicles.copy()"
   ]
  },
  {
   "cell_type": "code",
   "execution_count": null,
   "id": "5a671ded",
   "metadata": {
    "deletable": false,
    "editable": false
   },
   "outputs": [],
   "source": [
    "grader.check(\"q3.1\")"
   ]
  },
  {
   "cell_type": "markdown",
   "id": "879242ed",
   "metadata": {},
   "source": [
    "**Problem 3.2 (1 point).** Write code that computes the total of the number of vehicles in the table and assigns it to a variable named `vehicle_count`."
   ]
  },
  {
   "cell_type": "code",
   "execution_count": null,
   "id": "09080da7",
   "metadata": {
    "otter": {
     "tests": [
      "q3.2"
     ]
    },
    "tags": []
   },
   "outputs": [],
   "source": [
    "vehicle_count = ..."
   ]
  },
  {
   "cell_type": "markdown",
   "id": "12fc5f3e",
   "metadata": {},
   "source": [
    "**Problem 3.3 (2 points).** Add a new attribute to `vehicles` named `'Cost'` and initialize the cost for all the vehicles to be 1,000,000"
   ]
  },
  {
   "cell_type": "code",
   "execution_count": null,
   "id": "a20c12c3",
   "metadata": {
    "tags": []
   },
   "outputs": [],
   "source": [
    "...\n",
    "autograder33=vehicles.copy()"
   ]
  },
  {
   "cell_type": "code",
   "execution_count": null,
   "id": "d1476fa4",
   "metadata": {
    "deletable": false,
    "editable": false
   },
   "outputs": [],
   "source": [
    "grader.check(\"q3.3\")"
   ]
  },
  {
   "cell_type": "markdown",
   "id": "35e14b48",
   "metadata": {},
   "source": [
    "**Problem 3.4 (2 points).** Now, let's add another row to the table.  To do this, note that `df.loc[rownum]` returns a particular row of `df` according to the row label (index), and `len(df)` returns the current number of rows of `df`.  To add a new row to our example table from above:    "
   ]
  },
  {
   "cell_type": "code",
   "execution_count": null,
   "id": "27fe13c3",
   "metadata": {
    "deletable": false,
    "editable": false
   },
   "outputs": [],
   "source": [
    "df.loc[len(df)] = [ 10, 11, 12]\n",
    "df"
   ]
  },
  {
   "cell_type": "markdown",
   "id": "01687c5f",
   "metadata": {
    "deletable": false,
    "editable": false
   },
   "source": [
    "Your turn.  Suppose you have a second set of 5 planes whose cost is 1,999,999.  Add those to the end of the table `vehicles`."
   ]
  },
  {
   "cell_type": "code",
   "execution_count": null,
   "id": "2723e268",
   "metadata": {
    "tags": []
   },
   "outputs": [],
   "source": [
    "...\n",
    "autograder34=vehicles.copy()"
   ]
  },
  {
   "cell_type": "code",
   "execution_count": null,
   "id": "86eb6104",
   "metadata": {
    "deletable": false,
    "editable": false
   },
   "outputs": [],
   "source": [
    "grader.check(\"q3.4\")"
   ]
  },
  {
   "cell_type": "markdown",
   "id": "e278d36e",
   "metadata": {},
   "source": [
    "**Problem 3.5 (1 points).** Now let's change the price for all planes.  To do this, use **Boolean indexing** as covered in lecture.  A Boolean index is a sequence of True/False values that results from a comparison on a particular column.  Assign a Boolean index to select planes to the variable `plane_bool_index`.  Hint:  the cell below shows an example:"
   ]
  },
  {
   "cell_type": "code",
   "execution_count": null,
   "id": "48502185",
   "metadata": {},
   "outputs": [],
   "source": [
    "example_bool_index=df['name']==4\n",
    "list(example_bool_index)"
   ]
  },
  {
   "cell_type": "code",
   "execution_count": null,
   "id": "7811e35c",
   "metadata": {
    "tags": []
   },
   "outputs": [],
   "source": [
    "plane_bool_index = ...\n",
    "plane_bool_index.dtype"
   ]
  },
  {
   "cell_type": "code",
   "execution_count": null,
   "id": "72d10ba3",
   "metadata": {
    "deletable": false,
    "editable": false
   },
   "outputs": [],
   "source": [
    "grader.check(\"q3.5\")"
   ]
  },
  {
   "cell_type": "markdown",
   "id": "9f966324",
   "metadata": {},
   "source": [
    "**Problem 3.6 (2 points).** To change the price for just planes, we need to set the value of particular cells.  In Problem 3.4 you used `loc()` to add a new row; similarly, we can use `loc()` to assign cells of a particular column for only our Boolean indexed rows.  Again, see the example for `df`: "
   ]
  },
  {
   "cell_type": "code",
   "execution_count": null,
   "id": "6b3edb2c",
   "metadata": {
    "deletable": false,
    "editable": false
   },
   "outputs": [],
   "source": [
    "df.loc[ example_bool_index, 'serial number' ] = 99\n",
    "df"
   ]
  },
  {
   "cell_type": "markdown",
   "id": "11ff224e",
   "metadata": {
    "deletable": false,
    "editable": false
   },
   "source": [
    "The above code is effectively \"For all the rows in which `name` equals 4, set the value for `serial number` to be 99.  Similarly, your task is to set the cost for planes in `vehicles` to 1499999 using Boolean indexing and `loc()`."
   ]
  },
  {
   "cell_type": "code",
   "execution_count": null,
   "id": "e2fe8eab",
   "metadata": {
    "tags": []
   },
   "outputs": [],
   "source": [
    "...\n",
    "vehicles"
   ]
  },
  {
   "cell_type": "code",
   "execution_count": null,
   "id": "ce85d404",
   "metadata": {
    "deletable": false,
    "editable": false
   },
   "outputs": [],
   "source": [
    "grader.check(\"q3.6\")"
   ]
  },
  {
   "cell_type": "markdown",
   "id": "e1447735",
   "metadata": {},
   "source": [
    "## Problem 4. R.O.U.S.es (10 points)\n",
    "**R**odents **O**f **U**nusual **S**ize are fabled to be one of the most fearsome creatures you might ever encounter, but accounts of their attributes vary widely.  "
   ]
  },
  {
   "cell_type": "markdown",
   "id": "ada667c8",
   "metadata": {},
   "source": [
    "**Problem 4.1 (1 point).** Run the following code to load a table of all known data about R.O.U.S.es. How many attributes or different pieces of information have been measured for R.O.U.S.es?  Assign that number to `num_attributes`."
   ]
  },
  {
   "cell_type": "code",
   "execution_count": null,
   "id": "96713726",
   "metadata": {
    "tags": []
   },
   "outputs": [],
   "source": [
    "import pandas as pd\n",
    "rodents_of_unusual_size = pd.read_csv(\"ROUSes.csv\")\n",
    "rodents_of_unusual_size\n"
   ]
  },
  {
   "cell_type": "code",
   "execution_count": null,
   "id": "2d4703af",
   "metadata": {
    "tags": []
   },
   "outputs": [],
   "source": [
    "# write your code here by replacing the \"...\" with your solution\n",
    "...\n",
    "print(num_attributes)\n",
    "\n"
   ]
  },
  {
   "cell_type": "code",
   "execution_count": null,
   "id": "3b26eaac",
   "metadata": {
    "deletable": false,
    "editable": false
   },
   "outputs": [],
   "source": [
    "grader.check(\"q4.1\")"
   ]
  },
  {
   "cell_type": "markdown",
   "id": "15daa439",
   "metadata": {},
   "source": [
    "**Problem 4.2 (1 point).** Write pandas code to compute the number of R.O.U.S.es in the table that are not Female.  Assign that number to `num_not_female`."
   ]
  },
  {
   "cell_type": "code",
   "execution_count": null,
   "id": "7c884d62",
   "metadata": {
    "otter": {
     "tests": [
      "q4.2"
     ]
    },
    "tags": []
   },
   "outputs": [],
   "source": [
    "# write your code here by replacing the \"...\" with your solution\n",
    "...\n",
    "print(num_not_female)\n"
   ]
  },
  {
   "cell_type": "markdown",
   "id": "4104deb5",
   "metadata": {},
   "source": [
    "**Problem 4.3 (1 point).** Write pandas code to compute the number of R.O.U.S.es that are of either 'Sleepy' or 'Playful' temperament.  Assign that number to `num_harmless`."
   ]
  },
  {
   "cell_type": "code",
   "execution_count": null,
   "id": "0e82ac7c",
   "metadata": {
    "otter": {
     "tests": [
      "q4.3"
     ]
    },
    "tags": []
   },
   "outputs": [],
   "source": [
    "...\n",
    "print(num_harmless)\n"
   ]
  },
  {
   "cell_type": "markdown",
   "id": "e1e62366",
   "metadata": {},
   "source": [
    "**Problem 4.4 (2 points).** Write pandas code to compute the total weight of R.O.U.S.es that are moody and female and over the age of 11.  Assign that number to `total_weight`."
   ]
  },
  {
   "cell_type": "code",
   "execution_count": null,
   "id": "37e9bbfe",
   "metadata": {
    "otter": {
     "tests": [
      "q4.4"
     ]
    },
    "tags": []
   },
   "outputs": [],
   "source": [
    "...\n",
    "print(total_weight)\n"
   ]
  },
  {
   "cell_type": "markdown",
   "id": "9bd1f6ba",
   "metadata": {},
   "source": [
    "**Problem 4.5 (1 point)** Sometimes sorting or grouping the data by an attribute can help to make sense of the data.  Write pandas code to sort the data by `Age`. No need to save or assign the modified table to a variable.  This question will be manually graded."
   ]
  },
  {
   "cell_type": "code",
   "execution_count": null,
   "id": "7d592fd9",
   "metadata": {
    "tags": []
   },
   "outputs": [],
   "source": [
    "..."
   ]
  },
  {
   "cell_type": "markdown",
   "id": "602beebf",
   "metadata": {},
   "source": [
    "**Problem 4.6 (1 point).**  With the data sorted by age, what trends do you see in the `Temperament`?  Are there any exceptions to the trends? No need to calculate anything."
   ]
  },
  {
   "cell_type": "markdown",
   "id": "1dc6a8f5",
   "metadata": {},
   "source": [
    "_Type your answer here, replacing this text._"
   ]
  },
  {
   "cell_type": "markdown",
   "id": "24c80d7e",
   "metadata": {},
   "source": [
    "**Problem 4.7 (2 points).** Some people report that real danger from R.O.U.S.es is that they are very uncoordinated and sometimes trip and fall onto people, so `Weight` is actually the attribute which represents the biggest threat.   Write a `for` loop that calculates the mean weight for each temperament, and **print**s it along side the temperament.  This question will be manually graded.\n",
    "\n",
    "Hint: this is just like a problem we covered in lecture.\n"
   ]
  },
  {
   "cell_type": "code",
   "execution_count": null,
   "id": "033491e4",
   "metadata": {
    "tags": []
   },
   "outputs": [],
   "source": [
    "..."
   ]
  },
  {
   "cell_type": "markdown",
   "id": "bdc8def9",
   "metadata": {},
   "source": [
    "**Problem 4.8 (1 point).** What temperament on average would be the most dangerous to encounter?  What temperament on average would be the least dangerous to encounter?"
   ]
  },
  {
   "cell_type": "markdown",
   "id": "abd02d09",
   "metadata": {},
   "source": [
    "_Type your answer here, replacing this text._"
   ]
  },
  {
   "cell_type": "markdown",
   "id": "deca0938",
   "metadata": {},
   "source": [
    "**Extra credit (1 point).**  Sometimes even a single data point can really change the statistics of a dataset, so it can be useful to examine such individual data points.  Which data point is most extreme in this dataset?  Is this data point still consistent with the general trends in the data?  Using mental math, if we removed this point, and recalculated the mean weights, would it have any effect on the ordering of dangerousness?"
   ]
  },
  {
   "cell_type": "markdown",
   "id": "b64e4cd0",
   "metadata": {},
   "source": [
    "_Type your answer here, replacing this text._"
   ]
  },
  {
   "cell_type": "markdown",
   "id": "95d09f49",
   "metadata": {},
   "source": [
    "## Problem 5. (10 points). Burritos\n",
    "A certain Carolina student from DATA110 is visiting California for Spring Break this year, and they intend to use their newly-mastered Data Science skills to make sure they have some great burritos while they are there.  And the rest of the DATA110 students get this delightful homework problem out of the experience!  The student found some data files with reviews and menu information for some California burrito restauraunts, but unfortunately the data was not nearly as clean as most of what they had dealt with in class, so they had to do some work on the data first."
   ]
  },
  {
   "cell_type": "markdown",
   "id": "a8aaec07",
   "metadata": {},
   "source": [
    "**Problem 5.1 (1 point).** Write the code to load the file \"burrito_ratings.csv\" into a DataFrame named `burritos`."
   ]
  },
  {
   "cell_type": "code",
   "execution_count": null,
   "id": "23db82bc",
   "metadata": {
    "tags": []
   },
   "outputs": [],
   "source": [
    "import pandas as pd\n",
    "pd.options.display.max_colwidth=15\n",
    "\n",
    "burritos = ...\n",
    "\n",
    "print(burritos)"
   ]
  },
  {
   "cell_type": "code",
   "execution_count": null,
   "id": "8149ac92",
   "metadata": {
    "deletable": false,
    "editable": false
   },
   "outputs": [],
   "source": [
    "grader.check(\"q5.1\")"
   ]
  },
  {
   "cell_type": "markdown",
   "id": "72b6b1cb",
   "metadata": {},
   "source": [
    "**Problem 5.2 (1 point).** Write code to calculate average cost of items in the table `burritos` rounded to the nearest cent?"
   ]
  },
  {
   "cell_type": "code",
   "execution_count": null,
   "id": "440f319d",
   "metadata": {
    "otter": {
     "tests": [
      "q5.2"
     ]
    },
    "tags": []
   },
   "outputs": [],
   "source": [
    "average_cost = ...\n"
   ]
  },
  {
   "cell_type": "markdown",
   "id": "fd3d4d5a",
   "metadata": {},
   "source": [
    "**Problem 5.3 (2 points).** Make a new table called `top_rated_burritos` that is just like `burritos` but only includes entries that have an Overall rating >= 4.2."
   ]
  },
  {
   "cell_type": "code",
   "execution_count": null,
   "id": "2f2cdf33",
   "metadata": {
    "otter": {
     "tests": [
      "q5.3"
     ]
    },
    "tags": []
   },
   "outputs": [],
   "source": [
    "...\n",
    "print(top_rated_burritos)\n",
    "\n"
   ]
  },
  {
   "cell_type": "markdown",
   "id": "212e3c00",
   "metadata": {},
   "source": [
    "**Problem 5.4 (1 points).** Write pandas code to compute the average cost of menu item entries that have a Overall rating >= 4.2, again rounded to the nearest cent."
   ]
  },
  {
   "cell_type": "code",
   "execution_count": null,
   "id": "f2e89fc7",
   "metadata": {
    "otter": {
     "tests": [
      "q5.4"
     ]
    },
    "tags": []
   },
   "outputs": [],
   "source": [
    "...\n",
    "print(average_cost_top_rated)\n",
    "\n"
   ]
  },
  {
   "cell_type": "code",
   "execution_count": null,
   "id": "c0cf4ac2",
   "metadata": {},
   "outputs": [],
   "source": [
    "print(round(average_cost_top_rated-average_cost,2))"
   ]
  },
  {
   "cell_type": "markdown",
   "id": "8a409f21",
   "metadata": {},
   "source": [
    "**Problem 5.5 (2 points).** Only 60 cents more for a great burrito instead of an average one...count me in!  But then the student realized, not all the items are the kind of burrito that they like, or even burritos at all!  In particular, the student likes Asada-style burritos, which just have a menu item name containing the word `Asada`.  To make sure there are enough choices, the student also decides to lower their standards a little on the rating requirement.  Write code to calculate how many Asada burrito options there are that have a Overall rating > 3.6, and assign this to a variable named `type_rated_Asada_count`\n",
    "\n",
    "**Hint**: You'll need to figure out how to check if a particular word is in a string (there are several ways to do this). Take a look at [https://pandas.pydata.org/docs/reference/api/pandas.Series.str.find.html](https://pandas.pydata.org/docs/reference/api/pandas.Series.str.find.html) for one such way.\n",
    "\n",
    "**Hint**: Your answer does not have to be in a single line of code."
   ]
  },
  {
   "cell_type": "code",
   "execution_count": null,
   "id": "18674cfd",
   "metadata": {
    "otter": {
     "tests": [
      "q5.5"
     ]
    },
    "tags": []
   },
   "outputs": [],
   "source": [
    "...\n",
    "print(top_rated_Asada_count)"
   ]
  },
  {
   "cell_type": "markdown",
   "id": "37bb3f9e",
   "metadata": {},
   "source": [
    "**Problem 5.6 (1 point).** Now, feeling confident in their analysis, the student feels they are armed with the knowledge they will need to have a great burrito experience.  But when their DATA110 professor finds out about what they've been working on, the professor asks them to clean up the data even more so it can be used for future DATA110 classes.  First, they ask the student to use a pandas function to make a new table `burritos_compact` that has the attributes for Google and Yelp scores removed.  Write the code below."
   ]
  },
  {
   "cell_type": "code",
   "execution_count": null,
   "id": "1b8c0cf6",
   "metadata": {
    "otter": {
     "tests": [
      "q5.6"
     ]
    },
    "tags": []
   },
   "outputs": [],
   "source": [
    "burritos_compact = ...\n",
    "print( burritos_compact)"
   ]
  },
  {
   "cell_type": "markdown",
   "id": "9ebc6a6d",
   "metadata": {},
   "source": [
    "**Problem 5.7 (2 points).** And finally, the professor asks the student to add one extra attribute to `burritos_compact`.  The attribute should be named `'Value'` which is 100.0 times the Overall rating divided by the item cost, rounded to the nearest integer.  Write the code for `burritos_extravalue` below."
   ]
  },
  {
   "cell_type": "code",
   "execution_count": null,
   "id": "8638c56d",
   "metadata": {
    "otter": {
     "tests": [
      "q5.7"
     ]
    },
    "tags": []
   },
   "outputs": [],
   "source": [
    "...\n",
    "print(burritos_compact)"
   ]
  },
  {
   "cell_type": "markdown",
   "id": "b51273c3",
   "metadata": {},
   "source": [
    "**Extra Credit (1 point).** What is the name of the menu item with the highest value?  Credit will only be given for an exact match."
   ]
  },
  {
   "cell_type": "code",
   "execution_count": null,
   "id": "817a2977",
   "metadata": {
    "otter": {
     "tests": [
      "extracredit"
     ]
    },
    "tags": []
   },
   "outputs": [],
   "source": [
    "\n",
    "highest_value_item = ..."
   ]
  },
  {
   "cell_type": "raw",
   "id": "d20627b6",
   "metadata": {},
   "source": []
  },
  {
   "cell_type": "markdown",
   "id": "694cf842",
   "metadata": {
    "deletable": false,
    "editable": false
   },
   "source": [
    "## Submission\n",
    "\n",
    "Make sure you have run all cells in your notebook in order before running the cell below, so that all images/graphs appear in the output. The cell below will generate a zip file for you to submit. **Please save before exporting!**\n",
    "\n",
    "Submit zip file and PDF to Gradescope Homework2"
   ]
  },
  {
   "cell_type": "code",
   "execution_count": null,
   "id": "da9ddead",
   "metadata": {
    "deletable": false,
    "editable": false
   },
   "outputs": [],
   "source": [
    "# Save your notebook first, then run this cell to export your submission.\n",
    "grader.export(pdf=False, run_tests=True)"
   ]
  },
  {
   "cell_type": "markdown",
   "id": "2012d9c1",
   "metadata": {},
   "source": [
    " "
   ]
  }
 ],
 "metadata": {
  "kernelspec": {
   "display_name": "Python 3",
   "language": "python",
   "name": "python3"
  },
  "language_info": {
   "codemirror_mode": {
    "name": "ipython",
    "version": 3
   },
   "file_extension": ".py",
   "mimetype": "text/x-python",
   "name": "python",
   "nbconvert_exporter": "python",
   "pygments_lexer": "ipython3",
   "version": "3.12.8"
  },
  "otter": {
   "OK_FORMAT": true,
   "tests": {
    "extracredit": {
     "name": "extracredit",
     "points": 1,
     "suites": [
      {
       "cases": [],
       "scored": true,
       "setup": "",
       "teardown": "",
       "type": "doctest"
      }
     ]
    },
    "q1.1": {
     "name": "q1.1",
     "points": 1,
     "suites": [
      {
       "cases": [],
       "scored": true,
       "setup": "",
       "teardown": "",
       "type": "doctest"
      }
     ]
    },
    "q1.2": {
     "name": "q1.2",
     "points": 1,
     "suites": [
      {
       "cases": [],
       "scored": true,
       "setup": "",
       "teardown": "",
       "type": "doctest"
      }
     ]
    },
    "q1.3": {
     "name": "q1.3",
     "points": 1,
     "suites": [
      {
       "cases": [],
       "scored": true,
       "setup": "",
       "teardown": "",
       "type": "doctest"
      }
     ]
    },
    "q1.4": {
     "name": "q1.4",
     "points": 1,
     "suites": [
      {
       "cases": [
        {
         "code": ">>> assert type(buzz) == range\n",
         "hidden": false,
         "locked": false
        }
       ],
       "scored": true,
       "setup": "",
       "teardown": "",
       "type": "doctest"
      }
     ]
    },
    "q1.5": {
     "name": "q1.5",
     "points": 1,
     "suites": [
      {
       "cases": [],
       "scored": true,
       "setup": "",
       "teardown": "",
       "type": "doctest"
      }
     ]
    },
    "q1.6": {
     "name": "q1.6",
     "points": 1,
     "suites": [
      {
       "cases": [],
       "scored": true,
       "setup": "",
       "teardown": "",
       "type": "doctest"
      }
     ]
    },
    "q1.7": {
     "name": "q1.7",
     "points": 2,
     "suites": [
      {
       "cases": [],
       "scored": true,
       "setup": "",
       "teardown": "",
       "type": "doctest"
      }
     ]
    },
    "q3.1": {
     "name": "q3.1",
     "points": 2,
     "suites": [
      {
       "cases": [
        {
         "code": ">>> assert 'Vehicle name' in autograder31.columns and 'Count' in autograder31.columns\n",
         "hidden": false,
         "locked": false
        }
       ],
       "scored": true,
       "setup": "",
       "teardown": "",
       "type": "doctest"
      }
     ]
    },
    "q3.2": {
     "name": "q3.2",
     "points": 1,
     "suites": [
      {
       "cases": [],
       "scored": true,
       "setup": "",
       "teardown": "",
       "type": "doctest"
      }
     ]
    },
    "q3.3": {
     "name": "q3.3",
     "points": 2,
     "suites": [
      {
       "cases": [
        {
         "code": ">>> assert 'Cost' in autograder33.columns and 'Vehicle name' in autograder33.columns and ('Count' in autograder33.columns)\n",
         "hidden": false,
         "locked": false
        }
       ],
       "scored": true,
       "setup": "",
       "teardown": "",
       "type": "doctest"
      }
     ]
    },
    "q3.4": {
     "name": "q3.4",
     "points": 2,
     "suites": [
      {
       "cases": [
        {
         "code": ">>> assert autograder34.shape == (4, 3)\n",
         "hidden": false,
         "locked": false
        }
       ],
       "scored": true,
       "setup": "",
       "teardown": "",
       "type": "doctest"
      }
     ]
    },
    "q3.5": {
     "name": "q3.5",
     "points": 1,
     "suites": [
      {
       "cases": [
        {
         "code": ">>> assert plane_bool_index.dtype == bool\n",
         "hidden": false,
         "locked": false
        }
       ],
       "scored": true,
       "setup": "",
       "teardown": "",
       "type": "doctest"
      }
     ]
    },
    "q3.6": {
     "name": "q3.6",
     "points": 2,
     "suites": [
      {
       "cases": [
        {
         "code": ">>> assert vehicles.shape == (4, 3)\n",
         "hidden": false,
         "locked": false
        }
       ],
       "scored": true,
       "setup": "",
       "teardown": "",
       "type": "doctest"
      }
     ]
    },
    "q4.1": {
     "name": "q4.1",
     "points": 1,
     "suites": [
      {
       "cases": [
        {
         "code": ">>> assert rodents_of_unusual_size.shape == (29, 5)\n",
         "hidden": false,
         "locked": false
        }
       ],
       "scored": true,
       "setup": "",
       "teardown": "",
       "type": "doctest"
      }
     ]
    },
    "q4.2": {
     "name": "q4.2",
     "points": 1,
     "suites": [
      {
       "cases": [],
       "scored": true,
       "setup": "",
       "teardown": "",
       "type": "doctest"
      }
     ]
    },
    "q4.3": {
     "name": "q4.3",
     "points": 1,
     "suites": [
      {
       "cases": [],
       "scored": true,
       "setup": "",
       "teardown": "",
       "type": "doctest"
      }
     ]
    },
    "q4.4": {
     "name": "q4.4",
     "points": 2,
     "suites": [
      {
       "cases": [],
       "scored": true,
       "setup": "",
       "teardown": "",
       "type": "doctest"
      }
     ]
    },
    "q5.1": {
     "name": "q5.1",
     "points": 1,
     "suites": [
      {
       "cases": [
        {
         "code": ">>> assert burritos.shape == (212, 6)\n",
         "hidden": false,
         "locked": false
        }
       ],
       "scored": true,
       "setup": "",
       "teardown": "",
       "type": "doctest"
      }
     ]
    },
    "q5.2": {
     "name": "q5.2",
     "points": 1,
     "suites": [
      {
       "cases": [],
       "scored": true,
       "setup": "",
       "teardown": "",
       "type": "doctest"
      }
     ]
    },
    "q5.3": {
     "name": "q5.3",
     "points": 2,
     "suites": [
      {
       "cases": [],
       "scored": true,
       "setup": "",
       "teardown": "",
       "type": "doctest"
      }
     ]
    },
    "q5.4": {
     "name": "q5.4",
     "points": 1,
     "suites": [
      {
       "cases": [],
       "scored": true,
       "setup": "",
       "teardown": "",
       "type": "doctest"
      }
     ]
    },
    "q5.5": {
     "name": "q5.5",
     "points": 2,
     "suites": [
      {
       "cases": [],
       "scored": true,
       "setup": "",
       "teardown": "",
       "type": "doctest"
      }
     ]
    },
    "q5.6": {
     "name": "q5.6",
     "points": 1,
     "suites": [
      {
       "cases": [],
       "scored": true,
       "setup": "",
       "teardown": "",
       "type": "doctest"
      }
     ]
    },
    "q5.7": {
     "name": "q5.7",
     "points": 2,
     "suites": [
      {
       "cases": [],
       "scored": true,
       "setup": "",
       "teardown": "",
       "type": "doctest"
      }
     ]
    }
   }
  }
 },
 "nbformat": 4,
 "nbformat_minor": 5
}
