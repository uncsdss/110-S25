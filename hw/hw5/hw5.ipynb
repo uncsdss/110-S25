{
 "cells": [
  {
   "cell_type": "code",
   "execution_count": null,
   "id": "03beea61",
   "metadata": {
    "deletable": false,
    "editable": false
   },
   "outputs": [],
   "source": [
    "# Initialize Otter\n",
    "import otter\n",
    "grader = otter.Notebook(\"hw5.ipynb\")"
   ]
  },
  {
   "cell_type": "markdown",
   "id": "dcb54678-872b-44c8-9ad7-a36758bc742f",
   "metadata": {
    "jp-MarkdownHeadingCollapsed": true
   },
   "source": [
    "## <u>Name:</u> [Your name] and (your onyen)\n",
    "\n",
    "Names and Onyens of fellow students you discussed Homework 5 problems and ideas:\n",
    "\n",
    "- Students: \n",
    "\n",
    "We encourage discussing ideas and brainstorming with your peers, but the final text, code, and comments in this homework assignment MUST be 100% written by you as mentioned in syllabus.\n",
    "\n"
   ]
  },
  {
   "cell_type": "markdown",
   "id": "22d1e54e-16d4-4a59-8d04-889400a18948",
   "metadata": {},
   "source": [
    "# Homework 5: Sampling, Association, and Hypothesis Testing (50 points)\n",
    "\n",
    "Please complete this notebook by filling in the cells provided.\n",
    "\n",
    "!! Please submit a **PDF** of your notebook. You can make a PDF from JupyterHub by 1. File->Print or 2. Command+P (on Mac), then choose 'Save to PDF'. This saves the file on your laptop. All problems will be manually graded, so no need to submit ipynb or zip file. **But you need to make sure all your code is visible and not cut off in the pdf. If we can't see your answer code for a coding problem, points may be deducted.**\n",
    "\n",
    "!! Points will also be **deducted** if you do not include your name and Onyen in the Markdown cell above!!\n"
   ]
  },
  {
   "cell_type": "markdown",
   "id": "1e0ac6f4-9d2d-47c1-86a3-0185c20ca344",
   "metadata": {},
   "source": [
    "## Problem 1. Causality vs. Correlation (12 points)\n",
    "An important part of data science is understanding the relationships between data.  **Correlation** is the degree to which data change with one another.  **Causality** implies a direct relationship where changes in one thing directly results in changes to another thing.  Data can be correlated without any causality relationship; in fact, this occurs often when the data both depend on a third variable.  For example, number of shark attacks and ice cream sales are often correlated, but one does not cause the other; they both depend on weather conditions.  "
   ]
  },
  {
   "cell_type": "markdown",
   "id": "77dd35a4-cef9-4145-af69-3f03f0af34c8",
   "metadata": {},
   "source": [
    "**Problem 1.1 (2 points).** Run the code below and observe the plot.  Does the ***y*** value appear to be correlated with the ***x*** value? Why or why not?\n"
   ]
  },
  {
   "cell_type": "code",
   "execution_count": null,
   "id": "6c1c5240-f971-4e00-97af-c9da05928b58",
   "metadata": {},
   "outputs": [],
   "source": [
    "import seaborn as sns\n",
    "x_data = [0,1,2,3,4,5,6,7,8,9,10]\n",
    "y_data = [1,4,7,10,2,5,8,9,6,3,0]\n",
    "sns.scatterplot(x=x_data, y=y_data)"
   ]
  },
  {
   "cell_type": "markdown",
   "id": "a5e0d563-4fd7-49e5-880f-08d0d4795a43",
   "metadata": {},
   "source": [
    "_Type your answer here, replacing this text._"
   ]
  },
  {
   "cell_type": "markdown",
   "id": "5a00e8ff-e88a-4348-93c9-13ebad667df6",
   "metadata": {},
   "source": [
    "**Problem 1.2 (2 points).** Run the code below and observe the plot.  Does the ***y*** value appear to be correlated with the ***x*** value? Why or why not?\n"
   ]
  },
  {
   "cell_type": "code",
   "execution_count": null,
   "id": "8da9669e-d19b-408d-ac21-8cbe3aa8896a",
   "metadata": {},
   "outputs": [],
   "source": [
    "x_data = [0,1,2,3,4,5,6,7,8,9,10]\n",
    "y_data = [10,13,14,16,18,20,21,24,26,27,30]\n",
    "sns.scatterplot(x=x_data, y=y_data)"
   ]
  },
  {
   "cell_type": "markdown",
   "id": "cbd9c8e0-5ab1-4916-8299-4acaf7d74cd0",
   "metadata": {},
   "source": [
    "_Type your answer here, replacing this text._"
   ]
  },
  {
   "cell_type": "markdown",
   "id": "a7190ed9-2bbd-4d7f-9e25-879cc0345dac",
   "metadata": {},
   "source": [
    "**Problem 1.3 (8 points).** For each of the following cases, decide whether it is an example of **causality**, **correlation**, or **neither**.  For each answer, explain why in a single sentence."
   ]
  },
  {
   "cell_type": "markdown",
   "id": "01ee87b8-2ef5-4e95-922c-104607bfff43",
   "metadata": {},
   "source": [
    "* Case A. Roulette wheel spins and crap table dice rolls."
   ]
  },
  {
   "cell_type": "markdown",
   "id": "11f8fc2b-3da4-46cd-a631-2525b56443d1",
   "metadata": {},
   "source": [
    "_Type your answer here, replacing this text._"
   ]
  },
  {
   "cell_type": "markdown",
   "id": "54eaa33b-d8ff-492b-ac4d-a0596c958416",
   "metadata": {},
   "source": [
    "* Case B.\\\n",
    " ![](this_is_fine.jpg)"
   ]
  },
  {
   "cell_type": "markdown",
   "id": "299298f3-0c31-435c-8772-94d8ce32e960",
   "metadata": {},
   "source": [
    "_Type your answer here, replacing this text._"
   ]
  },
  {
   "cell_type": "markdown",
   "id": "e7695268-ffc2-41d5-a8e8-7d4d8e9f5366",
   "metadata": {},
   "source": [
    "* Case C. Golf club swing speed and golf ball initial flight speed."
   ]
  },
  {
   "cell_type": "markdown",
   "id": "2efc4a33-bca5-4af5-b205-b5fab6a4fe22",
   "metadata": {},
   "source": [
    "_Type your answer here, replacing this text._"
   ]
  },
  {
   "cell_type": "markdown",
   "id": "0145f6dd-f2cd-444a-8bb0-5763bb02672f",
   "metadata": {},
   "source": [
    "* Case D. Shoe size and reading ability."
   ]
  },
  {
   "cell_type": "markdown",
   "id": "adbff006-4e53-456b-944d-9d12e2adabcd",
   "metadata": {},
   "source": [
    "_Type your answer here, replacing this text._"
   ]
  },
  {
   "cell_type": "markdown",
   "id": "215bbb38-53e3-4d36-963a-d91bbe07f8cf",
   "metadata": {},
   "source": [
    "## Problem 2.  (16 points) Just how old are you?\n",
    "Suppose you are asked to provide information about the **age of permanent residents of North Carolina**, so you decide to obtain age data for **100 people**."
   ]
  },
  {
   "cell_type": "markdown",
   "id": "d56d7da1-cd5b-4421-be52-ff72aaad53bd",
   "metadata": {},
   "source": [
    "**Problem 2.1 (4 points).**\n",
    "Initially, you ask the age of the **first 100 people you meet on campus**.  \n",
    "1. What is this type of sampling called? Pick **one** closest and most specific answer.\n",
    "3. What are potential biases that could result from this sampling approach?  Name **at least two**.  \n",
    "4. Would you expect this to be a representative sample of North Carolina residents?"
   ]
  },
  {
   "cell_type": "markdown",
   "id": "2374165e-004a-4f8d-95f2-9aae15345983",
   "metadata": {},
   "source": [
    "*Write your answers here*"
   ]
  },
  {
   "cell_type": "markdown",
   "id": "76f0b424-6841-4718-b640-61aa6f9933be",
   "metadata": {},
   "source": [
    "**Problem 2.2 (4 points).** \n",
    "You decide to look up the **proportions of race/ethnicity** for North Carolina permanent residents. You calculate the corresponding **proportions of 100**, then collect data again by wandering campus and asking the age of exactly that many people of each race/ethnicity.  \n",
    "\n",
    "For example, the [2020 US Census](https://www.census.gov/library/stories/state-by-state/north-carolina-population-change-between-census-decade.html) says the four largest NC race and ethnicity groups are White alone 62%, Black alone 12%, Hispanic 19%, and Asian alone 6%. So you would ask the age of the first 62 White people you meet, the first 12 Black people you meet, and so on.\n",
    "\n",
    "1. What type of sampling is this? Pick **one** closest and most specific answer.\n",
    "2. Would you expect it to be more or less representative than your previous data from Problem 1.1?  \n",
    "3. What are the most significant biases that would remain?  Name **at least two**."
   ]
  },
  {
   "cell_type": "markdown",
   "id": "98007f1e-9fad-4ba0-8588-499fdfd08dce",
   "metadata": {},
   "source": [
    "*Write your answers here*"
   ]
  },
  {
   "cell_type": "markdown",
   "id": "1d135bf0-10ac-402c-9bd8-833e6d026991",
   "metadata": {},
   "source": [
    "**Problem 2.3 (2 points).** \n",
    "Alternatively, suppose you get access to full census data for all residents of the state of North Carolina that includes age as an attribute.  You take the age of the **first 100 rows of the table** and drop the rest.  What potential concerns do you have with this approach?"
   ]
  },
  {
   "cell_type": "markdown",
   "id": "41511914-ccbf-46a8-bd62-2374e6e1392e",
   "metadata": {},
   "source": [
    "*Write your answers here*"
   ]
  },
  {
   "cell_type": "markdown",
   "id": "b4a31270-67f1-41f8-8419-84b563aa6eba",
   "metadata": {},
   "source": [
    "**Problem 2.4 (4 points).** \n",
    "Finally, you decide to take **100 random samples from the census data** table.\n",
    "1. What type of sampling is this? Pick **one** closest and most specific answer.\n",
    "2. Would you expect this to be a representative sample of North Carolina residents?\n",
    "3. Do you think it matters if you allow replacement for this sampling?  Why or why not?\n",
    "4. If the census data is in a table named `nc_people` that has a row for every person, write code that uses pandas to randomly sample 100 people from `nc_people` and put them in a new table named `nc_people_100`."
   ]
  },
  {
   "cell_type": "markdown",
   "id": "ada3c4c3-37db-48bd-9bd4-45b269fcb2ec",
   "metadata": {},
   "source": [
    "*Write your answers here*"
   ]
  },
  {
   "cell_type": "markdown",
   "id": "dd3e1e5c-4ec7-48aa-b626-999564fd0ba9",
   "metadata": {},
   "source": [
    "**Problem 2.5 (2 point).** \n",
    "Which of the following is an example of sampling?\n",
    "1. Enumerating all the possible outcomes of drawing 1 card from a deck\n",
    "2. Counting the number of planets in our solar system\n",
    "3. Surveying a piece of property to mark its boundaries\n",
    "4. Asking people in your class who sit next to you their favorite Pokemon "
   ]
  },
  {
   "cell_type": "markdown",
   "id": "16508c11-3ec8-43f3-9414-d6aa521efe2c",
   "metadata": {},
   "source": [
    "*Write your answers here*"
   ]
  },
  {
   "cell_type": "markdown",
   "id": "eaa46648-1d95-412b-a95e-0bbc79361524",
   "metadata": {},
   "source": [
    "## Problem 3. Loaded question (22 points)\n",
    "\n",
    "In this problem, you'll be analyzing the fairness of a 6-sided die.\n",
    "\n",
    "A street vendor asks you if you'd like to play a game.  The game is:\n",
    "* pay \\$10 to roll a 6-sided die 3 times\n",
    "* if any of those rolls is a 6 he pays you $11.  "
   ]
  },
  {
   "cell_type": "markdown",
   "id": "e2af7f62-eb6e-4fbd-9c9d-80ff6156e1a7",
   "metadata": {},
   "source": [
    "#### **Problem 3.1 (4 points) Hypothesis Testing.**\n",
    "You decide to play the game 20 times, and out of your 60 total rolls of the die, you roll a 6 **four times**.  You start to suspect something is not right, and you wonder if perhaps the die is NOT fair.  In particular, you feel that there might be **less than fair chance** of rolling a 6, even though the street vendor insists it is fair. You decide to conduct a hypothesis test.\n",
    "\n",
    "1) State the null hypothesis for this situation.  Remember, you'll need to be able to \"simulate under the null\".\n",
    "2) State the alternative hypothesis.\n",
    "3) Which of the following statistics would you be appropriate for evaluating these hypotheses?\n",
    "* a) cost to play the game\n",
    "* b) number of 5's rolled\n",
    "* c) proportion of 6's rolled\n",
    "* d) total number of rolls\n",
    "4) What is the value of this statistic for the 20 games you played?  Assign it to `measured_statistic1` in the provided cell."
   ]
  },
  {
   "cell_type": "markdown",
   "id": "f8d7ed16-9f47-4acb-80ce-3820f2982895",
   "metadata": {},
   "source": [
    "*Write your answers to 1-4 here*"
   ]
  },
  {
   "cell_type": "code",
   "execution_count": null,
   "id": "4c7eaf72-34ba-4eea-a701-e8f3534b1408",
   "metadata": {
    "tags": []
   },
   "outputs": [],
   "source": [
    "# Assign the value of the statistic for the 20 games here\n",
    "measured_statistic1 = ..."
   ]
  },
  {
   "cell_type": "markdown",
   "id": "e0854a18-fbce-4b61-909e-62ff3676d935",
   "metadata": {},
   "source": [
    "#### **Problem 3.2 (10 points) Simulating under the null**\n",
    "In this problem, you'll be writing code to simulate the test statistic for 60 rolls, and you'll run that simulation 1000 times. \n",
    "\n",
    "**Problem 3.2.1 (2 points).** \n",
    "First, write a code that returns a list containing that many simulated 6-sided die rolls for 60 rolls. Import whatever Python package you need to do this."
   ]
  },
  {
   "cell_type": "code",
   "execution_count": null,
   "id": "0c0179b5-597d-465c-82ea-90ca980f5487",
   "metadata": {
    "tags": []
   },
   "outputs": [],
   "source": [
    "# write your code here\n",
    "...\n",
    "rolls = ...\n",
    "# This is sampling from uniform distribution\n",
    "list(rolls)"
   ]
  },
  {
   "cell_type": "markdown",
   "id": "4ca1afc7-0507-48d1-a8b8-81ade19803d3",
   "metadata": {
    "deletable": false,
    "editable": false
   },
   "source": [
    "**Problem 3.2.2 (2 points).**\n",
    "Next, write code to simulate 1000 times the test statistic for 60 die rolls, and store the test statistic in a table named `statistic1`"
   ]
  },
  {
   "cell_type": "code",
   "execution_count": null,
   "id": "f63151c2-f20a-4e46-98d5-3b6500f7b268",
   "metadata": {
    "tags": []
   },
   "outputs": [],
   "source": [
    "import pandas as pd\n",
    "statistic1 = pd.DataFrame(columns=['test statistic'])\n",
    "for simulation in range(1000):\n",
    "    # finish the code below\n",
    "    simulated_rolls = pd.DataFrame(random.choices([1,2,3,4,5,6], k=60), columns=['roll']) # create a 1-column table of randomly simulated rolls\n",
    "    # sixes is an array of True or False. True if roll is 6, False otherwise.\n",
    "    sixes = ...\n",
    "    # calculate the statistic for this simulated data using sixes\n",
    "    sim_t1 = ...\n",
    "    statistic1.loc[len(statistic1)] = [sim_t1] # add simulated result to end of table\n",
    "statistic1"
   ]
  },
  {
   "cell_type": "markdown",
   "id": "33b764e5-2e50-4843-a1d8-54d37c0b351d",
   "metadata": {
    "deletable": false,
    "editable": false
   },
   "source": [
    "**Problem 3.2.3 (2 points).**\n",
    "Plot the empirical distribution of your statistics simulated under the null.  Plot a vertical line for the value of the measured statistic for your actual games.  Label your plot using the parameter `label=`."
   ]
  },
  {
   "cell_type": "code",
   "execution_count": null,
   "id": "73cdfbb5-594d-40c8-9994-059d09a77482",
   "metadata": {
    "tags": []
   },
   "outputs": [],
   "source": [
    "# 3. Plot empirical distribution of t1 (under the null)\n",
    "import matplotlib.pyplot as plt\n",
    "fig, ax = plt.subplots(1)\n",
    "# write your code here\n",
    "...\n",
    "ax.legend()"
   ]
  },
  {
   "cell_type": "markdown",
   "id": "343ea52b-b02c-4dde-8089-147b7066ee04",
   "metadata": {
    "deletable": false,
    "editable": false
   },
   "source": [
    "**Problem 3.2.4 (1 point).**\n",
    "Looking at the shape of your distribution, what type of distribution is your simulation data, approximately? We're referring to the distribution of the statistics simulated under the null."
   ]
  },
  {
   "cell_type": "markdown",
   "id": "3c6a991e-c7db-410c-b207-603b7f32da5c",
   "metadata": {
    "deletable": false,
    "editable": false
   },
   "source": [
    "*Write your answer here*"
   ]
  },
  {
   "cell_type": "markdown",
   "id": "6a57699f-d944-4935-a15e-4554ada38159",
   "metadata": {
    "deletable": false,
    "editable": false
   },
   "source": [
    "**Problem 3.2.5 (2 points).**\n",
    "Write code to compute the p-value from the `statistic1` table."
   ]
  },
  {
   "cell_type": "code",
   "execution_count": null,
   "id": "078daeee-a63d-4921-9202-490701b43ae8",
   "metadata": {
    "tags": []
   },
   "outputs": [],
   "source": [
    "p_value1 = ...\n",
    "p_value1"
   ]
  },
  {
   "cell_type": "markdown",
   "id": "19fd1755-e1cc-4995-8170-ced6553c31d3",
   "metadata": {
    "deletable": false,
    "editable": false
   },
   "source": [
    "**Problem 3.2.6 (1 point).**\n",
    "Does your simulation provide evidence against the null?  (yes or no)  If so, is the evidence statistically significant?  Is it extremely statistically significant?  Explain the convention you are using to answer these questions."
   ]
  },
  {
   "cell_type": "markdown",
   "id": "7b02b4c1-7685-4311-9b6e-87aa9ec2cd08",
   "metadata": {
    "deletable": false,
    "editable": false
   },
   "source": [
    "*Write your answers here*"
   ]
  },
  {
   "cell_type": "markdown",
   "id": "dc07b20f-2f45-43e7-8733-a463c3541343",
   "metadata": {
    "deletable": false,
    "editable": false
   },
   "source": [
    "#### **Problem 3.3 (4 points) Hypothesis testing revisited.**\n",
    "Instead of investigating if there is a less than fair chance of rolling a 6 like you just did, now evaluate if there is an **unfair chance** of rolling a 6 (either more likely or less likely than fair).\n",
    "\n",
    "1) State the null hypothesis for this situation.\n",
    "2) State the alternative hypothesis.\n",
    "3) Which of the following statistics would you be appropriate for evaluating these hypotheses?\n",
    "* a) number of 6's rolled in a row\n",
    "* b) abs(proportion of 6's rolled - 1/6)\n",
    "* c) abs(proportion of 6's rolled + 1/6)\n",
    "* d) abs(total number of rolls)\n",
    "4) What is the value of this statistic for the 20 games you played?  Assign it to `measured_statistic2` in the provided cell."
   ]
  },
  {
   "cell_type": "markdown",
   "id": "6b647b80-35b3-47db-bef0-2550ecbe8db8",
   "metadata": {
    "deletable": false,
    "editable": false
   },
   "source": [
    "*Write your answers to 1-4 here*"
   ]
  },
  {
   "cell_type": "code",
   "execution_count": null,
   "id": "521606a8-ebe5-4e95-80de-c2717317e32f",
   "metadata": {
    "tags": []
   },
   "outputs": [],
   "source": [
    "# Assign your measured statistic here\n",
    "measured_statistic2 = ..."
   ]
  },
  {
   "cell_type": "markdown",
   "id": "466a55e5-d707-4fc8-969c-e816323144f5",
   "metadata": {
    "deletable": false,
    "editable": false
   },
   "source": [
    "#### **Problem 3.4 (4 points) Simulating under the null revisited**\n",
    "\n",
    "**Problem 3.4.1 (2 points).**\n",
    "Now, write code to simulate 1000 times this new test statistic for 60 die rolls, and store the results in a table named `statistic2`.  You can use the same `sample_die()` function you wrote before."
   ]
  },
  {
   "cell_type": "code",
   "execution_count": null,
   "id": "e82e735f-6665-4e4f-9df9-fdf1d3bb10a0",
   "metadata": {
    "tags": []
   },
   "outputs": [],
   "source": [
    "statistic2 = pd.DataFrame(columns=['test statistic'])\n",
    "\n",
    "for simulation in range(1000):\n",
    "    # finish the code below\n",
    "    simulated_rolls = ...\n",
    "    sixes = ...\n",
    "    sim_t2 = ...\n",
    "    statistic2.loc[len(statistic2)] = [sim_t2] # add simulated result to end of table\n",
    "statistic2"
   ]
  },
  {
   "cell_type": "markdown",
   "id": "fee347bc-a2b9-4805-b50e-955911643600",
   "metadata": {
    "deletable": false,
    "editable": false
   },
   "source": [
    "**Problem 3.4.2 (2 points).**\n",
    "Plot the empirical distribution of your statistics simulated under the null.  Plot a vertical line for the value of the measured statistic for your actual games.  Label your plot using the parameter `label=`."
   ]
  },
  {
   "cell_type": "code",
   "execution_count": null,
   "id": "9678d090-6c9f-45db-a009-7750f8ddc347",
   "metadata": {
    "tags": []
   },
   "outputs": [],
   "source": [
    "fig, ax = plt.subplots(1)\n",
    "# write your code here\n",
    "...\n",
    "ax.legend()"
   ]
  },
  {
   "cell_type": "markdown",
   "id": "f2220998-193f-444d-b3db-30c89bcaddfd",
   "metadata": {
    "deletable": false,
    "editable": false
   },
   "source": [
    "**Problem 3.4.3 (Extra Credit) (1 points).**\n",
    "Write code to compute the p-value from the `statistic2` table.\n"
   ]
  },
  {
   "cell_type": "code",
   "execution_count": null,
   "id": "611de61b-1257-4b8f-89ba-0972c46a7a6f",
   "metadata": {
    "tags": []
   },
   "outputs": [],
   "source": [
    "p_value2 = ...\n",
    "p_value2"
   ]
  },
  {
   "cell_type": "markdown",
   "id": "0db719b3-9877-4461-8c29-2949909ef0ad",
   "metadata": {},
   "source": [
    "**Problem 3.4.4 (Extra Credit) (1 points).**\n",
    "Does your simulation provide evidence against the null?  (yes or no)  If so, is the evidence statistically significant?  Is it extremely statistically significant?  "
   ]
  },
  {
   "cell_type": "markdown",
   "id": "24e1ae33-9fab-4e48-9c08-5790cc0cba83",
   "metadata": {},
   "source": [
    "*Write your answers here*"
   ]
  },
  {
   "cell_type": "markdown",
   "id": "f06038c2",
   "metadata": {
    "deletable": false,
    "editable": false
   },
   "source": [
    "## Submission\n",
    "\n",
    "Make sure you have run all cells in your notebook in order before running the cell below, so that all images/graphs appear in the output. The cell below will generate a zip file for you to submit. **Please save before exporting!**\n",
    "\n",
    "Submit PDF to Gradescope Homework5"
   ]
  },
  {
   "cell_type": "code",
   "execution_count": null,
   "id": "8e85c4a0",
   "metadata": {
    "deletable": false,
    "editable": false
   },
   "outputs": [],
   "source": [
    "# Save your notebook first, then run this cell to export your submission.\n",
    "grader.export(pdf=False, run_tests=True)"
   ]
  },
  {
   "cell_type": "markdown",
   "id": "0576b57e",
   "metadata": {},
   "source": [
    " "
   ]
  }
 ],
 "metadata": {
  "kernelspec": {
   "display_name": "Python 3",
   "language": "python",
   "name": "python3"
  },
  "language_info": {
   "codemirror_mode": {
    "name": "ipython",
    "version": 3
   },
   "file_extension": ".py",
   "mimetype": "text/x-python",
   "name": "python",
   "nbconvert_exporter": "python",
   "pygments_lexer": "ipython3",
   "version": "3.12.9"
  },
  "otter": {
   "OK_FORMAT": true,
   "tests": {}
  }
 },
 "nbformat": 4,
 "nbformat_minor": 5
}
