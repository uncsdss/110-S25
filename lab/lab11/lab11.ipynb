{
 "cells": [
  {
   "cell_type": "markdown",
   "metadata": {},
   "source": [
    "# Your name and your onyen\n",
    "\n",
    "Classmates you worked with today:\n",
    "\n",
    "- name\n",
    "- name\n",
    "- name\n",
    "  \n",
    "**Submission instruction**: Please create a pdf via File -> Print (or cmd + P on mac), and upload it to Gradescope. No autograder since there are many correct ways to approach this question. You are not required to finish the entire worksheet provided that you were actively engaged during the entire class period. As long as you've collaborated, put in good effort and made reasonable progress during the lab period, you can expect to get full credit. So even if you decide to finish it at home, please submit what you have by the end of 50 minutes to make sure you get credit!"
   ]
  },
  {
   "cell_type": "markdown",
   "metadata": {},
   "source": [
    "## Part A: Are we automating racism? Video by Vox (~25 minutes)\n",
    "\n",
    "The whole class will watch this video together:\n",
    "\n",
    "https://www.youtube.com/watch?v=Ok5sKLXqynQ\n",
    "\n",
    "By the way, the paper discussed around minute 14 is where project C2 comes from."
   ]
  },
  {
   "cell_type": "markdown",
   "metadata": {},
   "source": [
    "While you're watching the video, answer this question: What are two new or interesting things you learned from this video?\n",
    "\n",
    "[Your answer]"
   ]
  },
  {
   "cell_type": "markdown",
   "metadata": {},
   "source": [
    "### Discussion as a group (5 minutes)\n",
    "\n",
    "What is one thing you learned or find interesting from your classmates' answers?\n",
    "\n",
    "[Your answer]"
   ]
  },
  {
   "cell_type": "markdown",
   "metadata": {},
   "source": [
    "## Part B: Linear regression (20 minutes)\n",
    "\n",
    "Let's revisit the ROUSes dataset. "
   ]
  },
  {
   "cell_type": "code",
   "execution_count": 2,
   "metadata": {},
   "outputs": [],
   "source": [
    "import pandas as pd\n",
    "import seaborn as sns"
   ]
  },
  {
   "cell_type": "code",
   "execution_count": 3,
   "metadata": {},
   "outputs": [
    {
     "name": "stdout",
     "output_type": "stream",
     "text": [
      "(29, 4)\n"
     ]
    },
    {
     "data": {
      "text/html": [
       "<div>\n",
       "<style scoped>\n",
       "    .dataframe tbody tr th:only-of-type {\n",
       "        vertical-align: middle;\n",
       "    }\n",
       "\n",
       "    .dataframe tbody tr th {\n",
       "        vertical-align: top;\n",
       "    }\n",
       "\n",
       "    .dataframe thead th {\n",
       "        text-align: right;\n",
       "    }\n",
       "</style>\n",
       "<table border=\"1\" class=\"dataframe\">\n",
       "  <thead>\n",
       "    <tr style=\"text-align: right;\">\n",
       "      <th></th>\n",
       "      <th>Age</th>\n",
       "      <th>Length</th>\n",
       "      <th>Weight</th>\n",
       "      <th>Temperament</th>\n",
       "    </tr>\n",
       "  </thead>\n",
       "  <tbody>\n",
       "    <tr>\n",
       "      <th>0</th>\n",
       "      <td>9.5</td>\n",
       "      <td>4.1</td>\n",
       "      <td>93.2</td>\n",
       "      <td>Sleepy</td>\n",
       "    </tr>\n",
       "    <tr>\n",
       "      <th>1</th>\n",
       "      <td>12.0</td>\n",
       "      <td>4.1</td>\n",
       "      <td>97.7</td>\n",
       "      <td>Moody</td>\n",
       "    </tr>\n",
       "    <tr>\n",
       "      <th>2</th>\n",
       "      <td>14.5</td>\n",
       "      <td>4.6</td>\n",
       "      <td>120.3</td>\n",
       "      <td>No-nonsense</td>\n",
       "    </tr>\n",
       "    <tr>\n",
       "      <th>3</th>\n",
       "      <td>7.0</td>\n",
       "      <td>3.3</td>\n",
       "      <td>60.4</td>\n",
       "      <td>Moody</td>\n",
       "    </tr>\n",
       "    <tr>\n",
       "      <th>4</th>\n",
       "      <td>10.0</td>\n",
       "      <td>3.5</td>\n",
       "      <td>75.3</td>\n",
       "      <td>No-nonsense</td>\n",
       "    </tr>\n",
       "  </tbody>\n",
       "</table>\n",
       "</div>"
      ],
      "text/plain": [
       "    Age  Length  Weight  Temperament\n",
       "0   9.5     4.1    93.2       Sleepy\n",
       "1  12.0     4.1    97.7        Moody\n",
       "2  14.5     4.6   120.3  No-nonsense\n",
       "3   7.0     3.3    60.4        Moody\n",
       "4  10.0     3.5    75.3  No-nonsense"
      ]
     },
     "execution_count": 3,
     "metadata": {},
     "output_type": "execute_result"
    }
   ],
   "source": [
    "rouses = pd.read_csv('ROUSes.csv')\n",
    "print(rouses.shape)\n",
    "rouses.head()"
   ]
  },
  {
   "cell_type": "markdown",
   "metadata": {},
   "source": [
    "Run the following code to drop the column `Temperament` from the table `rouses`. "
   ]
  },
  {
   "cell_type": "code",
   "execution_count": 4,
   "metadata": {},
   "outputs": [],
   "source": [
    "rouses = rouses.drop(columns='Temperament')"
   ]
  },
  {
   "cell_type": "markdown",
   "metadata": {
    "jp-MarkdownHeadingCollapsed": true
   },
   "source": [
    "Here our goal is to predict the `Weight` of ROUSes using numerical values. Start by answering the following questions:\n",
    "\n",
    "- Classification or regression?\n",
    "- Predictor variables?\n",
    "- Target variables?\n",
    "- Model: is this simiple or multiple linear regression?"
   ]
  },
  {
   "cell_type": "markdown",
   "metadata": {},
   "source": [
    "[Your answer]"
   ]
  },
  {
   "cell_type": "markdown",
   "metadata": {},
   "source": [
    "### Exploratory analysis"
   ]
  },
  {
   "cell_type": "markdown",
   "metadata": {},
   "source": [
    "Run the code `rouses.corr()`. This calculates the correlations between pairs of numerical columns."
   ]
  },
  {
   "cell_type": "code",
   "execution_count": null,
   "metadata": {},
   "outputs": [],
   "source": [
    "# write your code here\n",
    "\n"
   ]
  },
  {
   "cell_type": "markdown",
   "metadata": {},
   "source": [
    "Based on the correlations, which variable do you expect to be more helpful in predicting `Weight`: `Age` or `Length`?\n",
    "\n",
    "[Your answer]"
   ]
  },
  {
   "cell_type": "markdown",
   "metadata": {},
   "source": [
    "### Setting up the data\n",
    "\n",
    "We usually split the dataset into train and test first and then split them into X and y. But for this exercise, let's go in a different order.\n",
    "\n",
    "Split the table `rouses` into `X` and `y` by completing the following code.\n",
    "\n",
    "```Python\n",
    "y = rouses[...]\n",
    "X = rouses.drop(columns=...)\n",
    "```"
   ]
  },
  {
   "cell_type": "code",
   "execution_count": null,
   "metadata": {},
   "outputs": [],
   "source": [
    "# Write your code here\n",
    "\n"
   ]
  },
  {
   "cell_type": "markdown",
   "metadata": {},
   "source": [
    "### Setting up regression pipeline\n",
    "\n",
    "We'll write our machine learning code inside a function so that we can call it multiple times later. Copy the following code, then fill in the missing spots marked by `...`.\n",
    "\n",
    "**Hint**: The six `...` are from these options: `X_train`, `X_test`, `y_train`, `y_test`.\n",
    "\n",
    "``` Python\n",
    "def rouses_lr(X, y, seed=0):\n",
    "    # Split X and y into X_train, X_test and y_train, y_test\n",
    "    # using the same seed ensures that the same rows are picked between X and y\n",
    "    \n",
    "    X_train = X.sample(frac=0.8, random_state=seed)\n",
    "    X_test = X.drop(index=X_train.index) \n",
    "    \n",
    "    y_train = y.sample(frac=0.8, random_state=seed)\n",
    "    y_test = y.drop(index=y_train.index)\n",
    "    \n",
    "    # Create \"empty\" model\n",
    "    from sklearn.linear_model import LinearRegression\n",
    "    \n",
    "    lr = LinearRegression(fit_intercept=True)\n",
    "    \n",
    "    # Fit model to data (or train model)\n",
    "    lr.fit(..., ...)\n",
    "    \n",
    "    # Save coefficients of the trained model\n",
    "    coefs = pd.DataFrame(lr.coef_, \n",
    "                         index=lr.feature_names_in_, \n",
    "                        columns=['Coefficient vals'])\n",
    "    \n",
    "    # Save model performance on train and test\n",
    "    coefs.loc['Train R2 score'] = lr.score(..., ...)\n",
    "    coefs.loc['Test R2 score'] = lr.score(..., ...)\n",
    "    return coefs\n",
    "``` \n"
   ]
  },
  {
   "cell_type": "code",
   "execution_count": null,
   "metadata": {},
   "outputs": [],
   "source": [
    "# complete and run your code here\n",
    "\n"
   ]
  },
  {
   "cell_type": "markdown",
   "metadata": {},
   "source": [
    "### Normalizing features\n",
    "\n",
    "In class, we talked about interpreting linear regression coefficients, and mentioned an important caviat: To use the **magnitude of the coefficients** as an indication of relative feature importance, **the features have to be in the same range or scale**. Today, we'll see a few different ways to acheive that goal. The technical term for this is **feature normalization**, if you want to Google it for your project."
   ]
  },
  {
   "cell_type": "markdown",
   "metadata": {},
   "source": [
    "First, call the function `describe` on the table `X` to see the summary statistics of the numerical columns."
   ]
  },
  {
   "cell_type": "code",
   "execution_count": null,
   "metadata": {},
   "outputs": [],
   "source": [
    "# write your code here\n",
    "\n"
   ]
  },
  {
   "cell_type": "markdown",
   "metadata": {},
   "source": [
    "Question: Does `Age` and `Length` have the same ranges? Or the same means?\n",
    "\n",
    "[Your answer]\n",
    "\n",
    "We'll see how that affects the final model and interpretation of coefficients."
   ]
  },
  {
   "cell_type": "markdown",
   "metadata": {},
   "source": [
    "### 1. Standardization\n",
    "\n",
    "The first method is called **standardization**. This means that each variable will have mean of 0 and standard deviation of 1 after this process. You can acheive this by doing the following steps:\n",
    "   1. Within each column, subtract its mean. For example, if the mean `Age` is 13, subtract 13 from everyone's age.\n",
    "   2. Within each column, divide by its standard deviation. For example, if the std of `Age` 10, divide everyone's age by 10.\n",
    "\n",
    "The code to achieve this is very simple. Make sure you understand what's going on, then copy and run the lines below.\n",
    "\n",
    "```Python\n",
    "X_standardized = X - X.mean() # Subtract by column mean\n",
    "X_standardized = X_standardized/X_standardized.std() # Divide by column std\n",
    "\n",
    "X_standardized.describe()\n",
    "```\n"
   ]
  },
  {
   "cell_type": "code",
   "execution_count": null,
   "metadata": {},
   "outputs": [],
   "source": [
    "# run your code\n"
   ]
  },
  {
   "cell_type": "markdown",
   "metadata": {},
   "source": [
    "Before we move on, check that each feature in `X_standardized` now has zero mean and 1 stadard deviation as expected."
   ]
  },
  {
   "cell_type": "markdown",
   "metadata": {},
   "source": [
    "### 2. Min-max scaling\n",
    "\n",
    "The second method is called **min-max scaling**. This makes all values in each column to fall between 0 and 1. The minimum value becomes 0, the maximum value becomes 1, and everything in between is scaled linearly.\n",
    "\n",
    "Here is the code that does that. As before, make sure you understand what's going on.\n",
    "\n",
    "```Python\n",
    "X_minmax = X - X.min() # this turns minimum value of each column to 0\n",
    "ranges = X.max() - X.min() # calculate the range per column\n",
    "X_minmax = X_minmax/ranges # this turns maximum value to 1\n",
    "\n",
    "X_minmax.describe()\n",
    "```"
   ]
  },
  {
   "cell_type": "code",
   "execution_count": null,
   "metadata": {},
   "outputs": [],
   "source": [
    "# run your code\n"
   ]
  },
  {
   "cell_type": "markdown",
   "metadata": {},
   "source": [
    "Before we move on, check that each feature in `X_minimax` now has minimum 0 and maximum 1 as expected."
   ]
  },
  {
   "cell_type": "markdown",
   "metadata": {},
   "source": [
    "### Check the results!\n",
    "\n",
    "Finally it's time to put everything together. Run the following code to check:\n",
    "\n",
    "rows: \n",
    "- the resulting coefficients (`Age`, `Length`) of the linear regression model, and the\n",
    "- $R^2$ scores (`Train R2 score`, `Test R2 score`), for\n",
    "\n",
    "columns:\n",
    "- the three different versions of feature tables (unnormalized `X`, standardized `X_standardized`, min-max scaled `X_minmax`), and\n",
    "- the unnormalized coefficients muliplied by the std of the unnormalized features (`Unnormalized * std`)"
   ]
  },
  {
   "cell_type": "code",
   "execution_count": null,
   "metadata": {},
   "outputs": [],
   "source": [
    "seed = 2024\n",
    "\n",
    "results = pd.DataFrame()\n",
    "for features, name in zip([X, X_standardized, X_minmax], \n",
    "                    [\"Unnormalized\", \"Standardized\", \"Min-max scaled\"]):\n",
    "    res = rouses_lr(features, y, seed)\n",
    "    res = res.rename(columns ={'Coefficient vals': name})\n",
    "    results = pd.concat((results, res), axis=1)\n",
    "\n",
    "results['Unnormalized * std'] = results['Unnormalized']*X.std()\n",
    "results"
   ]
  },
  {
   "cell_type": "markdown",
   "metadata": {},
   "source": [
    "The last column is sometimes called **beta** or **standardized** coefficients. Does it look similar to any of the other columns?\n",
    "\n",
    "Question: Which feature is more important, according to the magnitude of the coefficients? Did that answer change for different versions of features?\n",
    "\n",
    "[Your answer]"
   ]
  },
  {
   "cell_type": "markdown",
   "metadata": {},
   "source": [
    "I hope this convinces you to normalize your features for your project if you decide to do a predictive model, and especially if you plan to do linear regression.\n",
    "\n",
    "FYI, you get the same score regardless of feature normalization here. This is not the case for every dataset and every ML model. Often normalization improves accuracy of the model."
   ]
  }
 ],
 "metadata": {
  "kernelspec": {
   "display_name": "Python 3",
   "language": "python",
   "name": "python3"
  },
  "language_info": {
   "codemirror_mode": {
    "name": "ipython",
    "version": 3
   },
   "file_extension": ".py",
   "mimetype": "text/x-python",
   "name": "python",
   "nbconvert_exporter": "python",
   "pygments_lexer": "ipython3",
   "version": "3.7.6"
  }
 },
 "nbformat": 4,
 "nbformat_minor": 5
}
