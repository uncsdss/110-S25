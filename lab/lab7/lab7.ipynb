{
 "cells": [
  {
   "cell_type": "markdown",
   "id": "689b7c13-31f2-4113-86a3-2bc5fe8d61c0",
   "metadata": {},
   "source": [
    "# Your name and your onyen\n",
    "\n",
    "Classmates you worked with today:\n",
    "\n",
    "1. name\n",
    "2. name\n",
    "3. name\n",
    "\n",
    "\n",
    "**Submission instruction**: Please create a `pdf` via File -> Print (or cmd + P on mac), and upload it to Gradescope. No autograder since there are many correct ways to approach this question. You are **not** required to finish the entire worksheet provided that you were actively engaged during the entire class period. As long as you've collaborated, put in good effort and made **reasonable progress** during the lab period, you can expect to get full credit. So even if you decide to finish it at home, please submit what you have by the end of 50 minutes to make sure you get credit! "
   ]
  },
  {
   "cell_type": "markdown",
   "id": "99c84be4-4dac-4907-9355-0babc8e6ff43",
   "metadata": {},
   "source": [
    "#  Lab 7: Categorical Data, Summary Statistics, and Probability\n",
    "\n",
    "## Problem 1: Converting categorical data to numeric (25 mins)\n",
    "We've done a lot of plotting and computation on numerical data; what can we do for categorical data?  We'll start with a simple table with just one column of shapes.\n"
   ]
  },
  {
   "cell_type": "code",
   "execution_count": 215,
   "id": "dc5f0567-b057-4a82-9d0c-5aa5face7084",
   "metadata": {},
   "outputs": [],
   "source": [
    "import pandas as pd\n",
    "import seaborn as sns\n",
    "pd.set_option(\"future.no_silent_downcasting\", True) # Don't worry about understanding this line"
   ]
  },
  {
   "cell_type": "code",
   "execution_count": null,
   "id": "295b56c7-5455-419b-9a03-9a6926c89c13",
   "metadata": {},
   "outputs": [],
   "source": [
    "dice = pd.read_csv('d_and_d_dice.csv')\n",
    "dice"
   ]
  },
  {
   "cell_type": "markdown",
   "id": "4849bf81",
   "metadata": {},
   "source": [
    "As we learned in class, we can compute the `mode()` of categorical data, and we can do seaborn histplots or countplots.  We can also get the `value_counts()`.  Do all those things for `dice`."
   ]
  },
  {
   "cell_type": "code",
   "execution_count": 217,
   "id": "4282ba80",
   "metadata": {},
   "outputs": [],
   "source": [
    "# Write your code here.  Add as many cells as you want."
   ]
  },
  {
   "cell_type": "markdown",
   "id": "ba5979a6",
   "metadata": {},
   "source": [
    "Sometimes it can be useful to convert categorical data to numeric.  Why would this ever be useful?  Try to think of different situations it could be useful, and discuss with your classmates.  List your ideas below.\n",
    "\n",
    "[Write your answer here]"
   ]
  },
  {
   "cell_type": "markdown",
   "id": "2a428df5",
   "metadata": {},
   "source": [
    "### Label encoding\n",
    "One method for converting categorical data to number is called label encoding.  Label encoding assigns a unique numeric value for every unique categorical value.  pandas has a function called 'unique()` that returns a list of the unique categorical values:"
   ]
  },
  {
   "cell_type": "code",
   "execution_count": null,
   "id": "a5a8a8c0",
   "metadata": {},
   "outputs": [],
   "source": [
    "list(dice['Shape'].unique())"
   ]
  },
  {
   "cell_type": "markdown",
   "id": "91c5f8e3",
   "metadata": {},
   "source": [
    "Make a mental note of how many unique shapes there are.  If you wanted to make a new column of corresponding numeric values, how would you do it?  Discuss with your classmates, and in a sentence or two write the process you'd follow below. Note you don't have to write any actual code for this.  (If you really want to, try it later!)\n",
    "\n",
    "[Write your answer here]"
   ]
  },
  {
   "cell_type": "markdown",
   "id": "cf361b23",
   "metadata": {},
   "source": [
    "As with many common operations, pandas already has a quick way of doing this.  It isn't a function we have learned yet, and it is a little complicated, so we've supplied you the code:"
   ]
  },
  {
   "cell_type": "code",
   "execution_count": null,
   "id": "22815a6b",
   "metadata": {},
   "outputs": [],
   "source": [
    "dice['numeric'] = pd.factorize(dice['Shape'])[0]\n",
    "dice\n"
   ]
  },
  {
   "cell_type": "markdown",
   "id": "d47723b9",
   "metadata": {},
   "source": [
    "You should see a new column in the table now named `numeric`.  Is the range of values in the numeric column what you would expect given the number of unique shapes?  Other than by manually checking, can you think of how you might verify if a numeric value correctly assigned to a category?  Discuss with your classmates; don't worry if you don't have any answer!  Hint: maybe use Boolean comparison on the columns somehow?\n",
    "\n",
    "[ Write your answer here ]"
   ]
  },
  {
   "cell_type": "markdown",
   "id": "cb453dc7",
   "metadata": {},
   "source": [
    "Now we have numeric values, but the values were arbitrarily assigned.  This can actually be a negative, because it can imply some kind of ordering that wasn't really there originally.  This particular dataset has numeric values that would make much more sense given the shapes and name of the table.  Discuss with your classmates, and list what better numeric values might be for each of the shapes.  If you're stuck, ask if any of the other groups play D&D!\n",
    "\n",
    "[ Write your answer here ]"
   ]
  },
  {
   "cell_type": "markdown",
   "id": "3320856f",
   "metadata": {},
   "source": [
    "Assigning particular numeric values to a particular categorical values can be done using a find-and-replace approach.  Again, pandas has a great way to do that using a function called `replace()`.  We've created an example new column in `dice` that uses this function to assign some arbitrary numbers."
   ]
  },
  {
   "cell_type": "code",
   "execution_count": null,
   "id": "1d540429",
   "metadata": {},
   "outputs": [],
   "source": [
    "dice['example']=dice['Shape'].replace(['tetrahedron','dodecahedron','icosahedron','cube','octahedron','pentagonal trapezohedron'], [2,3,5,7,11,13])\n",
    "dice"
   ]
  },
  {
   "cell_type": "markdown",
   "id": "5f3ac052",
   "metadata": {},
   "source": [
    "Now, you use `replace()` to add a column to `dice` with an appropriate column name and the better numeric values you described above."
   ]
  },
  {
   "cell_type": "code",
   "execution_count": 221,
   "id": "e5c2a1c1",
   "metadata": {},
   "outputs": [],
   "source": [
    "# Write your code here"
   ]
  },
  {
   "cell_type": "markdown",
   "id": "7857c4bf",
   "metadata": {},
   "source": [
    "Can you think of any value this new column offers?  We haven't talked about sampling yet, but what if you randomly grabbed 2 dice and rolled them.  Would this column provide any useful numeric information for the roll?\n",
    "\n",
    "[ Write your answer here ]"
   ]
  },
  {
   "cell_type": "markdown",
   "id": "74646556",
   "metadata": {},
   "source": [
    "Now, take a look at the boxplots for the numeric columns of `dice`."
   ]
  },
  {
   "cell_type": "code",
   "execution_count": null,
   "id": "5e8b75f5",
   "metadata": {},
   "outputs": [],
   "source": [
    "sns.boxplot(dice)"
   ]
  },
  {
   "cell_type": "markdown",
   "id": "e012d030",
   "metadata": {},
   "source": [
    "The boxplots for `numeric` and `example` aren't particularly useful, because the assigned numeric values don't have any real meaning.  But the boxplot for your column actually does have some value.  What do you notice about the values for the whisker ends, the median line, and the box edges?  Can you explain why the median line isn't in the center of the box?  Could it ever be in the center for a table with an odd number of rows?  What about for a table with an even number of rows?  Would it: never be in the center, sometimes be in the center, or always be in the center?  Discuss with your classmates.\n",
    "\n",
    "[ Write your answer here ]  "
   ]
  },
  {
   "cell_type": "markdown",
   "id": "0d4f93bc",
   "metadata": {},
   "source": [
    "### Another example of categorical data\n",
    "Another common kind of categorical data that is useful to convert to numeric are things like ratings.  For example, many rating forms have choices like 'Excellent', 'Very Good', or 'Poor'.  Note that you can make certain numeric statements about categorical data such as \"65% of respondents rated this 'Very Good' or better\".  Load the table below with the results of 3 survey questions."
   ]
  },
  {
   "cell_type": "code",
   "execution_count": null,
   "id": "8eca1ce1",
   "metadata": {},
   "outputs": [],
   "source": [
    "survey = pd.read_csv('job_satisfaction_results.csv')\n",
    "survey"
   ]
  },
  {
   "cell_type": "markdown",
   "id": "fb1da6dc",
   "metadata": {},
   "source": [
    "First, as review, use pandas and boolean indexing to compute the percent of 'Excellent' responses for Question 2"
   ]
  },
  {
   "cell_type": "code",
   "execution_count": 224,
   "id": "53211958",
   "metadata": {},
   "outputs": [],
   "source": [
    "# Write your code here"
   ]
  },
  {
   "cell_type": "markdown",
   "id": "3dbb0efc",
   "metadata": {},
   "source": [
    "Now write code to compute the percent of responses in Question 3 that are \"'Good' or better\". "
   ]
  },
  {
   "cell_type": "code",
   "execution_count": 225,
   "id": "75766d57",
   "metadata": {},
   "outputs": [],
   "source": [
    "# Write your code here"
   ]
  },
  {
   "cell_type": "markdown",
   "id": "9277b3ae",
   "metadata": {},
   "source": [
    "While such percentages can be useful, even more value can be derived from such data by converting it to numbers.  Obviously, the responses have a distinct ordering.  What numeric value do you think it makes sense to assign to each response?  Discuss with your classmates.\n",
    "\n",
    "[ Write your answer here ]"
   ]
  },
  {
   "cell_type": "markdown",
   "id": "02d7cb25",
   "metadata": {},
   "source": [
    "Now, use the `replace()` function as you did before to create 3 new columns with your numeric values in place of the responses.  In the code below change the zeroes in `my_values` to the numeric values you decided on.  The `to_numeric()` function guarantees the columns will be treated as numeric."
   ]
  },
  {
   "cell_type": "code",
   "execution_count": null,
   "id": "41861c85",
   "metadata": {},
   "outputs": [],
   "source": [
    "my_values = [0,0,0,0,0]\n",
    "survey['Q1 numeric'] = pd.to_numeric(survey['Question 1'].replace( ['Excellent','Very Good', 'Good', 'Fair', 'Poor'], my_values))\n",
    "survey['Q2 numeric'] = pd.to_numeric(survey['Question 2'].replace( ['Excellent','Very Good', 'Good', 'Fair', 'Poor'], my_values))\n",
    "survey['Q3 numeric'] = pd.to_numeric(survey['Question 3'].replace( ['Excellent','Very Good', 'Good', 'Fair', 'Poor'], my_values))\n",
    "survey"
   ]
  },
  {
   "cell_type": "markdown",
   "id": "66cd37f8",
   "metadata": {},
   "source": [
    "Now, you can compute all the summary statistics for this new table!  Below, use `describe()` to see them all."
   ]
  },
  {
   "cell_type": "code",
   "execution_count": 228,
   "id": "1386259e",
   "metadata": {},
   "outputs": [],
   "source": [
    "# Write your code here"
   ]
  },
  {
   "cell_type": "markdown",
   "id": "f38a3a66",
   "metadata": {},
   "source": [
    "In the cells below, use seaborn to separately generate a histogram for *Question 2* and for *Q2 numeric*.  Use the argument `bins=5` to make it look nicer. How are they different?  Which do you think would be more helpful for understanding the overall sentiment?\n",
    "\n",
    "[ Write your answer here]\n"
   ]
  },
  {
   "cell_type": "code",
   "execution_count": null,
   "id": "75e22889",
   "metadata": {},
   "outputs": [],
   "source": [
    "# Write your code here"
   ]
  },
  {
   "cell_type": "code",
   "execution_count": null,
   "id": "18046f51",
   "metadata": {},
   "outputs": [],
   "source": [
    "# Write your code here"
   ]
  },
  {
   "cell_type": "markdown",
   "id": "0d38013c",
   "metadata": {},
   "source": [
    "And also write the code to use seaborn to show box plots of your numeric columns. "
   ]
  },
  {
   "cell_type": "code",
   "execution_count": 229,
   "id": "d55c257a",
   "metadata": {},
   "outputs": [],
   "source": [
    "# Write you code here"
   ]
  },
  {
   "cell_type": "markdown",
   "id": "2b1782e3",
   "metadata": {},
   "source": [
    "What do you notice about the box plots for the 3 questions?  Is anything missing?  What do you think is going on?\n",
    "\n",
    "[ Write your answers here ]"
   ]
  },
  {
   "cell_type": "markdown",
   "id": "19290062",
   "metadata": {},
   "source": [
    "Sometimes, people add an indicator of the mean to box plots.  In seaborn, you can do that by adding the argument `showmeans=True`.  Do that below; do you think it make the box plots more useful?  "
   ]
  },
  {
   "cell_type": "code",
   "execution_count": 230,
   "id": "0296032d",
   "metadata": {},
   "outputs": [],
   "source": [
    "# Write your code here"
   ]
  },
  {
   "cell_type": "markdown",
   "id": "8254dd2b",
   "metadata": {},
   "source": [
    "The spacing between the numeric values assigned to categorical responses doesn't necessarily all have to be uniform.  For example, a company might decide that jump from a 'Poor' rating and a 'Fair' rating is different than from 'Good' to 'Very Good'.  Some universities do this when calculating GPA to exaggerate the step between an F and a D.\n",
    "\n",
    "If you were to re-assign new values to the reponses that made the difference between 'Poor' and 'Fair' twice as large as the differences between all the other responses, what would that do to the results?  How would the box plots change?  How would the other summary statistics change?\n",
    "\n",
    "[ Write your answer here ]"
   ]
  },
  {
   "cell_type": "markdown",
   "id": "bcffb193-5035-4354-ad09-640f041e136c",
   "metadata": {},
   "source": [
    "## Problem 2: Python programming practice for summary statistics (15 mins)\n",
    "Here are some problems to help you practice your Python programming skills.\n",
    "\n",
    "Write code to compute each of the summary statistics for a list of numbers.  Those functions already exist in packages you could import, but try to write your own!  We've done the first one for you."
   ]
  },
  {
   "cell_type": "code",
   "execution_count": null,
   "id": "271fdd02",
   "metadata": {},
   "outputs": [],
   "source": [
    "test_list = [ 7, 5, 6, 8, 9, 7]"
   ]
  },
  {
   "cell_type": "code",
   "execution_count": null,
   "id": "76a18ae3-be1b-4292-b144-4ecbba9fdc16",
   "metadata": {},
   "outputs": [],
   "source": [
    "my_mean = sum(test_list)/len(test_list)"
   ]
  },
  {
   "cell_type": "markdown",
   "id": "159d4ded",
   "metadata": {},
   "source": [
    "range is a pretty easy too.  Add your code below to make it return the range correctly. "
   ]
  },
  {
   "cell_type": "code",
   "execution_count": null,
   "id": "50f4eead",
   "metadata": {},
   "outputs": [],
   "source": [
    "# replace ... with your code\n",
    "my_range = ..."
   ]
  },
  {
   "cell_type": "markdown",
   "id": "bf240bd1",
   "metadata": {},
   "source": [
    "Standard deviation is a little more involved, but pretty straightforward if you loop through the elements of the list."
   ]
  },
  {
   "cell_type": "code",
   "execution_count": null,
   "id": "f70ea51a",
   "metadata": {},
   "outputs": [],
   "source": [
    "my_std = 0\n",
    "# replace ... with your code\n",
    "..."
   ]
  },
  {
   "cell_type": "markdown",
   "id": "9007e202",
   "metadata": {},
   "source": [
    "As you know, median requires the values be sorted.  Luckily, Python has a function named `sorted()` that takes a list as its argument and returns a sorted list.  We started you off with code for that."
   ]
  },
  {
   "cell_type": "code",
   "execution_count": null,
   "id": "3e7b553e",
   "metadata": {},
   "outputs": [],
   "source": [
    "sorted_list = sorted(test_list)\n",
    "# replace ... with your code\n",
    "my_median = ..."
   ]
  },
  {
   "cell_type": "markdown",
   "id": "db9f7adc",
   "metadata": {},
   "source": [
    "Now see if you can do the interquartile range (which also requires the list to be sorted, just like median)"
   ]
  },
  {
   "cell_type": "code",
   "execution_count": null,
   "id": "32f7ee89",
   "metadata": {},
   "outputs": [],
   "source": [
    "sorted_list = sorted(test_list)    \n",
    "# replace ... with your code\n",
    "my_IQR = ..."
   ]
  },
  {
   "cell_type": "markdown",
   "id": "062d2e75",
   "metadata": {},
   "source": [
    "Mode is by far the trickiest to implement, because it needs to return a list since there can be more than 1 mode.  There are many ways to implement mode.  One thing that might be useful is a list of the unique elements, so you can loop over that list and count how many times each element appears in the original list.  You can always write your own function to get the unique elements from a list if you like, but there is a quick way to do it using a built-in Python type called `set` that we haven't learned about.  You can convert your list to a 'set', then convert the result back to a 'list', and it will have only the unique elements!  We've provided the code in the my_mode() fuction for you, but first see what happens when you convert `test_list` to a set by running the cell below."
   ]
  },
  {
   "cell_type": "code",
   "execution_count": null,
   "id": "d4be55fa",
   "metadata": {},
   "outputs": [],
   "source": [
    "list(set(test_list))"
   ]
  },
  {
   "cell_type": "code",
   "execution_count": null,
   "id": "06b4e75e",
   "metadata": {},
   "outputs": [],
   "source": [
    "my_mode = []\n",
    "unique_list = list(set(test_list))\n",
    "# replace ... with your code\n",
    "..."
   ]
  },
  {
   "cell_type": "markdown",
   "id": "64bddd34-ceb0-4273-a299-a4cc77e7d7a3",
   "metadata": {},
   "source": [
    "## Problem 3: Probability (10 mins)\n",
    "\n",
    "A street vendor asks you if you'd like to play a game.  The game is:\n",
    "* pay \\$10 to roll a 6-sided die 3 times\n",
    "* if any of those rolls is a 6 he pays you $11.\n",
    "\n",
    "In HW4, you deal with a fair die for this game. Now, imagine using a biased die that has 2/6 probability of rolling a 6 in each roll."
   ]
  },
  {
   "cell_type": "markdown",
   "id": "e3dc0bee-f18a-4d52-a900-a8472c728b72",
   "metadata": {},
   "source": [
    "What are your chances of rolling at least one 6 in a game if the dice were biased?\n",
    "\n",
    "*[Write your result here]*"
   ]
  },
  {
   "cell_type": "markdown",
   "id": "8202aa44-c911-4dd0-9ada-292906cfdee5",
   "metadata": {},
   "source": [
    "What are your chances of winning the game given that the first roll is not a 6?\n",
    "\n",
    "*[Write your result here]*"
   ]
  },
  {
   "cell_type": "markdown",
   "id": "0d58329e-0de1-4020-b3e3-f3620a556280",
   "metadata": {},
   "source": [
    "What is the expected value of your profit or loss if you play the game once?\n",
    "\n",
    "*[Write your result here]*"
   ]
  },
  {
   "cell_type": "markdown",
   "id": "eec5c69c-b0f3-4fcb-8f44-166783057662",
   "metadata": {},
   "source": [
    "## Bonus: Probability problems you should be able to solve\n",
    "\n",
    "Write the answers, but also include strategies to help friends study for these types of questions."
   ]
  },
  {
   "cell_type": "markdown",
   "id": "9268ea07-6530-465d-b2df-c39d46daadb9",
   "metadata": {},
   "source": [
    "Probability of flipping 5 tails in 5 tries with a fair coin.\n",
    "\n",
    "*[Write your result here]*\n",
    "\n",
    "*[Strategy]*"
   ]
  },
  {
   "cell_type": "markdown",
   "id": "e811d71e-bc28-428a-898c-a108681ef318",
   "metadata": {},
   "source": [
    "Probability of drawing 3 cards, and all of them are spades.\n",
    "\n",
    "*[Write your result here]*\n",
    "\n",
    "*[Strategy]*"
   ]
  },
  {
   "cell_type": "markdown",
   "id": "8eafce84-0282-4e3c-b9d5-096b3ad53f7d",
   "metadata": {},
   "source": [
    "Probability of not rolling any 6 when rolling 3 times.\n",
    "\n",
    "*[Write your result here]*\n",
    "\n",
    "*[Strategy]*"
   ]
  },
  {
   "cell_type": "markdown",
   "id": "499a2047-7917-4a79-b644-bea797617e00",
   "metadata": {},
   "source": [
    "Probability of rolling at least one 3 when rolling 4 times.\n",
    "\n",
    "*[Write your result here]*\n",
    "\n",
    "*[Strategy]*"
   ]
  },
  {
   "cell_type": "markdown",
   "id": "9ba07b4b-db37-4400-b044-a9ae78849731",
   "metadata": {},
   "source": [
    "Probability of rolling a total of 39 when rolling two 20-sided dice.\n",
    "\n",
    "*[Write your result here]*\n",
    "\n",
    "*[Strategy]*"
   ]
  },
  {
   "cell_type": "markdown",
   "id": "40c8fbb4-f7d7-43ed-ab77-bd12490b5736",
   "metadata": {},
   "source": [
    "Expected total when rolling two 6-sided dice.\n",
    "\n",
    "*[Write your result here]*\n",
    "\n",
    "*[Strategy]*"
   ]
  }
 ],
 "metadata": {
  "kernelspec": {
   "display_name": "Python 3 (ipykernel)",
   "language": "python",
   "name": "python3"
  },
  "language_info": {
   "codemirror_mode": {
    "name": "ipython",
    "version": 3
   },
   "file_extension": ".py",
   "mimetype": "text/x-python",
   "name": "python",
   "nbconvert_exporter": "python",
   "pygments_lexer": "ipython3",
   "version": "3.10.10"
  }
 },
 "nbformat": 4,
 "nbformat_minor": 5
}
