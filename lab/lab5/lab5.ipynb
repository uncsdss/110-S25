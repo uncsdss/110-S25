{
 "cells": [
  {
   "cell_type": "markdown",
   "id": "689b7c13-31f2-4113-86a3-2bc5fe8d61c0",
   "metadata": {},
   "source": [
    "# Your name and your onyen\n",
    "\n",
    "Classmates you worked with today:\n",
    "\n",
    "1. name\n",
    "2. name\n",
    "3. name\n",
    "\n",
    "\n",
    "**Submission instruction**: Please create a `pdf` via File -> Print (or cmd + P on mac), and upload it to Gradescope. Only manual grading and no autograder.\n"
   ]
  },
  {
   "cell_type": "markdown",
   "id": "99c84be4-4dac-4907-9355-0babc8e6ff43",
   "metadata": {},
   "source": [
    "# Part 1. Time series data \n",
    "\n",
    "## 1-1. Loading and preparing data (5 minutes)\n",
    "\n",
    "We have downloaded the monthly unemployment rate from the U.S. Bureu of Labor Statistics (http://data.bls.gov/dataViewer/view/timeseries/LNU04000000) for you today. I defined a new function named `clean_data` for you. You don't need to memorize the syntax of defining a new function (not covered in DATA 110), but you should know how to *call* a function already defined.\n"
   ]
  },
  {
   "cell_type": "code",
   "execution_count": null,
   "id": "dc5f0567-b057-4a82-9d0c-5aa5face7084",
   "metadata": {},
   "outputs": [],
   "source": [
    "import pandas as pd\n",
    "import seaborn as sns\n",
    "import matplotlib.pyplot as plt"
   ]
  },
  {
   "cell_type": "code",
   "execution_count": null,
   "id": "295b56c7-5455-419b-9a03-9a6926c89c13",
   "metadata": {},
   "outputs": [],
   "source": [
    "def clean_data(file_name):\n",
    "    # read csv file into pandas table\n",
    "    unemployment = pd.read_csv(file_name)\n",
    "    # drop irrelevant column\n",
    "    unemployment = unemployment.drop(columns=['Series ID'])\n",
    "    # rename columns (I don't expect you to know how to do this)\n",
    "    unemployment = unemployment.rename(columns={'Label': 'Time', 'Value': 'Rate','Period':'Month'})\n",
    "    # change data type of Time to datetime from string\n",
    "    unemployment['Time'] = pd.to_datetime(unemployment['Time'], format='%Y %b')\n",
    "    # change data type of Rate to float from string\n",
    "    unemployment['Rate'] = unemployment['Rate'].astype(float)\n",
    "    # change Month column from something that looks like 'M01' to 1. \n",
    "    unemployment['Month'] = unemployment.Month.str.slice(1).astype(int)\n",
    "\n",
    "    return unemployment"
   ]
  },
  {
   "cell_type": "code",
   "execution_count": null,
   "id": "51705bde-77b8-4969-9112-2ffd9d88bbab",
   "metadata": {},
   "outputs": [],
   "source": [
    "# call the function defined earlier on csv file 'unemployment_unadj.csv'\n",
    "\n",
    "unemployment = clean_data('unemployment_unadj.csv') \n",
    "unemployment"
   ]
  },
  {
   "cell_type": "markdown",
   "id": "bcffb193-5035-4354-ad09-640f041e136c",
   "metadata": {},
   "source": [
    "**Q**: To see the overall trend, make the following plot:\n",
    "\n",
    "![trend.png](trend.png)\n",
    "\n",
    "You can do that by plugging in the appropriate parameters in the following line of code:\n",
    "\n",
    "```Python\n",
    "sns.lineplot(data=..., x=... , y=...)\n",
    "```"
   ]
  },
  {
   "cell_type": "code",
   "execution_count": null,
   "id": "76a18ae3-be1b-4292-b144-4ecbba9fdc16",
   "metadata": {},
   "outputs": [],
   "source": [
    "# complete the code and run it here\n"
   ]
  },
  {
   "cell_type": "markdown",
   "id": "c439a748-5501-49ba-880e-65edb9f2475c",
   "metadata": {},
   "source": [
    "**Q**: Do you observe any trends? Any peaks? Any cycles? If so, how many? And approximately how many years does each cycle last? No calculation or code needed. There are multiple valid answers. Don't spend more than 1~2 minutes on this question.\n",
    "\n",
    "[Write your answer here]"
   ]
  },
  {
   "cell_type": "markdown",
   "id": "5455885d-8fd2-447a-8603-33b378b6c7ca",
   "metadata": {},
   "source": [
    "**Q**: Next, can you write 1~2 lines of code that only plots the unemployment rates from the past decade, i.e. 2014-2023? My solution uses boolean indexing. Do you observe anything interesting from this plot?\n",
    "\n",
    "[Write your answer here]"
   ]
  },
  {
   "cell_type": "code",
   "execution_count": null,
   "id": "6c6533e0-4c15-4250-8656-4288017f2251",
   "metadata": {},
   "outputs": [],
   "source": [
    "# Write and run your code here\n"
   ]
  },
  {
   "cell_type": "markdown",
   "id": "a1c030e3-2aa6-4dad-9944-1f57f0527cbe",
   "metadata": {},
   "source": [
    "## 1-2. Seasonality (10 minutes)"
   ]
  },
  {
   "cell_type": "markdown",
   "id": "0ad286d4-0411-4b32-8971-18f519b5fb7b",
   "metadata": {},
   "source": [
    "Seasonality refers to regular trends that occur every calendar year (or at shorter intervals). For example, you would observe seasonal trends in ice cream sale, electricity usage, number of Google searches about college basketball, traffic at Franklin st, etc. Does unemployment rate have seasonal trends as well?\n",
    "\n",
    "**Q**: To see the monthly trends, copy paste and run the following code:\n",
    "\n",
    "```Python\n",
    "sns.lineplot(data=unemployment, x='Month', y='Rate', hue='Year')\n",
    "```"
   ]
  },
  {
   "cell_type": "code",
   "execution_count": null,
   "id": "20a2b173-78ef-485c-8331-25e690e54b8d",
   "metadata": {},
   "outputs": [],
   "source": [
    "# Copy paste and run the code here\n",
    "\n"
   ]
  },
  {
   "cell_type": "markdown",
   "id": "30172530-8393-4310-9e37-9eaccd61694f",
   "metadata": {},
   "source": [
    "**Q**: Hmm, this seems a little cluttered. Let's try this:\n",
    "\n",
    "```Python\n",
    "sns.lineplot(data=unemployment, x='Month', y='Rate')\n",
    "```\n",
    "\n",
    "When presented with multiple lines of data (in this case, each line = one year), seaborn automatically takes the **average** of those lines. Therefore that dark blue solid line is the monthly unemployment rate averaged over the years. \n",
    "\n",
    "The light blue area around the line represents the **level of uncertainty or randomness**. We'll discuss this concept (confidence intervals and standard deviations) at a later time, but for now, just think of it this way: thin light blue band around the line = super sure about the blue line being a good representation of the data across the years, thick band = not so sure, things really depend on the year."
   ]
  },
  {
   "cell_type": "code",
   "execution_count": null,
   "id": "d300c8c7-4cef-4c68-8237-fff9028df342",
   "metadata": {},
   "outputs": [],
   "source": [
    "# Copy paste and run the code here\n"
   ]
  },
  {
   "cell_type": "markdown",
   "id": "c91d12b5-0fbb-4129-9711-fb4e6f4345c9",
   "metadata": {},
   "source": [
    "**Q**: Using pandas operations, how would you calculate the numbers in the dark blue line, i.e. unemployment rate averaged over the years? \n",
    "\n",
    "**Hint**: Use `Groupby`! Test your code by plotting your answer and comparing it against the blue line above."
   ]
  },
  {
   "cell_type": "code",
   "execution_count": null,
   "id": "4a29b14e-741b-4135-badc-b79171df18fe",
   "metadata": {},
   "outputs": [],
   "source": []
  },
  {
   "cell_type": "markdown",
   "id": "b69c5221-5c97-40d8-93ea-22d0de679d7f",
   "metadata": {},
   "source": [
    "**Q**:Do you observe any seasonal trends? Do you have any guesses on why or why not?\n",
    "\n",
    "[Write your answer here]"
   ]
  },
  {
   "cell_type": "markdown",
   "id": "edd6773f-7811-4c72-ab8e-841eb3ee1341",
   "metadata": {},
   "source": [
    "## 1-3. Discussion led by TA (5 minutes)\n",
    "\n",
    "**Q**: Write 1~2 sentences about what you dicussed as a class.\n",
    "\n",
    "[Write your answer here]"
   ]
  },
  {
   "cell_type": "markdown",
   "id": "33e41d7f-0f5a-4c44-abf4-f2882b595c98",
   "metadata": {},
   "source": [
    "## 1.4. Seasonally adjusted numbers (5 minutes)\n",
    "\n",
    "This is why the government also releases **seasonally adjusted numbers**. This means that for every January number, they subtracted the average January rate, and for every February number, they subtracted the average February rate, and so on. This allows people to understand the unemployment rate in the context of the given month. \n",
    "\n",
    "I've downloaded that for you in a file called `unemployment_season.csv`. \n",
    "\n",
    "**Q**: Write two lines of code below that \n",
    "\n",
    "1. calls the earlier defined function `clean_data` on this new file and saves the returned table to a variable called `unemployment_adj`.\n",
    "2. creates a lineplot across `Time` to see the overall trend in this new table."
   ]
  },
  {
   "cell_type": "code",
   "execution_count": null,
   "id": "d1eca6d9-dd76-4fdf-a04e-ccdc1299f5a4",
   "metadata": {},
   "outputs": [],
   "source": []
  },
  {
   "cell_type": "markdown",
   "id": "3d1dc248-46e2-49f9-8f07-cbb7d1cbe992",
   "metadata": {},
   "source": [
    "**Q**: Compare this new plot with the first lineplot from the unadjusted unemployment rates. Do you observe any difference?\n",
    "\n",
    "[Write your answer here]"
   ]
  },
  {
   "cell_type": "markdown",
   "id": "85bab9f9-b6c0-4781-bcce-7c7067e1e8b2",
   "metadata": {},
   "source": [
    "**Q**: Finally, \"zoom in\" to the most recent decade like you did earlier. You should be able to do so by copy pasting your code and swapping out the table names. What difference do you notice?\n",
    "\n",
    "[Write your answer here]"
   ]
  },
  {
   "cell_type": "code",
   "execution_count": null,
   "id": "cfcc064a-79d1-4ee4-b5c8-cd8b4e909604",
   "metadata": {},
   "outputs": [],
   "source": []
  },
  {
   "cell_type": "markdown",
   "id": "b37b90b0-6ca4-4cb0-8b4b-ab9236faae3f",
   "metadata": {},
   "source": [
    "### Bonus: Adding text labels\n",
    "\n",
    "You can add text to your lineplot using the code below. Just sandwich your two lines where the ... are.\n",
    "\n",
    "```Python\n",
    "fig, ax = plt.subplots(1)\n",
    "...\n",
    "...\n",
    "ax.text(x= pd.to_datetime('2020-06-01'), y=14, s='RIP', fontsize=18)\n",
    "```\n",
    "Looks like the spike in unemployment rate from COVID can't be explained away by seasonality :(\n",
    "\n",
    "\n",
    "![rip_covid.png](rip_covid.png)"
   ]
  },
  {
   "cell_type": "code",
   "execution_count": null,
   "id": "9af78912-edfe-42b5-bf94-0ace5465170b",
   "metadata": {},
   "outputs": [],
   "source": []
  },
  {
   "cell_type": "markdown",
   "id": "cd3caea5-9027-4d61-a5c0-acba84f52075",
   "metadata": {},
   "source": [
    "# 2. Part 2: Matplotlib\n",
    "\n",
    "This week in lectures, we discussed how to use `seaborn` to visualize table data. As mentioned in the beginning, `seaborn` is a powerful tool that can get us very beautiful plots easily, but it can also be difficut to customize plots to 100% our liking. That's why today we are going over some important `matplotlib` functions and parameters that can be used in conjunction with `seaborn`."
   ]
  },
  {
   "cell_type": "code",
   "execution_count": null,
   "id": "541c7514-1431-4a07-91bb-07dc944192c6",
   "metadata": {},
   "outputs": [],
   "source": [
    "# Run this cell\n",
    "\n",
    "import pandas as pd\n",
    "import seaborn as sns\n",
    "import matplotlib.pyplot as plt"
   ]
  },
  {
   "cell_type": "markdown",
   "id": "94f593a4-2fb6-4087-a633-c76a1e39dd06",
   "metadata": {},
   "source": [
    "## 2-1. Figures and axes (5 minutes)\n",
    "\n",
    "These two images from the [ListenData matplotlib tutorial](https://www.listendata.com/2019/06/matplotlib-tutorial-learn-plot-python.html) summarize the most important elements of a Matplotlib figure (remember that seaborn uses matplotlib behind the scenes).\n",
    "\n",
    "\n",
    "![Matplotlib figure elements](https://blogger.googleusercontent.com/img/b/R29vZ2xl/AVvXsEj-ZStrYVLlanGuxuDmk_m2W8oXCIH-ueK9cgORQC_oY9_YwAkxf4npj2GbupXFaroy0s05fc2naWUsoF8J6R-A1pzKvsIKNn_ZmfYQqHKsVfmc0gVM2jcH6ZCb4ykO0H847mWyCYctwy0C/s1600/basics_matplotlib.PNG)\n",
    "\n",
    "- A **figure** is the overall space in which visualizations may be created. Think of it as a canvas for your painting.\n",
    "- An **axis** is the x- or y- axis along which the values occur.\n",
    "    - It may have a text **label** that describes what type of values are occurring along that direction.\n",
    "    - It may have **ticks** that mark spots on the axis. These ticks may have corresponding **tick labels**.\n",
    "- An **axes** is a single visualization (i.e. \"a plot\") containing both x- and y-axis.\n",
    "    - It may contain a **title**.\n",
    "    - Figures can contain one or more axes (just like you can have multiple drawings and paintings on one canvas). See the image below.\n",
    "\n",
    "![Subplots](https://blogger.googleusercontent.com/img/b/R29vZ2xl/AVvXsEhUh6lQj_vTkc0aoAnNVLuD-mmFNmn24dCj9hoPtdeABBnw4gPR0DNW-sYGLDQhIKJiTgU7bIbaAfMPXVXCF1qa6bBKxNGpMKKSc-cvAASK7Dk9wKFvQta2qn3G_5HLi9myL4LbFHQDqTEd/s1600/figure_axes.PNG)\n",
    "\n"
   ]
  },
  {
   "cell_type": "markdown",
   "id": "e84b05c9-520e-4515-9f3e-46cfbb5b11a2",
   "metadata": {},
   "source": [
    "Here is how you make a figure and *an* axes.\n",
    "\n",
    "```Python\n",
    "fig, ax = plt.subplots(1)\n",
    "```"
   ]
  },
  {
   "cell_type": "code",
   "execution_count": null,
   "id": "d8daca21-c2e8-49cb-85df-f6ba8afaf3b8",
   "metadata": {},
   "outputs": [],
   "source": [
    "# Copy and run the code here\n"
   ]
  },
  {
   "cell_type": "markdown",
   "id": "e95e7511-33f8-46cb-9753-b466407cfff7",
   "metadata": {},
   "source": [
    "Specify the figure dimension (width, height) in inches with parameter `figsize`.\n",
    "\n",
    "```Python\n",
    "fig, ax = plt.subplots(1, figsize=(5,3))\n",
    "fig, ax = plt.subplots(1, figsize=(12,8))\n",
    "```\n",
    "\n",
    "**Q**: Do you notice anything different about the size of the box as well as the fontsizes? "
   ]
  },
  {
   "cell_type": "code",
   "execution_count": null,
   "id": "1aa6a381-8a23-4cf5-b021-87bb0bb640bd",
   "metadata": {},
   "outputs": [],
   "source": [
    "# Copy and run the code here\n"
   ]
  },
  {
   "cell_type": "markdown",
   "id": "5576d41f-888b-40aa-92f5-555cff7aa6b4",
   "metadata": {},
   "source": [
    "## 2-2. Combining axes with seaborn (15 minutes)\n",
    "\n",
    "This is actually fairly simple.\n",
    "1. Create a matplotlib axes. This is equivalent to telling seaborn that this is the canvas we're now working with.\n",
    "2. Run seaborn plotting functions.\n",
    "3. Update parameters of the axes.\n",
    "\n",
    "Here is an example that creates a figure only for the purpose of demonstration:\n",
    "\n",
    "```Python\n",
    "fig, ax = plt.subplots(1, figsize=(8,8))\n",
    "sns.scatterplot(data=penguins, \n",
    "                x='Body Mass (g)', \n",
    "                y='Flipper Length (mm)',\n",
    "               color = '#056412',\n",
    "               marker= 'x')\n",
    "\n",
    "ax.set_title('Palmer Penguins', fontsize=20)\n",
    "ax.set_ylabel('Flipper Length (cm)', fontsize=16)\n",
    "ax.set_xlabel('Body Mass (kg)', fontsize=16)\n",
    "\n",
    "ax.set_xticks([3000, 4000, 5000, 6000])\n",
    "ax.set_xticklabels([3,4,5,6])\n",
    "\n",
    "ax.set_yticks([160, 180, 200, 220, 240])\n",
    "ax.set_yticklabels([16, 18, 20, 22, 24])\n",
    "```\n",
    "\n",
    "Compare it with the default plot you get with\n",
    "```Python\n",
    "sns.scatterplot(data=penguins, \n",
    "                x='Body Mass (g)', \n",
    "                y='Flipper Length (mm)')\n",
    "```\n",
    "\n",
    "**Q**: Can you figure out what each of the added code does?\n",
    "- In particular, what does `alpha` do? Hint: It must be a float between 0 and 1.\n",
    "\n",
    "**Hint**: \n",
    "Helpful links:\n",
    "- [List of parameters](https://seaborn.pydata.org/generated/seaborn.scatterplot.html) accepted by seaborn scatterplot\n",
    "- [Additional list of matplotlib parameters](https://matplotlib.org/stable/api/_as_gen/matplotlib.axes.Axes.scatter.html#matplotlib.axes.Axes.scatter) that are also accepted by seaborn scatterplot\n",
    "- [List of markers](https://matplotlib.org/stable/api/markers_api.html#module-matplotlib.markers)\n",
    "\n",
    "\n",
    "**Remark**: An important note on colors:\n",
    "- There are [many ways to specify colors](https://matplotlib.org/stable/users/explain/colors/colors.html#color-formats) for matplotlib. For example, you can provide a hex color code such as `'#056412'`.\n",
    "- When choosing colors, it is adivsable to use color palettes that are accessible to those with color blindness. See resources on this topic such as [this](https://www.nceas.ucsb.edu/sites/default/files/2022-06/Colorblind%20Safe%20Color%20Schemes.pdf) and [this](https://davidmathlogic.com/colorblind/).\n"
   ]
  },
  {
   "cell_type": "code",
   "execution_count": null,
   "id": "86641739-4646-4412-aa81-7d3b6470e93f",
   "metadata": {},
   "outputs": [],
   "source": [
    "# run this cell\n",
    "\n",
    "penguins = pd.read_csv('~/110-S25/demos/palmer_penguins.csv')\n",
    "penguins = penguins.dropna(subset=['Culmen Length (mm)', 'Culmen Depth (mm)'])"
   ]
  },
  {
   "cell_type": "code",
   "execution_count": null,
   "id": "1a5f635d-2a82-4e33-b8d4-0e5ee78345b9",
   "metadata": {},
   "outputs": [],
   "source": [
    "# Copy and run the code here\n"
   ]
  },
  {
   "cell_type": "code",
   "execution_count": null,
   "id": "5e863a20-cc0d-49c9-a793-32643e43ab5d",
   "metadata": {},
   "outputs": [],
   "source": [
    "# Copy and run the code here\n"
   ]
  },
  {
   "cell_type": "markdown",
   "id": "c1f93176-45e6-487f-b5a3-af8fc74d7fcf",
   "metadata": {},
   "source": [
    "## 2-3: Saving your figure (5 minutes)\n",
    "\n",
    "Last step is saving your plot as a file! This is where you get to use `fig`.\n",
    "\n",
    "```Python\n",
    "fig.savefig('penguins-scatter.png') \n",
    "```\n",
    "\n",
    "Whether you want `jpg` vs `png` images depends on the situation. `png` contains more information than `jpg` and therefore can be considered higher quality, but `jpg` files are smaller and will therefore load faster on a website.\n",
    "\n",
    "No need to submit this file to Gradescope."
   ]
  },
  {
   "cell_type": "code",
   "execution_count": null,
   "id": "36883f87-110b-4d8f-8d29-daca4ce25655",
   "metadata": {},
   "outputs": [],
   "source": [
    "# Copy and run the code here\n",
    "\n"
   ]
  },
  {
   "cell_type": "markdown",
   "id": "ee2f75d7-d8f7-4df7-ac96-a72126ff9d09",
   "metadata": {},
   "source": [
    "# Bonus: Extra practice \n",
    "\n",
    "Run the following cell, then try making 3 scatter plots for each pair of numerical columns. \n",
    "\n",
    "\n",
    "**Q**: Do you notice any interesting associations? We expect you to find one."
   ]
  },
  {
   "cell_type": "code",
   "execution_count": null,
   "id": "0d288db9-f544-4301-9cb3-eff155f55182",
   "metadata": {},
   "outputs": [],
   "source": [
    "# copied from lab4\n",
    "\n",
    "flame_df = pd.read_csv('~/110-S25/lab/lab4/fire_swamp_flame_spurt.csv')\n",
    "\n",
    "flame_df['size']='medium'\n",
    "flame_df.loc[flame_df['height']>35,'size']='large'\n",
    "flame_df.loc[flame_df['height']<15,'size']='small'\n",
    "\n",
    "flame_df.head()\n"
   ]
  },
  {
   "cell_type": "code",
   "execution_count": null,
   "id": "004ea5d8-0309-4098-9ff9-bd41dbbe2610",
   "metadata": {},
   "outputs": [],
   "source": []
  },
  {
   "cell_type": "code",
   "execution_count": null,
   "id": "3b43bd1b-b343-45e7-b96e-b4649a8ca8f3",
   "metadata": {},
   "outputs": [],
   "source": []
  },
  {
   "cell_type": "code",
   "execution_count": null,
   "id": "b703042c-d151-4fc5-b886-6f93b8e8ce33",
   "metadata": {},
   "outputs": [],
   "source": []
  }
 ],
 "metadata": {
  "kernelspec": {
   "display_name": "Python 3 (ipykernel)",
   "language": "python",
   "name": "python3"
  },
  "language_info": {
   "codemirror_mode": {
    "name": "ipython",
    "version": 3
   },
   "file_extension": ".py",
   "mimetype": "text/x-python",
   "name": "python",
   "nbconvert_exporter": "python",
   "pygments_lexer": "ipython3",
   "version": "3.11.8"
  }
 },
 "nbformat": 4,
 "nbformat_minor": 5
}
