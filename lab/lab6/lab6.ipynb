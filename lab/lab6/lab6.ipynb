{
 "cells": [
  {
   "cell_type": "markdown",
   "id": "689b7c13-31f2-4113-86a3-2bc5fe8d61c0",
   "metadata": {
    "jp-MarkdownHeadingCollapsed": true
   },
   "source": [
    "# Your name and your onyen\n",
    "\n",
    "Classmates you worked with today:\n",
    "\n",
    "1. name\n",
    "2. name\n",
    "3. name\n",
    "\n",
    "\n",
    "**Submission instruction**: Please create a `pdf` via File -> Print (or cmd + P on mac), and upload it to Gradescope. No autograder since there are many correct ways to approach this question. You are **not** required to finish the entire worksheet provided that you were actively engaged during the entire class period. As long as you've collaborated, put in good effort and made **reasonable progress** during the lab period, you can expect to get full credit. So even if you decide to finish it at home, please submit what you have by the end of 50 minutes to make sure you get credit! "
   ]
  },
  {
   "cell_type": "markdown",
   "id": "99c84be4-4dac-4907-9355-0babc8e6ff43",
   "metadata": {},
   "source": [
    "#  Lab 6:  Probability\n",
    "\n",
    "\n"
   ]
  },
  {
   "cell_type": "markdown",
   "id": "34db1eeb",
   "metadata": {},
   "source": [
    "## Problem 1: Gambler's Fallacy (25 minutes)\n",
    "\n",
    "### Part 1: Gambler's Fallacy (15 minutes)\n",
    "Read all instructions in this cell before starting!\n",
    "\n",
    "First, you'll need to work in groups of 4 for this.  Every group will need:\n",
    "* At least 1 coin\n",
    "* 3 sheets of paper\n",
    "* 4 pens or pencils\n",
    "\n",
    "Two of you will be recording actual coin flips.  On one sheet of paper, one of you write down either 'H' or 'T' while the other does at least 20 coin flips. Then switch who is recording and who is writing.  You should end up with 2 sequences 20 long that look like 'HTTHT...'  \n",
    "During this time, the other two people will each write down 2 series of at least 20 simulated coin flips by writing down 'H' or 'T' as they choose.  Each series of 20 should look like 'THTTHH...'\n",
    "\n",
    "When you are finished, your team should have 3 sheets of paper, each with 2 series of 20 \"flip\" results (1 paper with true flips, the other 2 papers with made up flips).  Be sure to remember which paper has the actual flips.\n",
    "\n",
    "Once you are done, ask the TAs to look at your papers and guess which is the real flips.  Then exchange your papers with other groups and have them try to guess which paper has the real flips.\n",
    "\n",
    "Record below the results (correct or incorrect) of the TA guess and at least 4 other guesses from other teams.\n",
    "\n"
   ]
  },
  {
   "cell_type": "markdown",
   "id": "2ff3e269",
   "metadata": {},
   "source": [
    "**Results**\n",
    "\n",
    "*[Record your results here]*\n",
    "\n",
    "TA guess: \n",
    "\n",
    "Other team 1 guess:\n",
    "\n",
    "Other team 2 guess:\n",
    "\n",
    "Other team 3 guess:\n",
    "\n",
    "Other team 4 guess:\n"
   ]
  },
  {
   "cell_type": "markdown",
   "id": "1bffad30",
   "metadata": {
    "jp-MarkdownHeadingCollapsed": true
   },
   "source": [
    "### Part 2: Gambler's Fallacy (10 minutes)\n",
    "The TA will lead a discussion of Gambler's fallacy.  Please participate! \n",
    "\n",
    "![](gamblersfallacy.jpg)\n",
    "\n"
   ]
  },
  {
   "cell_type": "markdown",
   "id": "55400cfd",
   "metadata": {},
   "source": [
    "## Problem 2: Monty Hall Problem (25 minutes)\n",
    "\n",
    "### Part 1: Discussion Led by the TA (10 minutes)\n",
    "\n",
    "*[Wait for discussion as a class]*\n",
    "\n",
    "\n",
    "### Part 2: *Let's Make a Deal!*  The Monty Hall Problem (15 minutes)\n",
    "The Monty Hall problem can be confusing and non-intuitive.  To help everyone wrap their head around it better, you're going to \"play\" the game a couple different ways.  First, there is a great website that let's you play,  with cute graphical goats and everything!  And it keeps track of your results (nice plot!), which you'll report below. You can easily play 20 or 30 times in just a couple minutes, so don't spend more than 5 minutes playing (But the goats! Yes, we know, they're very cute.).\n",
    "\n",
    "https://www.mathwarehouse.com/monty-hall-simulation-online/\n",
    "\n",
    "\n",
    "Record your website play results in the space below, replacing the question marks.  Do your results support with what we learned in lecture?\n",
    "\n",
    "*[Write your results here]*\n",
    "\n",
    "Change Choice-> cars count ?, goats count ?\n",
    "\n",
    "Change Choice-> cars % ?, goats % ?\n",
    "\n",
    "Keep Choice-> cars count ?, goats count ?\n",
    "\n",
    "Keep Choice-> cars % ?, goats % ?\n"
   ]
  },
  {
   "cell_type": "markdown",
   "id": "34b2d863",
   "metadata": {},
   "source": [
    "#### Let's Make a Game!\n",
    "To truly grok the Monty Hall problem, how about we make our own low-budget version of the game in Python! (sorry, no cute goats)\n",
    "\n",
    " The way that you'll be \"playing\" is by executing a series of 4 Python cells in order.  You can play again by executing the cells again, and you can change your door choice in `Cell 2` and switch choice in `Cell 4` each time you play.  Please note that for the \"game\" to function correctly, you'll have to execute all 4 cells in order starting with cell 1.  \n",
    "\n",
    "Copy the code below to `Cell 1` and execute the cell to assign the prize to one of the 3 doors (1-3).\n",
    "\n",
    "```Python\n",
    "import random\n",
    "winning_door=random.choice([1,2,3])\n",
    "```"
   ]
  },
  {
   "cell_type": "code",
   "execution_count": null,
   "id": "ac891160",
   "metadata": {},
   "outputs": [],
   "source": [
    "# Cell 1\n"
   ]
  },
  {
   "cell_type": "markdown",
   "id": "28993958",
   "metadata": {},
   "source": [
    "Next, pick a door (1-3) you think the prize is behind by copying this code to `Cell 2`.  Change `...` to the door number of your choice.  The `assert()` function makes sure you've assigned a valid choice; if you haven't, it will generate an error.\n",
    "```Python\n",
    "chosen_door = ...\n",
    "assert( (chosen_door == 1) | (chosen_door == 2) | (chosen_door == 3))\n",
    "```"
   ]
  },
  {
   "cell_type": "code",
   "execution_count": null,
   "id": "83fdfc2d",
   "metadata": {},
   "outputs": [],
   "source": [
    "# Cell 2\n"
   ]
  },
  {
   "cell_type": "markdown",
   "id": "0489705f",
   "metadata": {},
   "source": [
    "Next, the gameshow host reveals that behind one of the other two doors is a goat (a losing choice).  Copy the rather lengthy code below to `Cell 3` and execute it to see what door was revealed.  (Feel free to read over the code, but don't worry if you don't follow the logic or understand it fully!)\n",
    "```Python\n",
    "# gamehost's logic, figure out which door to reveal\n",
    "doors = [1,2,3]\n",
    "doors.remove(chosen_door)            # can't reveal door the player chose\n",
    "if chosen_door==winning_door:        # if player picked the winning door\n",
    "    reveal_door=random.choice(doors) # reveal either remaining door randomly\n",
    "    doors.remove(reveal_door)        # and offer switch to whatever door is left\n",
    "    switch_door=doors[0]\n",
    "else:                                # if player picked a losing door\n",
    "    doors.remove(winning_door)       # can't reveal the winning door\n",
    "    reveal_door=doors[0]             # so reveal remaining door\n",
    "    switch_door=winning_door         # and offer switch to the winning door\n",
    "print(\"You chose door #\", chosen_door)            \n",
    "print(\"Look!  there is a goat behind door #\", reveal_door, \".  Good thing you didn't pick that one!\")\n",
    "print(\"Would you like to trade your choice for door #\", switch_door,\"?\")\n",
    "```"
   ]
  },
  {
   "cell_type": "code",
   "execution_count": null,
   "id": "ca41b314",
   "metadata": {},
   "outputs": [],
   "source": [
    "# Cell 3\n"
   ]
  },
  {
   "cell_type": "markdown",
   "id": "d8f1f7cc",
   "metadata": {},
   "source": [
    "Finally, decide if you wish to swap doors or not.  Copy the code below to `Cell 4` and  replace `...` to assign `True` or `False` to `trade_decision`, then execute the cell to see if you win or not! \n",
    "```Python\n",
    "trade_decision = ...\n",
    "\n",
    "assert ( (trade_decision == True) | (trade_decision == False))\n",
    "\n",
    "win = False\n",
    "\n",
    "if trade_decision == True:\n",
    "    if switch_door == winning_door:\n",
    "        print(\" Good decision!  You must be a DATA110 student. You win!\")\n",
    "        win = True\n",
    "    else:\n",
    "        print(\" Aw, I guess you should have stuck with your gut.  You lose!\")\n",
    "else:\n",
    "    if chosen_door == winning_door:\n",
    "        print( \"This time following your initial instinct worked. You win!\")\n",
    "        win = True\n",
    "    else:\n",
    "        print( \"Study your statistics some more; you should have switched. You lose!\")\n",
    "```"
   ]
  },
  {
   "cell_type": "code",
   "execution_count": null,
   "id": "672d30fb",
   "metadata": {},
   "outputs": [],
   "source": [
    "# Cell 4\n"
   ]
  },
  {
   "cell_type": "markdown",
   "id": "6426bd66",
   "metadata": {},
   "source": [
    "Try playing the game at least 10 times; make sure you **execute all 4 cells** each time, picking your door and deciding to whether to trade or not.  Record the results (your door choice, whether you switched, and whether you won) of at least 10 plays in the space below.\n",
    "\n",
    "*[Record your results here]*\n",
    "\n",
    "\n"
   ]
  },
  {
   "cell_type": "markdown",
   "id": "b354b95c",
   "metadata": {},
   "source": [
    "#### More data please!\n",
    "Running 10 times isn't really enough to see any trends in the data, such as whether trading doors is beneficial.  So let's figure out a way to \"play\" the game more quickly.\n",
    "\n",
    "If you use the menu option \"Run->Run All Cells\", the effect will be to keep your same door choice and decision whether to switch, but the winning door will randomly change.  The code below will create a table named `results_table` which will keep track of the results for you every time you \"Run->Run All Cells\".  **Note:** pressing the \"double right arrow\" button is different, because that will restart the kernel before running all cells, which will clear all variables including the table we are trying to fill!\n",
    "\n",
    "Copy this code to the cell below and try \"Run->Run All Cells\" a few times. Feel free to also go up to `Cell 2` and `Cell 4` and switch your chosen door and trade decision.\n",
    "\n",
    "```Python\n",
    "import pandas as pd\n",
    "if 'results_table' not in globals():\n",
    "    results_table=pd.DataFrame( \n",
    "        data=[[chosen_door, winning_door, trade_decision, win]], \n",
    "        columns=['chosen door','winning_door','trade decision', 'win']\n",
    "    )\n",
    "else:\n",
    "    results_table.loc[len(results_table)]=[chosen_door, winning_door, trade_decision, win]\n",
    "\n",
    "results_table\n",
    "```"
   ]
  },
  {
   "cell_type": "code",
   "execution_count": null,
   "id": "c92b7ec9",
   "metadata": {},
   "outputs": [],
   "source": [
    "# copy code here"
   ]
  },
  {
   "cell_type": "markdown",
   "id": "532f0cd6",
   "metadata": {},
   "source": [
    "#### Pandas review\n",
    "You'll need to do several runs of \"More data please!\" above in order to do these problems, ideally with `trade_decision` in `Cell 4` not the same for every run, so that `results_table` is filled with interesting data. \n",
    "\n",
    "How would you compute the total number of wins from `results_table`?  How would you compute the percentage of wins?  How would you compute the number of wins when you traded doors?  For when you didn't trade doors?  Write your code to do this in the cell below.\n",
    "\n"
   ]
  },
  {
   "cell_type": "code",
   "execution_count": null,
   "id": "7dc9a79a",
   "metadata": {},
   "outputs": [],
   "source": [
    "# write your code here"
   ]
  },
  {
   "cell_type": "markdown",
   "id": "ffbf652c",
   "metadata": {},
   "source": [
    "Suppose you are wondering if the gameshow truly randomizes which is the winning door.  How would you plot the distribution for the door number of the winning door?  Write your code in the cell below."
   ]
  },
  {
   "cell_type": "code",
   "execution_count": null,
   "id": "7adcddb8",
   "metadata": {},
   "outputs": [],
   "source": [
    "# write your code here"
   ]
  },
  {
   "cell_type": "markdown",
   "id": "59a80369",
   "metadata": {},
   "source": [
    "The following code shows how many times you decided to trade, and the proportion of wins you had for each choice.  Copy the code following code to the cell below, and run it. \n",
    "```Python\n",
    "import seaborn as sns\n",
    "sns.histplot(results_table, x='trade decision', hue='win', multiple=\"stack\")\n",
    "```\n",
    "Do you see any trends?  "
   ]
  },
  {
   "cell_type": "code",
   "execution_count": null,
   "id": "74881c5c",
   "metadata": {},
   "outputs": [],
   "source": [
    "# copy code here"
   ]
  },
  {
   "cell_type": "markdown",
   "id": "a9216169",
   "metadata": {
    "jp-MarkdownHeadingCollapsed": true
   },
   "source": [
    "#### Bonus content - even more data please!\n",
    "\n",
    "If you want to explore the Monty Hall problem even further, you can copy the function defined in the code below into a cell and try calling it.  It is basically the same code as above smushed together, but not \"interactive\".  But the fun thing is, you can call the function in a loop and see the results for huge numbers of runs!\n",
    "```Python\n",
    "import random\n",
    "def lets_make_a_deal(chosen_door, trade_decision):\n",
    "    assert ( (trade_decision == True) | (trade_decision == False))\n",
    "    assert( (chosen_door == 1) | (chosen_door == 2) | (chosen_door == 3))\n",
    "    winning_door = random.choice([1,2,3])\n",
    "    doors = [1,2,3]\n",
    "    doors.remove(chosen_door)            # can't reveal door the player chose\n",
    "    if chosen_door==winning_door:        # if player picked the winning door\n",
    "        reveal_door=random.choice(doors) # reveal either remaining door randomly\n",
    "        doors.remove(reveal_door)        # and offer switch to whatever door is left\n",
    "        switch_door=doors[0]\n",
    "    else:                                # if player picked a losing door\n",
    "        doors.remove(winning_door)       # can't reveal the winning door\n",
    "        reveal_door=doors[0]             # so reveal remaining door\n",
    "        switch_door=winning_door         # and offer switch to the winning door\n",
    "    win = False\n",
    "    if trade_decision == True:\n",
    "        if switch_door == winning_door:\n",
    "            print(\" Good decision!  You must be a DATA110 student. You win!\")\n",
    "            win = True\n",
    "        else:\n",
    "            print(\" Aw, I guess you should have stuck with your gut. You lose!\")\n",
    "    else:\n",
    "        if chosen_door == winning_door:\n",
    "            print( \"This time following your initial instinct worked. You win!\")\n",
    "            win = True\n",
    "        else:\n",
    "            print( \"Study your statistics some more; you should have switched. You lose!\")\n",
    "    return win\n",
    "\n",
    "\n",
    "```"
   ]
  },
  {
   "cell_type": "code",
   "execution_count": null,
   "id": "c80d1613",
   "metadata": {},
   "outputs": [],
   "source": [
    "# copy code here"
   ]
  },
  {
   "cell_type": "markdown",
   "id": "5c04aac1",
   "metadata": {},
   "source": [
    "The function above takes in a door choice and a switch choice, and returns `True` for a win and `False` for a loss.  Write \"simulation\" code to call this function 1000 times, and for each call record the door choice, switch choice, and win result by adding a row to a table named `simulation_results`.  For now, just pick a value for the door choice and switch choice and use it for all 1000 calls to the function.  You can start your simulation code with the following code to initially create the `simulation_results` table that you'll add to in your loop.\n",
    "```Python\n",
    "simulation_results=pd.DataFrame( columns=['chosen door','trade decision', 'win'])\n",
    "```\n",
    "\n",
    "    "
   ]
  },
  {
   "cell_type": "code",
   "execution_count": null,
   "id": "2cbb6bb4",
   "metadata": {},
   "outputs": [],
   "source": [
    "# write your simulation code here"
   ]
  },
  {
   "cell_type": "markdown",
   "id": "96df149e",
   "metadata": {},
   "source": [
    "Now write code to visualize the results of your simulation by drawing a histplot of the column that has the win results."
   ]
  },
  {
   "cell_type": "code",
   "execution_count": null,
   "id": "81916d2a",
   "metadata": {},
   "outputs": [],
   "source": [
    "# Write your code here"
   ]
  },
  {
   "cell_type": "markdown",
   "id": "c4063629",
   "metadata": {},
   "source": [
    "You can easily go back and change your values for the door or the switch choice, and run everything again to check the results.  Alternatively, how could you randomize the door choice for every function call?  How could you randomize the switch choice?"
   ]
  },
  {
   "cell_type": "markdown",
   "id": "1c58ffdf",
   "metadata": {},
   "source": []
  }
 ],
 "metadata": {
  "kernelspec": {
   "display_name": "Python 3 (ipykernel)",
   "language": "python",
   "name": "python3"
  },
  "language_info": {
   "codemirror_mode": {
    "name": "ipython",
    "version": 3
   },
   "file_extension": ".py",
   "mimetype": "text/x-python",
   "name": "python",
   "nbconvert_exporter": "python",
   "pygments_lexer": "ipython3",
   "version": "3.10.10"
  }
 },
 "nbformat": 4,
 "nbformat_minor": 5
}
