{
 "cells": [
  {
   "cell_type": "markdown",
   "metadata": {},
   "source": [
    "# Your name and your onyen\n",
    "\n",
    "**We highly recommend you work as a group!** \n",
    "\n",
    "Classmates you worked with today:\n",
    "\n",
    "- name\n",
    "- name\n",
    "- name\n",
    "  \n",
    "**Submission instruction**: Please create a pdf via File -> Print (or cmd + P on mac), and upload it to Gradescope. No autograder since there are many correct ways to approach this question. You are not required to finish the entire worksheet provided that you were actively engaged during the entire class period. As long as you've collaborated, put in good effort and made reasonable progress during the lab period, you can expect to get full credit. So even if you decide to finish it at home, please submit what you have by the end of 50 minutes to make sure you get credit!\n",
    "\n",
    "## Part A: Preparing data\n",
    "\n",
    "Our goal today is to figure out what the defining characteristics of each penguin species are such that if we encounter a new penguin in the wild, we can predict their species. Start by answering the following questions:\n",
    "\n",
    "- Is this more of a **classification** problem or a **regression** problem? Choose one closest answer.\n",
    "- What are the **predictor variables** (or features or X)?\n",
    "- What are the **target variables** (or labels or y)?\n",
    "\n",
    "**If you are working on the penguin track for the final project, you are welcome to use anything from this lab for the project**."
   ]
  },
  {
   "cell_type": "markdown",
   "metadata": {},
   "source": [
    "[Your answers]"
   ]
  },
  {
   "cell_type": "markdown",
   "metadata": {},
   "source": [
    "Run the following cell to load the penguin dataset as a `pandas` `DataFrame` called `penguins`. I've also supplied code to shorten the penguins species name for convenient exploration and plotting. "
   ]
  },
  {
   "cell_type": "code",
   "execution_count": 1,
   "metadata": {},
   "outputs": [],
   "source": [
    "import pandas as pd\n",
    "import seaborn as sns\n",
    "from matplotlib import pyplot as plt\n",
    "pd.set_option(\"future.no_silent_downcasting\", True)\n",
    "\n",
    "penguins = pd.read_csv(\"palmer_penguins.csv\")\n",
    "\n",
    "# shorten the species name\n",
    "penguins[\"Species\"] = penguins[\"Species\"].str.split().str.get(0)"
   ]
  },
  {
   "cell_type": "markdown",
   "metadata": {},
   "source": [
    "For today's exercise, keep only the following columns: `'Species'`, `'Island'`, `'Culmen Length (mm)'`, `'Culmen Depth (mm)'`, `'Flipper Length (mm)'`, `'Body Mass (g)'`, `'Sex'`. Calling `penguins.filter([...])` with the column names inside should make this happen. Reassign this table to `penguins`. The updated `penguins` table should have 344 rows and 7 columns."
   ]
  },
  {
   "cell_type": "code",
   "execution_count": null,
   "metadata": {},
   "outputs": [],
   "source": [
    "# Write your code here\n",
    "\n"
   ]
  },
  {
   "cell_type": "markdown",
   "metadata": {},
   "source": [
    "You might have noticed that your table contains rows with `NaN` values. Calling `penguins.dropna()` will remove these rows. Do this below, and reassign the result back to `penguins`. Your updated `penguins` table should have 334 rows and 7 columns."
   ]
  },
  {
   "cell_type": "code",
   "execution_count": null,
   "metadata": {},
   "outputs": [],
   "source": [
    "# Write your code here\n",
    "\n"
   ]
  },
  {
   "cell_type": "markdown",
   "metadata": {},
   "source": [
    "In an ideal world, we would train our model on the entire dataset, collect data from new penguins, then test it on the new data. However, this is obviously not feasible in this case. In cases like this, most people randomly split the existing samples into train and test, and \"pretend\" like the samples in the test set are actually coming from penguins they haven't met yet.\n",
    "\n",
    "Fill in the blank such that this sentence describes what the code does:\n",
    "\n",
    "    We will randomly put 80% of the ___1____ into the __2___ set, and put the remaining __1_____ into the ____2___ set.\n",
    "\n",
    "- Options for 1: rows or columns\n",
    "- Options for 2: train or test\n",
    "\n",
    "The corresponding code:\n",
    "\n",
    "```Python\n",
    "train = penguins.sample(frac=0.8)\n",
    "test = penguins.drop(index=train.index)\n",
    "print(train.shape, test.shape)\n",
    "```"
   ]
  },
  {
   "cell_type": "markdown",
   "metadata": {},
   "source": [
    "[Your answers]"
   ]
  },
  {
   "cell_type": "code",
   "execution_count": null,
   "metadata": {},
   "outputs": [],
   "source": [
    "# Copy and run the code here\n",
    "\n"
   ]
  },
  {
   "cell_type": "markdown",
   "metadata": {},
   "source": [
    "## Part B: Manual decision tree\n",
    "\n",
    "We'll first approach this problem manually, meaning that you'll be the one designing the prediction algorithm, not your computer.\n",
    "\n",
    "Calculate the mean of each numeric variable in the table PER penguin species in your `train` data."
   ]
  },
  {
   "cell_type": "code",
   "execution_count": null,
   "metadata": {},
   "outputs": [],
   "source": [
    "# write your code here\n",
    "\n"
   ]
  },
  {
   "cell_type": "markdown",
   "metadata": {},
   "source": [
    "For the categorical variable `Island`, I'll give you the code. Copy and run following code:\n",
    "\n",
    "```Python\n",
    "island_counts = pd.DataFrame(train.groupby('Species').Island.value_counts())\n",
    "\n",
    "sns.barplot(island_counts, x='Species', hue='Island', y='count')\n",
    "\n",
    "island_counts\n",
    "```"
   ]
  },
  {
   "cell_type": "code",
   "execution_count": null,
   "metadata": {},
   "outputs": [],
   "source": [
    "# run the code here\n",
    "\n",
    "\n"
   ]
  },
  {
   "cell_type": "markdown",
   "metadata": {},
   "source": [
    "Based on your findings from these tables and barplot, propose a miniature decision tree to help distinguish between the penguin species. Your decision tree might have rules like the following: \n",
    "\n",
    "1. First, check the island on which the penguin was found. \n",
    "    1. If Torgersen, then check the body mass. \n",
    "        1. If the body mass is over 4,000g, then guess Adelie. \n",
    "        1. Otherwise, guess Chinstrap\n",
    "    1. If Biscoe, then check the sex of the penguin. \n",
    "        1. If female, guess Gentoo\n",
    "        1. Otherwise, guess Chinstrap\n",
    "    1. If Dream, then guess Adelie.     \n",
    "      \n",
    "Your decision tree should operate using **no more than three columns** from the data. \n",
    "\n",
    "Below your decision tree, write an explanation of how you came up with it and how the tables that you created above informed your choices. "
   ]
  },
  {
   "cell_type": "markdown",
   "metadata": {},
   "source": [
    "[Your solution here]"
   ]
  },
  {
   "cell_type": "markdown",
   "metadata": {},
   "source": [
    "If you'd like (**not required**), you may write your decision tree directly as a Python function. This example algorithm would look like this:\n",
    "\n",
    "```Python\n",
    "def decision_tree(island, mass, sex):\n",
    "    if island == \"Torgersen\":\n",
    "        if mass > 4000:\n",
    "            return \"Adelie\"\n",
    "        else:\n",
    "            return \"Chinstrap\"\n",
    "    elif island == \"Biscoe\":\n",
    "        if sex == \"FEMALE\":\n",
    "            return \"Gentoo\"\n",
    "        else:\n",
    "            return \"Chinstrap\"\n",
    "    else: \n",
    "        return \"Adelie\"\n",
    "    \n",
    "decision_tree(\"Biscoe\", 5000, \"MALE\")\n",
    "```"
   ]
  },
  {
   "cell_type": "markdown",
   "metadata": {},
   "source": [
    "## Part C: Automated decision tree\n",
    "\n",
    "Now let's see what the automated version looks like.\n",
    "\n",
    "Once again, these `scikit-learn` functions don't know how to handle text variables like `Island` and `Sex`, so we'll have to turn them into numbers for them. You can use boolean indexing like we did in lecture, but to save time, I'll give you code that does this quickly.\n",
    "\n",
    "```Python\n",
    "train['Species'] = train.Species.replace({'Adelie': 0, 'Chinstrap': 1, 'Gentoo': 2})\n",
    "train['Island'] = train.Island.replace({'Dream': 0, 'Biscoe': 1, 'Torgersen': 2})\n",
    "train['Sex'] = train.Sex.replace({'MALE': 0, 'FEMALE': 1, '.' : 2})\n",
    "\n",
    "test['Species'] = test.Species.replace({'Adelie': 0, 'Chinstrap': 1, 'Gentoo': 2})\n",
    "test['Island'] = test.Island.replace({'Dream': 0, 'Biscoe': 1, 'Torgersen': 2})\n",
    "test['Sex'] = test.Sex.replace({'MALE': 0, 'FEMALE': 1, '.' : 2})\n",
    "\n",
    "train = train.astype(float)\n",
    "test = test.astype(float)\n",
    "```"
   ]
  },
  {
   "cell_type": "code",
   "execution_count": null,
   "metadata": {},
   "outputs": [],
   "source": [
    "# copy the code and run it here\n",
    "\n"
   ]
  },
  {
   "cell_type": "markdown",
   "metadata": {},
   "source": [
    "Each of your table needs to be split into two parts (`X` and `y`) for the automated algorithm to understand.  Remember that `X` corresponds to a table where each column is a feature or a predictor variable, and `y` corresponds to an array with the target variable or the labels. \n",
    "\n",
    "I've given you partial code that creates four new variables `y_train`, `X_train`, `X_test`, `y_test`. **Fill in the missing parts marked with ...**, then copy and run the code. The answer is a single column name that is the same in all four places. Pause and make sure you understand what is going on. \n",
    "\n",
    "```Python\n",
    "y_train = train[...] # select column with target variable\n",
    "X_train = train.drop(columns=[...]) # keep all other columns with predictor variables\n",
    "print(X_train.shape, y_train.shape)\n",
    "\n",
    "y_test = test[...]\n",
    "X_test = test.drop(columns=[...]) \n",
    "print(X_test.shape, y_test.shape)\n",
    "```"
   ]
  },
  {
   "cell_type": "code",
   "execution_count": null,
   "metadata": {},
   "outputs": [],
   "source": [
    "# run your code here\n",
    "\n"
   ]
  },
  {
   "cell_type": "markdown",
   "metadata": {},
   "source": [
    "We are almost done! \n",
    "\n",
    "I've also given you mostly finished code that will automatically create a decision tree classifier. Put in `X_train`, `y_train`, `X_test`, `y_test` in appropriate places, then copy and run the code.\n",
    "\n",
    "```Python\n",
    "from sklearn.tree import DecisionTreeClassifier, plot_tree\n",
    "\n",
    "T = DecisionTreeClassifier(max_depth=3)\n",
    "T.fit(..., ...) # train the model\n",
    "\n",
    "print('Score on train:', T.score(..., ...)) # evaluate on train data\n",
    "print('Score on test:', T.score(..., ...)) # evaluate on test data\n",
    "\n",
    "fig, ax = plt.subplots(1, figsize = (20, 20))\n",
    "p = plot_tree(T, filled = True, feature_names = X_train.columns)\n",
    "```"
   ]
  },
  {
   "cell_type": "code",
   "execution_count": null,
   "metadata": {},
   "outputs": [],
   "source": [
    "# run your code here\n",
    "\n"
   ]
  },
  {
   "cell_type": "markdown",
   "metadata": {},
   "source": [
    "What do you think about this tree? Do you think this does a good job at classifying penguin species? Did your computer create a similar algorithm to your manual one, or something very different?"
   ]
  },
  {
   "cell_type": "markdown",
   "metadata": {},
   "source": [
    "[Write your answer here]"
   ]
  },
  {
   "cell_type": "code",
   "execution_count": null,
   "metadata": {},
   "outputs": [],
   "source": []
  },
  {
   "cell_type": "code",
   "execution_count": null,
   "metadata": {},
   "outputs": [],
   "source": []
  },
  {
   "cell_type": "markdown",
   "metadata": {},
   "source": [
    "### Final Check-In\n",
    "As we wrap up this lab, we’d love to hear how things are going with your project planning.\n",
    "- How are things going with your team so far?\n",
    "- Anything you'd like us to know as your team moves forward with the project?"
   ]
  },
  {
   "cell_type": "markdown",
   "metadata": {},
   "source": [
    "[Write your comments]"
   ]
  }
 ],
 "metadata": {
  "kernelspec": {
   "display_name": "Python 3 (ipykernel)",
   "language": "python",
   "name": "python3"
  },
  "language_info": {
   "codemirror_mode": {
    "name": "ipython",
    "version": 3
   },
   "file_extension": ".py",
   "mimetype": "text/x-python",
   "name": "python",
   "nbconvert_exporter": "python",
   "pygments_lexer": "ipython3",
   "version": "3.10.10"
  }
 },
 "nbformat": 4,
 "nbformat_minor": 4
}
