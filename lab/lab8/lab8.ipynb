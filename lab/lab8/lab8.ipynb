{
 "cells": [
  {
   "cell_type": "markdown",
   "id": "689b7c13-31f2-4113-86a3-2bc5fe8d61c0",
   "metadata": {},
   "source": [
    "# Your name and your onyen\n",
    "\n",
    "Classmates you worked with today:\n",
    "\n",
    "1. name\n",
    "2. name\n",
    "3. name\n",
    "\n",
    "\n",
    "**Submission instruction**: Please create a `pdf` via File -> Print (or cmd + P on mac), and upload it to Gradescope. No autograder since there are many correct ways to approach this question. You are **not** required to finish the entire worksheet provided that you were actively engaged during the entire class period. As long as you've collaborated, put in good effort and made **reasonable progress** during the lab period, you can expect to get full credit. So even if you decide to finish it at home, please submit what you have by the end of 50 minutes to make sure you get credit! "
   ]
  },
  {
   "cell_type": "markdown",
   "id": "99c84be4-4dac-4907-9355-0babc8e6ff43",
   "metadata": {},
   "source": [
    "#  Lab 8:  Sampling and Hypothesis Testing\n",
    "\n",
    "<img src=\"Trick-or-Treat-Yourself.jpg\" width=500px>\n",
    "<div style=\"text-align: center\"> </div>"
   ]
  },
  {
   "cell_type": "markdown",
   "id": "dbed6c7c",
   "metadata": {},
   "source": [
    "## Problem 1: Data Collection (20 mins)\n",
    "Suppose we are going to be collecting data about **the number of candies that are taken when someone \"grabs a reasonable handful\"**.  Every person reach into the bag of candy with one hand, grab a handful of candy, and record the number of **Starbursts**, number of **Kisses**, and number of **Miniatures**.  To be considered a valid \"handful\" sample, at least 1 candy must be pulled out.  "
   ]
  },
  {
   "cell_type": "markdown",
   "id": "aa89d383",
   "metadata": {},
   "source": [
    "**Questions:** \n",
    "* What is your guess for the average number of candies in a handful?\n",
    "* Are there any initial thoughts/concerns you have about the plan?  \n",
    "* What is the population that is being sampled?  \n",
    "* What kind of sampling do you think this would be considered?  \n",
    "* What kind of distribution do you think you'll see in the data you collect?\n",
    "\n"
   ]
  },
  {
   "cell_type": "markdown",
   "id": "82ffe40f",
   "metadata": {},
   "source": [
    "*Write your answers here*  "
   ]
  },
  {
   "cell_type": "code",
   "execution_count": null,
   "id": "c94e7b79",
   "metadata": {},
   "outputs": [],
   "source": [
    "import pandas as pd\n",
    "import seaborn as sns\n",
    "import matplotlib.pyplot as plt\n",
    "import random"
   ]
  },
  {
   "cell_type": "code",
   "execution_count": null,
   "id": "f1d04048",
   "metadata": {},
   "outputs": [],
   "source": [
    "# USE THIS CODE FOR LOADING COLLECTING DATA\n",
    "candy_df = pd.read_csv('candies.csv')\n",
    "candy_df"
   ]
  },
  {
   "cell_type": "markdown",
   "id": "da20a4ff",
   "metadata": {},
   "source": [
    "Write code to add another column to `candy_df` named `'Total'` that is the total number of pieces of candy in each sample."
   ]
  },
  {
   "cell_type": "code",
   "execution_count": 7,
   "id": "12f5ea6b",
   "metadata": {},
   "outputs": [],
   "source": [
    "# right your code here\n",
    "..."
   ]
  },
  {
   "cell_type": "markdown",
   "id": "a92078ec",
   "metadata": {},
   "source": [
    "Next, let's examine that total.  First, compute the mean and standard deviation for your `Total` column and assign them to variables `handful_mean` and `handful_std`"
   ]
  },
  {
   "cell_type": "code",
   "execution_count": null,
   "id": "44feb0d7",
   "metadata": {},
   "outputs": [],
   "source": [
    "handful_mean = ...\n",
    "handful_std = ..."
   ]
  },
  {
   "cell_type": "markdown",
   "id": "d5e51449",
   "metadata": {},
   "source": [
    "In the interest of time, below we've supplied code for several visualizations.  Execute each of the cells to see the visualization; if they don't execute, you must have an issue with your code cells above."
   ]
  },
  {
   "cell_type": "code",
   "execution_count": null,
   "id": "0a886f93",
   "metadata": {},
   "outputs": [],
   "source": [
    "fig, ax = plt.subplots(1)\n",
    "sns.barplot(candy_df['Total'],label='Candies per handful')\n",
    "ax.axhline(handful_mean, color='g', label='Mean')\n",
    "ax.set_xlabel('Student (one handful per student)')\n",
    "ax.set_ylabel('Total # of candies in a handful')\n",
    "ax.legend()\n",
    "ax.set_title('Bar chart')"
   ]
  },
  {
   "cell_type": "code",
   "execution_count": null,
   "id": "adf7d289",
   "metadata": {},
   "outputs": [],
   "source": [
    "fig, ax = plt.subplots(1)\n",
    "sns.histplot(candy_df['Total'], label='Candies per handful', stat='density')\n",
    "ax.set_xlabel('Total # of candies in a handful')\n",
    "ax.set_ylabel('Density')\n",
    "ax.axvline(handful_mean, color='g', label='Mean')\n",
    "ax.axvline(handful_mean-handful_std, color='r', label='Mean +/- 1 std', linestyle=':')\n",
    "ax.axvline(handful_mean+handful_std, color='r',linestyle=':')\n",
    "ax.legend()\n",
    "ax.set_title('Histogram')"
   ]
  },
  {
   "cell_type": "code",
   "execution_count": null,
   "id": "94e76913",
   "metadata": {},
   "outputs": [],
   "source": [
    "fig, ax = plt.subplots(1)\n",
    "sns.boxplot(candy_df['Total'], showmeans=True)\n",
    "ax.set_xlabel('Candies per handful')\n",
    "ax.set_ylabel('Value')\n",
    "ax.set_title('Boxplot')"
   ]
  },
  {
   "cell_type": "markdown",
   "id": "b8e7b524",
   "metadata": {},
   "source": [
    "## Short TA-led discussion about questions (5-10 mins)\n",
    "After everyone has collected data and looked at plots, TA will lead discussion about the following quesions.\n"
   ]
  },
  {
   "cell_type": "markdown",
   "id": "ed1e28b9",
   "metadata": {},
   "source": [
    "**Questions:** Instead of having ~30 different students in class each pull out 1 handful, consider if instead just 1 person had pulled out ~30 handfuls.\n",
    "* Why would that not be as good an estimate of an average person's handful?  \n",
    "* Would you expect the mean or standard deviation to be any different?  If so, how?"
   ]
  },
  {
   "cell_type": "markdown",
   "id": "2feaeeae",
   "metadata": {},
   "source": [
    "**Questions:** If you know exactly 100 people will visit your house and each take a handful:\n",
    "* Using the data you gathered, how much candy would you **expect** to need?\n",
    "* If you buy exactly that much, based on your data very roughly what is the chance that you'll run out of candy before everyone gets some?\n",
    "* What factors might be different if you were actually giving out candy on Halloween vs. how we collected data?"
   ]
  },
  {
   "cell_type": "markdown",
   "id": "99eb69e3",
   "metadata": {},
   "source": [
    "## Problem 2: Comparing Distributions of a Categorical Variable (10 mins)\n",
    "Now, pretend that the bag of candy is no longer available to you so you can't examine it.  (This kind of situation happens often in real life because it can be difficult to quantify the exact conditions for which an experiment was conducted.)  Do you think the distribution of the types of candy in the bag could potentially influence your handful results?  If so, how?"
   ]
  },
  {
   "cell_type": "markdown",
   "id": "14e26544",
   "metadata": {},
   "source": [
    "Suppose you decide you would like to know the distribution of candy that was in the bag, but unfortunately you no longer have to bag to count them exactly.  If you assume the likelihood of a candy being in a handful is the same as the likelihood a candy would be randomly selected from the bag, you might **estimate** the bag distribution using your collected data by computing the total proportion of each candy.  Complete the code below for the other 2 candies:"
   ]
  },
  {
   "cell_type": "code",
   "execution_count": null,
   "id": "1ba1cc7d",
   "metadata": {},
   "outputs": [],
   "source": [
    "kisses_proportion = candy_df['Kisses'].sum()/candy_df['Total'].sum()\n",
    "starbursts_proportion = ...\n",
    "miniatures_proportion = ..."
   ]
  },
  {
   "cell_type": "markdown",
   "id": "76d296cb",
   "metadata": {},
   "source": [
    "The TA actually already counted all the candies in the bag, and they inform you the true distribution is 40, 40, 40.\n",
    "\n",
    "**Questions:**  \n",
    "* What kind of distribution is this?\n",
    "* What is the proportion of each candy in the bag?"
   ]
  },
  {
   "cell_type": "markdown",
   "id": "31d6dc90",
   "metadata": {},
   "source": [
    "*Write your answers here*"
   ]
  },
  {
   "cell_type": "markdown",
   "id": "f8cab1ee",
   "metadata": {},
   "source": [
    "Now, calclulate the **Total Variation Distance** for your measured candy proportions to the true distribution. \n",
    "To compute the *Total Variation Distance (TVD)* between two distributions:\n",
    "* For each category, subtract the two proportions\n",
    "* Compute the absolute value of each differences\n",
    "* Add up those values\n",
    "* Divide by 2\n",
    "\n",
    "For example, TVD between two distributions [0.5, 0.5] and [0.3, 0.7] is\n",
    "* (abs(0.5 - 0.3) + abs(0.5 - 0.7))/2 = (0.2 + 0.2)/2 = 0.2"
   ]
  },
  {
   "cell_type": "code",
   "execution_count": null,
   "id": "aefbada9",
   "metadata": {},
   "outputs": [],
   "source": [
    "TVD = ..."
   ]
  },
  {
   "cell_type": "markdown",
   "id": "4d1ab495",
   "metadata": {},
   "source": [
    "If TVD is close to 0, it means the distributions are very similar.  If TVD is close to 1, it means distributions are very dissimilar. How close was our estimate?"
   ]
  },
  {
   "cell_type": "markdown",
   "id": "813a9fe0",
   "metadata": {},
   "source": [
    "## Problem 3: Hypothesis testing (20 mins)\n",
    "You decide to investigate if **miniatures are actually selected at a different rate than other candy when grabbing a handful**.  And you realize, now that you know the true distribution of candy types, you can use your collected data to evaluate this by using a hypothesis testing process!\n",
    "\n",
    "Write a null hypothesis and an alternate hypothesis that you could use for determining if there is evidence that miniatures are selected at a **higher** rate than would be predicted by random chance.\n"
   ]
  },
  {
   "cell_type": "markdown",
   "id": "fd50dee4",
   "metadata": {},
   "source": [
    "* **Null Hypothesis:** ...\n",
    "* **Alternate Hypothesis:** ...\n",
    "* **Statistic you'll use to evaluate:** ..."
   ]
  },
  {
   "cell_type": "markdown",
   "id": "e772faf1",
   "metadata": {},
   "source": [
    "Now, complete the code blocks below to simulate your statistic \"under the null\"."
   ]
  },
  {
   "cell_type": "code",
   "execution_count": null,
   "id": "31b1af66",
   "metadata": {},
   "outputs": [],
   "source": [
    "# first, set t1 to the statistic you will use\n",
    "t1 = ..."
   ]
  },
  {
   "cell_type": "code",
   "execution_count": null,
   "id": "b5134e9d",
   "metadata": {},
   "outputs": [],
   "source": [
    "# 1. Make a lot of simulated data under the null hypothesis\n",
    "# 2. Calculate the statistics t1 from simulated data\n",
    "\n",
    "statistic = pd.DataFrame(columns=['t1'])\n",
    "\n",
    "for simulation in range(1000):\n",
    "    num_candies_actually_sampled = candy_df['Total'].sum()\n",
    "    simulated_candy = pd.DataFrame(random.choices(['M','K','S'], k=...), columns=['candy'])\n",
    "    miniatures = ... # True, False array\n",
    "    sim_t1 = ... # simulated statistic\n",
    "    statistic.loc[len(statistic)] = [sim_t1]\n",
    "statistic"
   ]
  },
  {
   "cell_type": "code",
   "execution_count": null,
   "id": "f54a63b1",
   "metadata": {},
   "outputs": [],
   "source": [
    "# 3. Plot empirical distribution of t1 (under the null)\n",
    "\n",
    "fig, ax = plt.subplots(1)\n",
    "sns.histplot(data=statistic, x='t1', stat='density', label='Under the null')\n",
    "ax.axvline(t1, color='k', linestyle='-.', label='In dataset')\n",
    "ax.legend()"
   ]
  },
  {
   "cell_type": "markdown",
   "id": "9ba213a6",
   "metadata": {},
   "source": [
    "From this plot, how much evidence do you see \"against the null\"?  Which region of the graph is the p-value region?\n",
    "\n",
    "If you would have instead decided you wanted to see if miniatures are selected at a **different** rate than would be predicted by random chance, what would you instead use for the statistic?"
   ]
  },
  {
   "cell_type": "markdown",
   "id": "8ec85264",
   "metadata": {},
   "source": [
    "*write your answers here*"
   ]
  },
  {
   "cell_type": "markdown",
   "id": "54bdfe56",
   "metadata": {},
   "source": [
    "For extra practice, repeat this section of the lab using this new statistic instead."
   ]
  }
 ],
 "metadata": {
  "kernelspec": {
   "display_name": "Python 3 (ipykernel)",
   "language": "python",
   "name": "python3"
  },
  "language_info": {
   "codemirror_mode": {
    "name": "ipython",
    "version": 3
   },
   "file_extension": ".py",
   "mimetype": "text/x-python",
   "name": "python",
   "nbconvert_exporter": "python",
   "pygments_lexer": "ipython3",
   "version": "3.10.10"
  }
 },
 "nbformat": 4,
 "nbformat_minor": 5
}
