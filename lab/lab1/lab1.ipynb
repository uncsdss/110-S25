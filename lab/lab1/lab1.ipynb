{
 "cells": [
  {
   "cell_type": "code",
   "execution_count": null,
   "id": "3e2b2877",
   "metadata": {
    "deletable": false,
    "editable": false
   },
   "outputs": [],
   "source": [
    "# Initialize Otter\n",
    "import otter\n",
    "grader = otter.Notebook(\"lab1.ipynb\")"
   ]
  },
  {
   "cell_type": "markdown",
   "id": "3ca24de5-8cce-49f0-9d44-3c29222c7d09",
   "metadata": {},
   "source": [
    "# Welcome\n",
    "\n",
    "This is a Jupyter Notebook, which is an interactive “notebook” where we will be writing a mixture of Python code and text explanations of our results. Each of these boxes is a cell, which can contain a piece of code or text. You’ll become very familiar with it over the semester."
   ]
  },
  {
   "cell_type": "markdown",
   "id": "4d03c5bb-afb0-4850-9ca9-c1fe028e4f8d",
   "metadata": {},
   "source": [
    "# 1. Hello Team\n",
    "\n",
    "Form a group of **two to three** for this part of the activity. There's plenty of time, so please take your time and feel free to ask each other follow-up questions. \n",
    "\n",
    "Introduce yourselves, starting with the person who's traveled furthest away from Chapel Hill over the summer! First, share with each other the following. \n",
    "\n",
    "1. Your name. \n",
    "2. Your area or planned area of study at UNC. \n",
    "3. Why you are interested in Data Science.\n",
    "4. What kind of group project topics you are interested in. \n",
    "\n",
    "Once each of you have shared your interest in Data Science move on to the following question. You might want to spend a minute or so thinking about this one.  \n",
    "> *If you were a vegetable, which vegetable would you be, **and why**?* \n",
    "\n",
    "Make sure that you have both selected a vegetable and a reason. Note that this question is **not** the same as \"what is your favorite vegetable?\"\n",
    "\n",
    "For the purposes of this question, botanical vegetables and culinary vegetables are valid choices. For example, \"tomato\" or \"squash\" are both fully acceptable responses."
   ]
  },
  {
   "cell_type": "markdown",
   "id": "08094280-5585-4b47-8ee9-fcd6c45d1a44",
   "metadata": {},
   "source": [
    "# 2. Hello Jupyter\n",
    "\n",
    "The most important thing you will need to do in Jupyter is read, write, and run Python code. Write the following code, exactly as it appears, in the *code cell* below, underneath the `# comment`. \n",
    "\n",
    "```python\n",
    "print(\"to boldly go where no one has gone before\")\n",
    "```\n",
    "\n",
    "Then, with your cursor still in the code cell, hit `shift + enter` on your keyboard to run the code. You may also see a \"Play\" or \"Run\" button in the Jupyter toolbar which you can use to achieve the same result and advance to the next cell. There is also a keyboard shortcut to run the code and not advance to the next cell, which is often convenient. The shortcut depends on your operating system and whether you are using Jupyter Notebook or Jupyter Lab. These shortcuts are shown in the menu bar."
   ]
  },
  {
   "cell_type": "code",
   "execution_count": null,
   "id": "f7d96477-a987-490e-aab8-be5f06047d32",
   "metadata": {},
   "outputs": [],
   "source": [
    "# write your code here\n"
   ]
  },
  {
   "cell_type": "markdown",
   "id": "76a45649-74dd-4b45-9f0b-cb8c73015f50",
   "metadata": {},
   "source": [
    "An important feature of the Jupyter interface is that the Python environment is persistent between code cells. That means that variables that you define in one code cell can be used in later code cells. \n",
    "\n",
    "In the cell below, type: \n",
    "\n",
    "```python\n",
    "vegetables = [\"corn\", \"carrot\", \"onion\"]\n",
    "```\n",
    "\n",
    "Replace the vegetables with the vegetables you each chose in 1. \n",
    "\n",
    "Run the code cell (`shift + enter`). "
   ]
  },
  {
   "cell_type": "code",
   "execution_count": null,
   "id": "316e09d7-8026-4d8c-8a68-548df25892b3",
   "metadata": {
    "tags": []
   },
   "outputs": [],
   "source": [
    "# write your code here\n",
    "vegetables = ..."
   ]
  },
  {
   "cell_type": "code",
   "execution_count": null,
   "id": "8a71f628",
   "metadata": {
    "deletable": false,
    "editable": false
   },
   "outputs": [],
   "source": [
    "grader.check(\"q1.1\")"
   ]
  },
  {
   "cell_type": "markdown",
   "id": "5ca0763a-1c19-42e9-a068-8d149f8a063d",
   "metadata": {},
   "source": [
    "The variable `vegetables` is now part of the Python session and is available for future use. For example, type the following code in the cell below and run it. \n",
    "\n",
    "```python\n",
    "print(\"If we were a vegetable, we would be\", vegetables, \".\")\n",
    "```\n",
    "\n",
    "You'll learn more about how this works in the next week or so. "
   ]
  },
  {
   "cell_type": "code",
   "execution_count": null,
   "id": "3ba42810-9964-4b45-99fe-fe580a270772",
   "metadata": {},
   "outputs": [],
   "source": [
    "# write your code here\n"
   ]
  },
  {
   "cell_type": "markdown",
   "id": "f6b0237b-27cf-4b4e-b988-fdb74ec23d57",
   "metadata": {},
   "source": [
    "Sometimes, you'll need to write some code, but there won't be a code cell present. In this case, you can use the `+` symbol on the toolbar to add a new code cell. Add a new cell now, immediately below this text, and type the following code: \n",
    "\n",
    "```python\n",
    "print(\"One of us would be a\", vegetables[0], \".\")\n",
    "```\n",
    "\n",
    "\\[add code cell immediately below\\]"
   ]
  },
  {
   "cell_type": "markdown",
   "id": "c51598a5-7188-48a4-89f3-6093f1b3c079",
   "metadata": {},
   "source": [
    "On occasion, you may find it useful to *restart the kernel*. Restarting the kernel has the effect of erasing all variables in the current Python session. \n",
    "\n",
    "**Restart the kernel by clicking the ↻ button in the Jupyter toolbar.** If asked whether you are sure you want to restart the kernel, choose \"yes\" \n",
    "\n",
    "Create a code cell below, and type in the following code: \n",
    "\n",
    "```python\n",
    "print(\"And some of us would be\", vegetables[1:], \".\")\n",
    "```\n",
    "\n",
    "\\[add code cell immediately below\\]"
   ]
  },
  {
   "cell_type": "markdown",
   "id": "81cc8061-0ced-4427-b9a6-f1dfc77db4a7",
   "metadata": {},
   "source": [
    "You should observe a `NameError: name 'vegetables' is not defined`. This is because, after restarting the kernel, the variable `vegetables` is no longer present in our namespace. To get it back, go back to the code cell in which you first defined this variable and run it. Then, the cell above will run without error. \n",
    "\n",
    "The toolbar also contains useful tools for duplicating cells, removing cells, and moving cells up and down. "
   ]
  },
  {
   "cell_type": "markdown",
   "id": "5c4a162e-ef9d-4ed1-b088-e758c720b387",
   "metadata": {},
   "source": [
    "# 3. Hello Markdown\n",
    "\n",
    "Throughout DATA110, you will frequently be asked to write explanatory text in which you describe your problem-solving strategy and the structure of your code. One way to do this will be in comments and docstrings, which we will introduce later. Another important way is with *Markdown cells.* Markdown (https://en.wikipedia.org/wiki/Markdown#Example) is a simple, readable way to create formatted text. It was invented by John Gruber and Aaron Swartz. This cheatsheet (https://commonmark.org/help/) contains a useful and concise set of instructions for Markdown editing. \n",
    "\n",
    "To create a Markdown cell, first create a code cell like you did before. Then, with your cursor in the code cell, click the dropdown menu in the toolbar that says \"Code\".  Select \"Markdown\" from this menu instead. \n",
    "\n",
    "Return to the cell and type the following characters, exactly as they appear:\n",
    "\n",
    "`*To boldly go* **where no one has gone before.**`\n",
    "\n",
    "Then, \"run\" the Markdown cell (`shift + enter` again) to see your text rendered with italic and bold formatting. "
   ]
  },
  {
   "cell_type": "markdown",
   "id": "16147e7a-5235-454a-935d-b9f76c692cee",
   "metadata": {},
   "source": [
    "Now, work with your group to reproduce in Markdown the following algorithm for enjoying a relaxing cup of tea. \n",
    "\n",
    "<br>\n",
    "\n",
    "<figure class=\"image\" style=\"width:40%\">\n",
    "  <img src=\"https://raw.githubusercontent.com/PhilChodrow/PIC16A/master/_images/making-tea.png\" alt=\"A list of six items describing how to make tea. The list reads:             \n",
    "    1. Boil water.\n",
    "    2. Place tea bag in mug.\n",
    "    3. Pour water in mug. **Be careful, water is hot!**\n",
    "    3. *Optional: add milk and/or sugar*. \n",
    "    4. Drink tea. \n",
    "        - `while cup is not empty`\n",
    "            - Carefully raise mug to mouth. \n",
    "            - Take a sip. \n",
    "    5. Clean mug. \">\n",
    "  <figcaption><i></i></figcaption>\n",
    "</figure>\n",
    "\n",
    "\n",
    "\\[add markdown cell immediately below\\]"
   ]
  },
  {
   "cell_type": "markdown",
   "id": "7d4fe22d-87ec-4b87-aed4-cf23f7412326",
   "metadata": {},
   "source": [
    "# 4. Goodbye first recitation\n",
    "\n",
    "Great job! It's time to submit the worksheet. Make sure to run all cells (you can click on the fastforward button above (>>)), download the zip file, and submit it on Gradescope under `Lab 1`.  \n"
   ]
  },
  {
   "cell_type": "code",
   "execution_count": null,
   "id": "ad040a4b-f4c3-4714-86a7-a1fe55fb01fe",
   "metadata": {},
   "outputs": [],
   "source": []
  },
  {
   "cell_type": "markdown",
   "id": "2b8314b9",
   "metadata": {
    "deletable": false,
    "editable": false
   },
   "source": [
    "## Submission\n",
    "\n",
    "Make sure you have run all cells in your notebook in order before running the cell below, so that all images/graphs appear in the output. The cell below will generate a zip file for you to submit. **Please save before exporting!**\n",
    "\n",
    "Gradescope Lab1"
   ]
  },
  {
   "cell_type": "code",
   "execution_count": null,
   "id": "2289f33b",
   "metadata": {
    "deletable": false,
    "editable": false
   },
   "outputs": [],
   "source": [
    "# Save your notebook first, then run this cell to export your submission.\n",
    "grader.export(pdf=False, run_tests=True)"
   ]
  },
  {
   "cell_type": "markdown",
   "id": "0422bf08",
   "metadata": {},
   "source": [
    " "
   ]
  }
 ],
 "metadata": {
  "kernelspec": {
   "display_name": "Python 3 (ipykernel)",
   "language": "python",
   "name": "python3"
  },
  "language_info": {
   "codemirror_mode": {
    "name": "ipython",
    "version": 3
   },
   "file_extension": ".py",
   "mimetype": "text/x-python",
   "name": "python",
   "nbconvert_exporter": "python",
   "pygments_lexer": "ipython3",
   "version": "3.10.14"
  },
  "otter": {
   "OK_FORMAT": true,
   "tests": {
    "q1.1": {
     "name": "q1.1",
     "points": 10,
     "suites": [
      {
       "cases": [
        {
         "code": ">>> assert type(vegetables) == list\n",
         "hidden": false,
         "locked": false
        }
       ],
       "scored": true,
       "setup": "",
       "teardown": "",
       "type": "doctest"
      }
     ]
    }
   }
  }
 },
 "nbformat": 4,
 "nbformat_minor": 5
}
