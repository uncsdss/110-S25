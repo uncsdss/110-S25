{
 "cells": [
  {
   "cell_type": "code",
   "execution_count": null,
   "metadata": {
    "deletable": false,
    "editable": false
   },
   "outputs": [],
   "source": [
    "# Initialize Otter\n",
    "import otter\n",
    "grader = otter.Notebook(\"lab4.ipynb\")"
   ]
  },
  {
   "cell_type": "markdown",
   "metadata": {},
   "source": [
    "## Name: [Your name] (your onyen)\n",
    "\n",
    "In this activity, our focus will be on using Pandas to operate on tables. You'll find referring back to lecture 6 and 7 slides and demos helpful.\n",
    "\n",
    "**Submission instruction**: Submit both zip file and pdf to Gradescope. Some questions will be graded by autograder, while some will be manually graded.\n",
    "\n",
    "**Work in groups of 2~3.**\n",
    "\n",
    "Names and onyens of people you worked with today:\n",
    "\n",
    "- Teammate 1:\n",
    "- Teammate 2:\n",
    "- Teammate 3:\n",
    "\n"
   ]
  },
  {
   "cell_type": "markdown",
   "metadata": {},
   "source": [
    "# Lab 4. Fun with Pandas\n",
    "<img src=\"https://get.pxhere.com/photo/Zoo-Berlin-zoo-berlin-panda-plant-carnivore-nature-branch-biome-terrestrial-animal-natural-material-trunk-tree-snout-fur-nature-reserve-jungle-twig-tail-split-rail-fence-wildlife-grass-wood-bear-claw-1643708.jpg\" width=800px>\n",
    "<div style=\"text-align: center\"> </div>\n",
    "\n",
    "## Helpful guidelines\n",
    "When working with tables on the kinds of questions in this lab and in lecture, start by thinking:\n",
    "- _row selection:_ \"Which rows do I need?  How do I get those rows?\"\n",
    "- _column selection:_ \"Which columns do I need?\"\n",
    "- _action:_ \"What do I want to do with these columns? Do I want to calculate a single number like average?  Do I need to manipulate all rows in this column to get another column of the same size?\"\n",
    "- _result:_ \"Do I need to assign the output of this to another variable?\"\n",
    "\n",
    "Thinking through what you are trying to do step by step makes these kinds of problems much easier."
   ]
  },
  {
   "cell_type": "markdown",
   "metadata": {},
   "source": [
    "# Our solution code in parts 1-4 does NOT use an `if` statement nor a `for` loop!!"
   ]
  },
  {
   "cell_type": "markdown",
   "metadata": {},
   "source": [
    "## 1. Loading a table from a file, and understanding the table. (5 minutes)\n",
    "First, you will load some Comma-Separated Values (CSV) data from a file.  You'll use the pandas function `read_csv()` to do this, so pandas needs to be imported (which is done for you in the code below).  \n",
    "\n",
    "**Q**: Add one line of code that calls `pd.read_csv()` to read a file named 'fire_swamp_flame_spurt.csv', and assign the table to a new variable `flame_df`. You can do this by replacing the ... with your code."
   ]
  },
  {
   "cell_type": "code",
   "execution_count": null,
   "metadata": {
    "tags": []
   },
   "outputs": [],
   "source": [
    "import pandas as pd\n",
    "...\n",
    "flame_df"
   ]
  },
  {
   "cell_type": "code",
   "execution_count": null,
   "metadata": {
    "deletable": false,
    "editable": false
   },
   "outputs": [],
   "source": [
    "grader.check(\"read\")"
   ]
  },
  {
   "cell_type": "markdown",
   "metadata": {},
   "source": [
    "\n",
    "![](https://blogger.googleusercontent.com/img/b/R29vZ2xl/AVvXsEiOV_tOGEuy59VbqanB3ZEvVGvst51KQxp3xi6fQmXgYprxnAcvrsW2bXgzftG8EaOpcqONeMJJG3J2ze7W7Jb834X3XcGrElKtAlu3GOxv72dFgIaetvIuvYZ78mMkxkR4PcwzwsXJanF-/s1600/The+Princess+Bride+Fire+Swamp+Fireball.jpg)\n",
    "\n",
    "[Fire Swamp flame spurt From the movie The Princess Bride, Professor Marks' favorite movie.]\n",
    "\n",
    "You should see table with 3 labeled columns and 272 rows containing data for the deadly Fire Swamp flame spurt.  (Think of it like a hotter version of Old Faithful).  \n",
    "The Fire Swamp is said to erupt fairly regularly, and this table records the following information from the most recent 272 flame spurts.\n",
    "\n",
    "- `duration`: Duration of the flame spurt (in minutes).\n",
    "- `waiting`: Interval between flame spurts (in minutes).\n",
    "- `height`: Height of the flame spurt (in feet)."
   ]
  },
  {
   "cell_type": "markdown",
   "metadata": {},
   "source": [
    "**Remark**: Run the following cell to learn more about the data type of the Pandas table."
   ]
  },
  {
   "cell_type": "code",
   "execution_count": null,
   "metadata": {},
   "outputs": [],
   "source": [
    "type(flame_df)"
   ]
  },
  {
   "cell_type": "markdown",
   "metadata": {},
   "source": [
    "Note that sometimes when you check the type of something, the return value looks more complex than what you would expect, but it is still equivalent to the simpler type that you were expecting, as you can see in the next cell."
   ]
  },
  {
   "cell_type": "code",
   "execution_count": null,
   "metadata": {},
   "outputs": [],
   "source": [
    "type(flame_df) == pd.DataFrame"
   ]
  },
  {
   "cell_type": "markdown",
   "metadata": {},
   "source": [
    "**Q**: Run each of the following cells. Make sure to understand what kind of information they give you. Be careful - some of them are calling functions (table methods ), so require parenthesis `()`, while some are just looking up information attached to the table (think of it like metadata in your phone images), so they don't involve `()`."
   ]
  },
  {
   "cell_type": "code",
   "execution_count": null,
   "metadata": {},
   "outputs": [],
   "source": [
    "flame_df.dtypes"
   ]
  },
  {
   "cell_type": "code",
   "execution_count": null,
   "metadata": {},
   "outputs": [],
   "source": [
    "flame_df.columns"
   ]
  },
  {
   "cell_type": "code",
   "execution_count": null,
   "metadata": {},
   "outputs": [],
   "source": [
    "flame_df.shape"
   ]
  },
  {
   "cell_type": "code",
   "execution_count": null,
   "metadata": {},
   "outputs": [],
   "source": [
    "flame_df.info()"
   ]
  },
  {
   "cell_type": "code",
   "execution_count": null,
   "metadata": {},
   "outputs": [],
   "source": [
    "flame_df.describe()"
   ]
  },
  {
   "cell_type": "markdown",
   "metadata": {},
   "source": [
    "## 2. Boolean indexing and adding columns (10 minutes)\n",
    "\n",
    "**Q**: Write one line of code below that selects the column `height` in table `flame_df`. We showed you two ways to achieve this in lecture."
   ]
  },
  {
   "cell_type": "code",
   "execution_count": null,
   "metadata": {},
   "outputs": [],
   "source": [
    "# Write your code here!\n",
    "\n"
   ]
  },
  {
   "cell_type": "markdown",
   "metadata": {},
   "source": [
    "It turns out that if the height of the eruption is greater than 10, there is a popping noise half a minute before the eruption happens.\n",
    "Add a new column to `flame_df` named 'popping sound' that contains Boolean values for whether a popping sound would occur for each eruption.\n",
    "\n",
    "**Q**: Write two lines of code that do the following:\n",
    "\n",
    "1. Derive an array of boolean values for whether a popping sound would occur for each eruption. This array would have the same length as the number of rows in the `flame_df` table, and its values should be `True` or `False`. Assign this array to a new variable called `popping_sound`.\n",
    "\n",
    "2. Add `popping_sound` as a new column in the table `flame_df`. The column name should be \"popping_sound.\""
   ]
  },
  {
   "cell_type": "code",
   "execution_count": null,
   "metadata": {
    "tags": []
   },
   "outputs": [],
   "source": [
    "popping_sound = ...\n",
    "...\n",
    "flame_df"
   ]
  },
  {
   "cell_type": "code",
   "execution_count": null,
   "metadata": {
    "deletable": false,
    "editable": false
   },
   "outputs": [],
   "source": [
    "grader.check(\"popping\")"
   ]
  },
  {
   "cell_type": "markdown",
   "metadata": {},
   "source": [
    "**Q**: Use your boolean array `popping_sound` to index into only the rows of `flame_df` that has a popping sound. This is one line of code. Result should be a table with 219 rows and 4 columns. "
   ]
  },
  {
   "cell_type": "code",
   "execution_count": null,
   "metadata": {},
   "outputs": [],
   "source": [
    "# Write your code here!\n",
    "\n"
   ]
  },
  {
   "cell_type": "markdown",
   "metadata": {},
   "source": [
    "**Q**: What does the tilde (`~`) do in this code?"
   ]
  },
  {
   "cell_type": "markdown",
   "metadata": {},
   "source": [
    "[Write your answer here!]"
   ]
  },
  {
   "cell_type": "code",
   "execution_count": null,
   "metadata": {},
   "outputs": [],
   "source": [
    "~popping_sound"
   ]
  },
  {
   "cell_type": "code",
   "execution_count": null,
   "metadata": {},
   "outputs": [],
   "source": [
    "flame_df[~popping_sound]"
   ]
  },
  {
   "cell_type": "markdown",
   "metadata": {},
   "source": [
    "## 3. Working with the rows of the table (5 minutes)\n",
    "Often, you'll be doing operations on a single row, or a set of rows.  \n",
    "\n",
    "**Q**: The operations in the cells below are row operations.  Check what each one does by running it, and try putting in a few different numbers."
   ]
  },
  {
   "cell_type": "code",
   "execution_count": null,
   "metadata": {},
   "outputs": [],
   "source": [
    "flame_df.loc[3]"
   ]
  },
  {
   "cell_type": "code",
   "execution_count": null,
   "metadata": {},
   "outputs": [],
   "source": [
    "flame_df.head(4)"
   ]
  },
  {
   "cell_type": "code",
   "execution_count": null,
   "metadata": {},
   "outputs": [],
   "source": [
    "flame_df.tail(5)"
   ]
  },
  {
   "cell_type": "markdown",
   "metadata": {},
   "source": [
    "## 4. Boolean indexing, revisited (15 minutes)\n",
    "Let's imagine that a robot named RobotCat is collecting this data from the Fire Swamp. RobotCat follows one algorithm - when there is a fire spurt, take measurements of the height and duration, then step away **after one hour of waiting**. Of course this means that if the interval between eruptions is shorter than one hour, RobotCat might get burned (oh no!). \n",
    "\n",
    "**Q**: Out of 272 flame spurts, how many times did RobotCat get burned?  Set `burned_count` to this number. \n",
    "\n",
    "**Hint**: My solution did this in two steps.\n",
    "\n",
    "1. Derive an array of boolean values for whether the waiting interval is less than an hour. This array should have 272 values, which are all `True` or `False`. Assign this array to a new variable called `less_than_hour`.\n",
    "\n",
    "2. Using the trick we saw in lecture with boolean arrays, calculate `burned_count` from the array `less_than_hour`."
   ]
  },
  {
   "cell_type": "code",
   "execution_count": null,
   "metadata": {
    "tags": []
   },
   "outputs": [],
   "source": [
    "less_than_hour = ...\n",
    "burned_count = ..."
   ]
  },
  {
   "cell_type": "code",
   "execution_count": null,
   "metadata": {
    "deletable": false,
    "editable": false
   },
   "outputs": [],
   "source": [
    "grader.check(\"burned\")"
   ]
  },
  {
   "cell_type": "markdown",
   "metadata": {},
   "source": [
    "In an effort to get RobotCat burned less, you decide to equip it with an additional algorithm. Now, RobotCat will jump out of the way if either of the two things are true.\n",
    "\n",
    "- It has waited for an hour.\n",
    "- It hears the popping noise first while waiting.\n",
    "  \n",
    "**Q**: Now how many times does RobotCat get burned?  Assign the result to `burned_count_popping`.\n",
    "\n",
    "Before you jump into code, first discuss with your group:\n",
    "\n",
    "    RobotCat will get burned if less_than_hour is (True / False) (and / or) flame_df['popping sound'] is (True / False).  \n",
    "\n",
    "Once you have the correct answer for the three choices, this simply becomes a matter of 1) combining two boolean arrays using and (`&`) or or (`|`) to create a new boolean array, 2) then using the same trick as earlier to calculate the total number of `True` in that array.\n",
    "\n",
    "**Hint**: This new strategy should lower the number of times RobotCat gets burned! "
   ]
  },
  {
   "cell_type": "code",
   "execution_count": null,
   "metadata": {
    "tags": []
   },
   "outputs": [],
   "source": [
    "burned_count_popping = ...\n",
    "burned_count_popping"
   ]
  },
  {
   "cell_type": "code",
   "execution_count": null,
   "metadata": {
    "deletable": false,
    "editable": false
   },
   "outputs": [],
   "source": [
    "grader.check(\"burned_popping\")"
   ]
  },
  {
   "cell_type": "markdown",
   "metadata": {},
   "source": [
    "## 5. Using groupby (15 minutes)\n",
    "`groupby` is one of the most power pandas functions.  In order to see the full power of groupby, we will first add a new column called 'size' and initialize the entries to 'medium'.\n",
    "\n",
    "**Q**: Run the following two cells and try to understand what's happening. No need to write any new code.\n"
   ]
  },
  {
   "cell_type": "code",
   "execution_count": null,
   "metadata": {},
   "outputs": [],
   "source": [
    "flame_df['size']='Medium'\n",
    "flame_df.head()"
   ]
  },
  {
   "cell_type": "markdown",
   "metadata": {},
   "source": [
    "Next, we will set some of the values of column 'size' to either 'big' or 'small' depending on height:"
   ]
  },
  {
   "cell_type": "code",
   "execution_count": null,
   "metadata": {},
   "outputs": [],
   "source": [
    "flame_df.loc[flame_df['height']>35,'size']='Large'\n",
    "flame_df.loc[flame_df['height']<15,'size']='Small'\n",
    "flame_df.head()"
   ]
  },
  {
   "cell_type": "markdown",
   "metadata": {},
   "source": [
    "**Q**: Now you're curious what the average waiting time is for small, medium, and large eruptions. Use a `for`-loop and `groupby()` to `print` the average waiting time for each size of eruption.  \n",
    "\n",
    "**Hint**: Here's what our solution prints out. We also rounded our values to two numbers after the decimal point for readability, which you are not required to do.\n",
    "\n",
    "```\n",
    "Large 71.84\n",
    "Medium 71.19\n",
    "Small 69.37\n",
    "```\n"
   ]
  },
  {
   "cell_type": "code",
   "execution_count": null,
   "metadata": {
    "tags": []
   },
   "outputs": [],
   "source": [
    "..."
   ]
  },
  {
   "cell_type": "markdown",
   "metadata": {},
   "source": [
    "**Q**: So based on the values, what do you think? Is the size of the eruption related to the waiting time?  When we learn more about statistics, we'll have additional tools to answer this question more quantitatively."
   ]
  },
  {
   "cell_type": "markdown",
   "metadata": {},
   "source": [
    "[Write your answer here!]"
   ]
  },
  {
   "cell_type": "markdown",
   "metadata": {},
   "source": [
    "## 6. Bonus: The power of pandas\n",
    "Professor Rick shows Professor Harlin the Python function below (which looks like it was written by a C programmer from the 1990s) and asks \"Is there a better way to do this with Pandas? Asking for a friend.\" "
   ]
  },
  {
   "cell_type": "code",
   "execution_count": null,
   "metadata": {},
   "outputs": [],
   "source": [
    "def attribute_total( df, attribute):\n",
    "    total = 0\n",
    "    for attrib_item in df.columns:\n",
    "        if attrib_item == attribute:\n",
    "            num_rows = len(df)\n",
    "            for i in range(0,num_rows):\n",
    "                total = total + df.at[i, attrib_item]\n",
    "    return total\n",
    "\n"
   ]
  },
  {
   "cell_type": "markdown",
   "metadata": {},
   "source": [
    "First of all, what does it look like the function above trying to do?  Would the fuction above execute?  (a good way to answer a question like that is to try calling it!) Does the code do what it is supposed to?  Professor Harlin's answr to Professor Rick: \"Your 'friend' is doing things the hard way.  That's only one line of Pandas code.\"  How would you do this easily with Pandas?  Write your code below, using the string `attribute` and table `df` that are defined for you."
   ]
  },
  {
   "cell_type": "code",
   "execution_count": null,
   "metadata": {
    "tags": []
   },
   "outputs": [],
   "source": [
    "attribute = 'height'\n",
    "df = flame_df\n",
    "pandas_attribute_total = ..."
   ]
  },
  {
   "cell_type": "code",
   "execution_count": null,
   "metadata": {},
   "outputs": [],
   "source": [
    "\n"
   ]
  },
  {
   "cell_type": "markdown",
   "metadata": {
    "deletable": false,
    "editable": false
   },
   "source": [
    "## Submission\n",
    "\n",
    "Make sure you have run all cells in your notebook in order before running the cell below, so that all images/graphs appear in the output. The cell below will generate a zip file for you to submit. **Please save before exporting!**\n",
    "\n",
    "Submit zip and PDF file to Gradescope Lab 4"
   ]
  },
  {
   "cell_type": "code",
   "execution_count": null,
   "metadata": {
    "deletable": false,
    "editable": false
   },
   "outputs": [],
   "source": [
    "# Save your notebook first, then run this cell to export your submission.\n",
    "grader.export(pdf=False, run_tests=True)"
   ]
  },
  {
   "cell_type": "markdown",
   "metadata": {},
   "source": [
    " "
   ]
  }
 ],
 "metadata": {
  "kernelspec": {
   "display_name": "Python 3 (ipykernel)",
   "language": "python",
   "name": "python3"
  },
  "language_info": {
   "codemirror_mode": {
    "name": "ipython",
    "version": 3
   },
   "file_extension": ".py",
   "mimetype": "text/x-python",
   "name": "python",
   "nbconvert_exporter": "python",
   "pygments_lexer": "ipython3",
   "version": "3.11.8"
  },
  "otter": {
   "OK_FORMAT": true,
   "tests": {
    "burned": {
     "name": "burned",
     "points": 2,
     "suites": [
      {
       "cases": [
        {
         "code": ">>> assert burned_count == 77\n",
         "hidden": false,
         "locked": false
        }
       ],
       "scored": true,
       "setup": "",
       "teardown": "",
       "type": "doctest"
      }
     ]
    },
    "burned_popping": {
     "name": "burned_popping",
     "points": 2,
     "suites": [
      {
       "cases": [
        {
         "code": ">>> assert burned_count_popping == 17\n",
         "hidden": false,
         "locked": false
        }
       ],
       "scored": true,
       "setup": "",
       "teardown": "",
       "type": "doctest"
      }
     ]
    },
    "popping": {
     "name": "popping",
     "points": 2,
     "suites": [
      {
       "cases": [
        {
         "code": ">>> assert flame_df.loc[0, 'popping_sound'] == True\n>>> assert flame_df.loc[1, 'popping_sound'] == False\n",
         "hidden": false,
         "locked": false
        }
       ],
       "scored": true,
       "setup": "",
       "teardown": "",
       "type": "doctest"
      }
     ]
    },
    "read": {
     "name": "read",
     "points": 1,
     "suites": [
      {
       "cases": [
        {
         "code": ">>> assert flame_df.loc[1, 'waiting'] == 54\n",
         "hidden": false,
         "locked": false
        }
       ],
       "scored": true,
       "setup": "",
       "teardown": "",
       "type": "doctest"
      }
     ]
    }
   }
  }
 },
 "nbformat": 4,
 "nbformat_minor": 4
}
